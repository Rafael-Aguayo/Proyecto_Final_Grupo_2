{
 "cells": [
  {
   "cell_type": "markdown",
   "id": "023f0247",
   "metadata": {},
   "source": [
    "### Carga y transformación de los datos"
   ]
  },
  {
   "cell_type": "markdown",
   "id": "b26655b0",
   "metadata": {},
   "source": [
    "#### _Librerias utilizadas_"
   ]
  },
  {
   "cell_type": "code",
   "execution_count": 1,
   "id": "7f402c11",
   "metadata": {},
   "outputs": [],
   "source": [
    "## Traemos las librerias empledas\n",
    "import pandas as pd\n",
    "import numpy as np\n",
    "import matplotlib.pyplot as plt\n",
    "import seaborn as sns"
   ]
  },
  {
   "cell_type": "markdown",
   "id": "1900f71f",
   "metadata": {},
   "source": [
    "### Carga y análisis datos"
   ]
  },
  {
   "cell_type": "code",
   "execution_count": null,
   "id": "09f39ddb",
   "metadata": {},
   "outputs": [],
   "source": [
    "df = pd.read_csv(r\"C:\\Users\\pablo\\OneDrive\\Documentos\\HENRY\\Proyecto\\Inventory\\SalesFINAL12312016.csv\", parse_dates=['SalesDate'])  # Cargamos el dataset"
   ]
  },
  {
   "cell_type": "code",
   "execution_count": null,
   "id": "af1f620f",
   "metadata": {},
   "outputs": [],
   "source": [
    "df.shape #Analizamos la cantidad de filas y columnas del dataset"
   ]
  },
  {
   "cell_type": "code",
   "execution_count": null,
   "id": "fc946b8a",
   "metadata": {},
   "outputs": [],
   "source": [
    "df.info() # Información general (columnas, tipos de datos, nulos)"
   ]
  },
  {
   "cell_type": "code",
   "execution_count": null,
   "id": "780077e4",
   "metadata": {},
   "outputs": [],
   "source": [
    "#Lista de columnas\n",
    "df.columns"
   ]
  },
  {
   "cell_type": "code",
   "execution_count": null,
   "id": "ca6b65dd",
   "metadata": {},
   "outputs": [],
   "source": [
    "#Analizamos los primeros 10 registros\n",
    "df.head(10)"
   ]
  },
  {
   "cell_type": "markdown",
   "id": "95afd87f",
   "metadata": {},
   "source": [
    "#### Revision de nulos y negativos"
   ]
  },
  {
   "cell_type": "code",
   "execution_count": null,
   "id": "913a352d",
   "metadata": {},
   "outputs": [],
   "source": [
    "# Sumar nulos por columna\n",
    "nulos_por_columna = df.isnull().sum()\n",
    "\n",
    "# Filtrar solo las que tienen más de 0 nulos\n",
    "nulos_por_columna = nulos_por_columna[nulos_por_columna > 0]\n",
    "\n",
    "print(nulos_por_columna)"
   ]
  },
  {
   "cell_type": "code",
   "execution_count": null,
   "id": "833c6a82",
   "metadata": {},
   "outputs": [],
   "source": [
    "# Contar valores negativos por columna\n",
    "negativos_por_columna = (df.select_dtypes(include=[np.number]) < 0).sum()\n",
    "\n",
    "# Filtrar solo las columnas que tienen al menos un valor negativo\n",
    "negativos_por_columna = negativos_por_columna[negativos_por_columna > 0]\n",
    "\n",
    "print(negativos_por_columna)\n"
   ]
  },
  {
   "cell_type": "markdown",
   "id": "646c5b9f",
   "metadata": {},
   "source": [
    "### Revisiones especificas de columnas"
   ]
  },
  {
   "cell_type": "markdown",
   "id": "574bfcfc",
   "metadata": {},
   "source": [
    "_Analizando las columnas parece que la columna size es una suma entre las columnas 'Volume' y 'SalesQuantity'. Se decide eliminar esta columna_"
   ]
  },
  {
   "cell_type": "code",
   "execution_count": null,
   "id": "080c02ec",
   "metadata": {},
   "outputs": [],
   "source": [
    "df.drop(columns=['Size'], inplace=True)  # Eliminamos la columna 'Size' del DataFrame"
   ]
  },
  {
   "cell_type": "code",
   "execution_count": null,
   "id": "269b4550",
   "metadata": {},
   "outputs": [],
   "source": [
    "df.info() # Verificamos que la columna 'Size' haya sido eliminada"
   ]
  },
  {
   "cell_type": "markdown",
   "id": "5706e43c",
   "metadata": {},
   "source": [
    "_La columna 'Brand' parece ser realmente el 'product_id' para la columna 'Description', la cual parece ser realmente 'product'_"
   ]
  },
  {
   "cell_type": "code",
   "execution_count": null,
   "id": "5fda646a",
   "metadata": {},
   "outputs": [],
   "source": [
    "# Agrupamos por brand y contamos cuántos valores únicos de description hay por cada uno\n",
    "chequeo = df.groupby('Brand')['Description'].nunique()\n",
    "\n",
    "# Filtramos los casos donde hay más de una descripción por brand\n",
    "inconsistentes = chequeo[chequeo > 1]\n",
    "\n",
    "# Mostramos los brand con más de una descripción asociada\n",
    "print(inconsistentes)"
   ]
  },
  {
   "cell_type": "markdown",
   "id": "634798e8",
   "metadata": {},
   "source": [
    "_Los valores se coinciden en el 100% de los casos por lo que asumimos que lo planteado es correcto_"
   ]
  }
 ],
 "metadata": {
  "kernelspec": {
   "display_name": "Python 3",
   "language": "python",
   "name": "python3"
  },
  "language_info": {
   "codemirror_mode": {
    "name": "ipython",
    "version": 3
   },
   "file_extension": ".py",
   "mimetype": "text/x-python",
   "name": "python",
   "nbconvert_exporter": "python",
   "pygments_lexer": "ipython3",
   "version": "3.11.9"
  }
 },
 "nbformat": 4,
 "nbformat_minor": 5
}
