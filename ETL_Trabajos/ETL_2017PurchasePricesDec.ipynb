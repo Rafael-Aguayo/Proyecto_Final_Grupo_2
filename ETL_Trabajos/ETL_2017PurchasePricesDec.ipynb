{
 "cells": [
  {
   "cell_type": "markdown",
   "id": "485b65f3",
   "metadata": {},
   "source": [
    "# ETL"
   ]
  },
  {
   "cell_type": "code",
   "execution_count": 130,
   "id": "d32b2022",
   "metadata": {},
   "outputs": [
    {
     "data": {
      "text/plain": [
       "array(['750ml', '1000ml', '1750ml', '50ml', '375ml', '100ml 4 pk',\n",
       "       '50ml 5 pk', '100ml', '200ml', '50ml 4 pk', '50ml 3 pk', '300ml',\n",
       "       '200ml 4 pk', 'unknown', '750ml 2 pk', '250ml 4 pk', '1500ml',\n",
       "       '3000ml', '5000ml', '4000ml', '187ml 4 pk', '150ml', '187ml',\n",
       "       '500ml', '720ml', '650ml', '200ml 3 pk', '187ml 3 pk', '330ml',\n",
       "       '250ml', '750ml + 3/', '18000ml', '180ml', '750ml + 4/', '6000ml',\n",
       "       '1000ml 2 pk', '750ml 12 p', '750ml 6 pk', '20ml 5 pk',\n",
       "       '375ml 2 pk', '20000ml', '50ml 12 pk', '750ml 3 pk', '375ml 3 pk',\n",
       "       '750ml + 1/', '200ml 5 pk', '162.5ml', '400ml', '1100ml', '600ml',\n",
       "       '19500ml', '560ml', '3750ml', '750ml  3', '9000ml'], dtype=object)"
      ]
     },
     "execution_count": 130,
     "metadata": {},
     "output_type": "execute_result"
    }
   ],
   "source": [
    "import pandas as pd\n",
    "import numpy as np\n",
    "import matplotlib.pyplot as plt\n",
    "\n",
    "\n",
    "df = pd.read_csv(\"C:/Users/pablo/Desktop/proyecto_final/2017PurchasePricesDec.csv\")\n",
    "\n",
    "df.isnull().sum()\n",
    "\n",
    "\n",
    "df.dropna(how='any', inplace=True)\n",
    "\n",
    "df['Size'] = df['Size'].str.lower()\n",
    "\n",
    "df['Size'].unique()\n"
   ]
  },
  {
   "cell_type": "code",
   "execution_count": 131,
   "id": "8c12444a",
   "metadata": {},
   "outputs": [],
   "source": [
    "df_work = df.copy()\n",
    "\n",
    "# Normalización\n",
    "s = (df_work['Size'].astype('string').str.lower().str.strip()\n",
    "       .str.replace(r'\\s+', ' ', regex=True)\n",
    "       .str.replace(r'\\bpk\\.?\\b', ' pk', regex=True)     # \"pk.\" -> \" pk\"\n",
    "       .str.replace(r'(?<=\\d)\\s+p\\b', ' pk', regex=True) # \"12 p\" -> \"12 pk\"\n",
    ")\n"
   ]
  },
  {
   "cell_type": "code",
   "execution_count": 132,
   "id": "749a2e61",
   "metadata": {},
   "outputs": [],
   "source": [
    "pat = (\n",
    "    r'^\\s*'\n",
    "    r'(?P<ml_val>\\d+(?:\\.\\d+)?)\\s*ml'            # 50ml | 162.5ml | 1750ml\n",
    "    r'(?:\\s*(?P<qty>\\d{1,3})(?:\\s*pk)?)?'        # \"12 pk\" o \"ml 12\" \n",
    "    r'(?:\\s*\\+\\s*(?P<free>\\d+)\\s*/)?'            # \"+ 3/\" \n",
    "    r'\\s*$'\n",
    ")\n",
    "m = s.str.extract(pat)\n"
   ]
  },
  {
   "cell_type": "code",
   "execution_count": 133,
   "id": "6fc09449",
   "metadata": {},
   "outputs": [],
   "source": [
    "# Construir las DOS columnas\n",
    "#  'size_ml' como string \"Nml\" (redondeo por si aparece 162.5ml)\n",
    "ml_num = (pd.to_numeric(m['ml_val'], errors='coerce').round().astype('Int64'))\n",
    "size_ml = (ml_num.astype('string') + 'ml').where(ml_num.notna(), pd.NA)"
   ]
  },
  {
   "cell_type": "code",
   "execution_count": 134,
   "id": "f7100e21",
   "metadata": {},
   "outputs": [],
   "source": [
    "qty_pk = pd.to_numeric(m['qty'],  errors='coerce').astype('Int64')\n",
    "free   = pd.to_numeric(m['free'], errors='coerce').astype('Int64')\n"
   ]
  },
  {
   "cell_type": "code",
   "execution_count": 135,
   "id": "eb9bd6c5",
   "metadata": {},
   "outputs": [],
   "source": [
    "size_qty = qty_pk.where(qty_pk.notna(), free)      # si no hay pk, usa free\n",
    "size_qty = size_qty.where(size_qty.notna(), 1)     # si no hay nada, 1\n",
    "size_qty = size_qty.where(ml_num.notna(), pd.NA)   # si no hay tamaño, NA"
   ]
  },
  {
   "cell_type": "code",
   "execution_count": 146,
   "id": "ddacd7d1",
   "metadata": {},
   "outputs": [
    {
     "data": {
      "text/html": [
       "<div>\n",
       "<style scoped>\n",
       "    .dataframe tbody tr th:only-of-type {\n",
       "        vertical-align: middle;\n",
       "    }\n",
       "\n",
       "    .dataframe tbody tr th {\n",
       "        vertical-align: top;\n",
       "    }\n",
       "\n",
       "    .dataframe thead th {\n",
       "        text-align: right;\n",
       "    }\n",
       "</style>\n",
       "<table border=\"1\" class=\"dataframe\">\n",
       "  <thead>\n",
       "    <tr style=\"text-align: right;\">\n",
       "      <th></th>\n",
       "      <th>Brand</th>\n",
       "      <th>Description</th>\n",
       "      <th>Price</th>\n",
       "      <th>Size</th>\n",
       "      <th>Volume</th>\n",
       "      <th>Classification</th>\n",
       "      <th>PurchasePrice</th>\n",
       "      <th>VendorNumber</th>\n",
       "      <th>VendorName</th>\n",
       "      <th>size_ml</th>\n",
       "      <th>size_qty</th>\n",
       "    </tr>\n",
       "  </thead>\n",
       "  <tbody>\n",
       "    <tr>\n",
       "      <th>0</th>\n",
       "      <td>58</td>\n",
       "      <td>Gekkeikan Black &amp; Gold Sake</td>\n",
       "      <td>12.99</td>\n",
       "      <td>750ml</td>\n",
       "      <td>750</td>\n",
       "      <td>1</td>\n",
       "      <td>9.28</td>\n",
       "      <td>8320</td>\n",
       "      <td>SHAW ROSS INT L IMP LTD</td>\n",
       "      <td>750ml</td>\n",
       "      <td>1</td>\n",
       "    </tr>\n",
       "    <tr>\n",
       "      <th>1</th>\n",
       "      <td>62</td>\n",
       "      <td>Herradura Silver Tequila</td>\n",
       "      <td>36.99</td>\n",
       "      <td>750ml</td>\n",
       "      <td>750</td>\n",
       "      <td>1</td>\n",
       "      <td>28.67</td>\n",
       "      <td>1128</td>\n",
       "      <td>BROWN-FORMAN CORP</td>\n",
       "      <td>750ml</td>\n",
       "      <td>1</td>\n",
       "    </tr>\n",
       "    <tr>\n",
       "      <th>2</th>\n",
       "      <td>63</td>\n",
       "      <td>Herradura Reposado Tequila</td>\n",
       "      <td>38.99</td>\n",
       "      <td>750ml</td>\n",
       "      <td>750</td>\n",
       "      <td>1</td>\n",
       "      <td>30.46</td>\n",
       "      <td>1128</td>\n",
       "      <td>BROWN-FORMAN CORP</td>\n",
       "      <td>750ml</td>\n",
       "      <td>1</td>\n",
       "    </tr>\n",
       "    <tr>\n",
       "      <th>3</th>\n",
       "      <td>72</td>\n",
       "      <td>No. 3 London Dry Gin</td>\n",
       "      <td>34.99</td>\n",
       "      <td>750ml</td>\n",
       "      <td>750</td>\n",
       "      <td>1</td>\n",
       "      <td>26.11</td>\n",
       "      <td>9165</td>\n",
       "      <td>ULTRA BEVERAGE COMPANY LLP</td>\n",
       "      <td>750ml</td>\n",
       "      <td>1</td>\n",
       "    </tr>\n",
       "    <tr>\n",
       "      <th>4</th>\n",
       "      <td>75</td>\n",
       "      <td>Three Olives Tomato Vodka</td>\n",
       "      <td>14.99</td>\n",
       "      <td>750ml</td>\n",
       "      <td>750</td>\n",
       "      <td>1</td>\n",
       "      <td>10.94</td>\n",
       "      <td>7245</td>\n",
       "      <td>PROXIMO SPIRITS INC.</td>\n",
       "      <td>750ml</td>\n",
       "      <td>1</td>\n",
       "    </tr>\n",
       "  </tbody>\n",
       "</table>\n",
       "</div>"
      ],
      "text/plain": [
       "   Brand                  Description  Price   Size Volume  Classification  \\\n",
       "0     58  Gekkeikan Black & Gold Sake  12.99  750ml    750               1   \n",
       "1     62     Herradura Silver Tequila  36.99  750ml    750               1   \n",
       "2     63   Herradura Reposado Tequila  38.99  750ml    750               1   \n",
       "3     72         No. 3 London Dry Gin  34.99  750ml    750               1   \n",
       "4     75    Three Olives Tomato Vodka  14.99  750ml    750               1   \n",
       "\n",
       "   PurchasePrice  VendorNumber                   VendorName size_ml  size_qty  \n",
       "0           9.28          8320  SHAW ROSS INT L IMP LTD       750ml         1  \n",
       "1          28.67          1128  BROWN-FORMAN CORP             750ml         1  \n",
       "2          30.46          1128  BROWN-FORMAN CORP             750ml         1  \n",
       "3          26.11          9165  ULTRA BEVERAGE COMPANY LLP    750ml         1  \n",
       "4          10.94          7245  PROXIMO SPIRITS INC.          750ml         1  "
      ]
     },
     "execution_count": 146,
     "metadata": {},
     "output_type": "execute_result"
    }
   ],
   "source": [
    "# 4) Asignar al DataFrame final (solo dos columnas nuevas)\n",
    "df_work['size_ml']  = size_ml\n",
    "df_work['size_qty'] = size_qty\n",
    "\n",
    "df_work['size_ml'].unique(),df_work['size_qty'].unique()\n",
    "\n",
    "\n",
    "df_work['size_ml'].isna().sum(),df_work['size_qty'].isna().sum()\n",
    "\n",
    "df_work.head()\n",
    "\n"
   ]
  },
  {
   "cell_type": "code",
   "execution_count": 147,
   "id": "931f4dd1",
   "metadata": {},
   "outputs": [],
   "source": [
    "df_work.to_csv(\"C:/Users/pablo/Desktop/proyecto_final/2017PurchasePricesDec_limpio.csv\")"
   ]
  }
 ],
 "metadata": {
  "kernelspec": {
   "display_name": "Python 3",
   "language": "python",
   "name": "python3"
  },
  "language_info": {
   "codemirror_mode": {
    "name": "ipython",
    "version": 3
   },
   "file_extension": ".py",
   "mimetype": "text/x-python",
   "name": "python",
   "nbconvert_exporter": "python",
   "pygments_lexer": "ipython3",
   "version": "3.13.7"
  }
 },
 "nbformat": 4,
 "nbformat_minor": 5
}
