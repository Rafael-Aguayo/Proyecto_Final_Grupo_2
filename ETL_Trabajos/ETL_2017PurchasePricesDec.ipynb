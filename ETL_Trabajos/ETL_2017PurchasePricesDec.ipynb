{
 "cells": [
  {
   "cell_type": "markdown",
   "id": "485b65f3",
   "metadata": {},
   "source": [
    "# ETL"
   ]
  },
  {
   "cell_type": "code",
   "execution_count": 82,
   "id": "d32b2022",
   "metadata": {},
   "outputs": [
    {
     "data": {
      "text/plain": [
       "array(['750ml', '1000ml', '1750ml', '50ml', '375ml', '100ml 4 pk',\n",
       "       '50ml 5 pk', '100ml', '200ml', '50ml 4 pk', '50ml 3 pk', '300ml',\n",
       "       '200ml 4 pk', 'unknown', '750ml 2 pk', '250ml 4 pk', '1500ml',\n",
       "       '3000ml', '5000ml', '4000ml', '187ml 4 pk', '150ml', '187ml',\n",
       "       '500ml', '720ml', '650ml', '200ml 3 pk', '187ml 3 pk', '330ml',\n",
       "       '250ml', '750ml + 3/', '18000ml', '180ml', '750ml + 4/', '6000ml',\n",
       "       '1000ml 2 pk', '750ml 12 p', '750ml 6 pk', '20ml 5 pk',\n",
       "       '375ml 2 pk', '20000ml', '50ml 12 pk', '750ml 3 pk', '375ml 3 pk',\n",
       "       '750ml + 1/', '200ml 5 pk', '162.5ml', '400ml', '1100ml', '600ml',\n",
       "       '19500ml', '560ml', '3750ml', '750ml  3', '9000ml'], dtype=object)"
      ]
     },
     "execution_count": 82,
     "metadata": {},
     "output_type": "execute_result"
    }
   ],
   "source": [
    "import pandas as pd\n",
    "import numpy as np\n",
    "import matplotlib.pyplot as plt\n",
    "\n",
    "\n",
    "df = pd.read_csv(\"C:/Users/pablo/Desktop/proyecto_final/2017PurchasePricesDec.csv\")\n",
    "\n",
    "df.isnull().sum()\n",
    "\n",
    "\n",
    "df.dropna(how='any', inplace=True)\n",
    "\n",
    "df['Size'] = df['Size'].str.lower()\n",
    "\n",
    "df['Size'].unique()\n"
   ]
  },
  {
   "cell_type": "code",
   "execution_count": 83,
   "id": "8c12444a",
   "metadata": {},
   "outputs": [],
   "source": [
    "df_work = df.copy()\n",
    "\n",
    "# Normalización\n",
    "s = (df_work['Size'].astype('string').str.lower().str.strip()\n",
    "       .str.replace(r'\\s+', ' ', regex=True)\n",
    "       .str.replace(r'\\bpk\\.?\\b', ' pk', regex=True)     # \"pk.\" -> \" pk\"\n",
    "       .str.replace(r'(?<=\\d)\\s+p\\b', ' pk', regex=True) # \"12 p\" -> \"12 pk\"\n",
    ")\n"
   ]
  },
  {
   "cell_type": "code",
   "execution_count": 84,
   "id": "749a2e61",
   "metadata": {},
   "outputs": [],
   "source": [
    "pat = (\n",
    "    r'^\\s*'\n",
    "    r'(?P<ml_val>\\d+(?:\\.\\d+)?)\\s*ml'            # 50ml | 162.5ml | 1750ml\n",
    "    r'(?:\\s*(?P<qty>\\d{1,3})(?:\\s*pk)?)?'        # \"12 pk\" o \"ml 12\" \n",
    "    r'(?:\\s*\\+\\s*(?P<free>\\d+)\\s*/)?'            # \"+ 3/\" \n",
    "    r'\\s*$'\n",
    ")\n",
    "m = s.str.extract(pat)\n"
   ]
  },
  {
   "cell_type": "code",
   "execution_count": 85,
   "id": "6fc09449",
   "metadata": {},
   "outputs": [],
   "source": [
    "# Construir las DOS columnas\n",
    "#  'size_ml' como string \"Nml\" (redondeo por si aparece 162.5ml)\n",
    "ml_num = (pd.to_numeric(m['ml_val'], errors='coerce').round().astype('Int64'))\n",
    "size_ml = (ml_num.astype('string') + 'ml').where(ml_num.notna(), pd.NA)"
   ]
  },
  {
   "cell_type": "code",
   "execution_count": 86,
   "id": "f7100e21",
   "metadata": {},
   "outputs": [],
   "source": [
    "qty_pk = pd.to_numeric(m['qty'],  errors='coerce').astype('Int64')\n",
    "free   = pd.to_numeric(m['free'], errors='coerce').astype('Int64')\n"
   ]
  },
  {
   "cell_type": "code",
   "execution_count": 87,
   "id": "eb9bd6c5",
   "metadata": {},
   "outputs": [],
   "source": [
    "size_qty = qty_pk.where(qty_pk.notna(), free)      # si no hay pk, usa free\n",
    "size_qty = size_qty.where(size_qty.notna(), 1)     # si no hay nada, 1\n",
    "size_qty = size_qty.where(ml_num.notna(), pd.NA)   # si no hay tamaño, NA"
   ]
  },
  {
   "cell_type": "code",
   "execution_count": 111,
   "id": "ddacd7d1",
   "metadata": {},
   "outputs": [],
   "source": [
    "# 4) Asignar al DataFrame final (solo dos columnas nuevas)\n",
    "df_work['size_ml']  = size_ml\n",
    "df_work['size_qty'] = size_qty\n",
    "\n",
    "\n"
   ]
  },
  {
   "cell_type": "markdown",
   "id": "36a5e549",
   "metadata": {},
   "source": [
    "#### elimino columnas redundantes"
   ]
  },
  {
   "cell_type": "code",
   "execution_count": 89,
   "id": "bcbf54c2",
   "metadata": {},
   "outputs": [],
   "source": [
    "df_work.drop(columns=['Size', 'size_ml'], errors='ignore', inplace=True)"
   ]
  },
  {
   "cell_type": "markdown",
   "id": "c389be44",
   "metadata": {},
   "source": [
    "#### relleno con 0 los na en volume"
   ]
  },
  {
   "cell_type": "code",
   "execution_count": null,
   "id": "d120e674",
   "metadata": {},
   "outputs": [],
   "source": [
    "#relleno con 0 por que son solo 4 filas, no causa problemas en mi analisis\n",
    "\n",
    "df_work['Volume'] = df_work['Volume'].fillna(0)"
   ]
  },
  {
   "cell_type": "code",
   "execution_count": null,
   "id": "6177743a",
   "metadata": {},
   "outputs": [
    {
     "data": {
      "text/plain": [
       "0         750\n",
       "1         750\n",
       "2         750\n",
       "3         750\n",
       "4         750\n",
       "         ... \n",
       "12256     750\n",
       "12257     750\n",
       "12258     750\n",
       "12259    1500\n",
       "12260     750\n",
       "Name: Volume, Length: 12260, dtype: Int64"
      ]
     },
     "execution_count": 109,
     "metadata": {},
     "output_type": "execute_result"
    }
   ],
   "source": [
    "# Asegurar que sean numéricas (por si llegaron como texto)\n",
    "df_work['Price']   = pd.to_numeric(df_work['Price'], errors='coerce')\n",
    "df_work['PurchasePrice'] = pd.to_numeric(df_work['PurchasePrice'], errors='coerce')\n",
    "df_work['Volume']  = pd.to_numeric(df_work['Volume'], errors='coerce').round().astype('Int64')\n",
    "\n",
    "\n",
    "#creo la coluna 'gross_margin' (diferencia entre valor de compra y valor de venta)\n",
    "df_work['gross_margin']  = df_work['Price'] - df_work['PurchasePrice']\n",
    "\n",
    "\n",
    "\n",
    "\n"
   ]
  },
  {
   "cell_type": "code",
   "execution_count": 110,
   "id": "931f4dd1",
   "metadata": {},
   "outputs": [],
   "source": [
    "df_work.to_csv(\"C:/Users/pablo/Desktop/proyecto_final/2017PurchasePricesDec_limpio.csv\")"
   ]
  }
 ],
 "metadata": {
  "kernelspec": {
   "display_name": "Python 3",
   "language": "python",
   "name": "python3"
  },
  "language_info": {
   "codemirror_mode": {
    "name": "ipython",
    "version": 3
   },
   "file_extension": ".py",
   "mimetype": "text/x-python",
   "name": "python",
   "nbconvert_exporter": "python",
   "pygments_lexer": "ipython3",
   "version": "3.13.7"
  }
 },
 "nbformat": 4,
 "nbformat_minor": 5
}
