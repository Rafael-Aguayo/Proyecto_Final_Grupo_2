{
 "cells": [
  {
   "cell_type": "markdown",
   "id": "71ac9a3c",
   "metadata": {},
   "source": [
    "# ETL - Limpieza general del dataset\n"
   ]
  },
  {
   "cell_type": "markdown",
   "id": "87d0ec02",
   "metadata": {},
   "source": [
    "#### _Librerias utilizadas_"
   ]
  },
  {
   "cell_type": "code",
   "execution_count": 1,
   "id": "ac606534",
   "metadata": {},
   "outputs": [],
   "source": [
    "## Traemos las librerias empledas\n",
    "import pandas as pd\n",
    "import numpy as np\n",
    "import matplotlib.pyplot as plt\n",
    "import seaborn as sns"
   ]
  },
  {
   "cell_type": "markdown",
   "id": "05b4bb06",
   "metadata": {},
   "source": [
    "## Carga inicial\n"
   ]
  },
  {
   "cell_type": "code",
   "execution_count": 2,
   "id": "7e47153e",
   "metadata": {},
   "outputs": [
    {
     "name": "stdout",
     "output_type": "stream",
     "text": [
      "Dimensiones iniciales: (1048575, 14)\n",
      "\n",
      "Vista previa:\n"
     ]
    },
    {
     "data": {
      "application/vnd.microsoft.datawrangler.viewer.v0+json": {
       "columns": [
        {
         "name": "index",
         "rawType": "int64",
         "type": "integer"
        },
        {
         "name": "InventoryId",
         "rawType": "object",
         "type": "string"
        },
        {
         "name": "Store",
         "rawType": "int64",
         "type": "integer"
        },
        {
         "name": "Brand",
         "rawType": "int64",
         "type": "integer"
        },
        {
         "name": "Description",
         "rawType": "object",
         "type": "string"
        },
        {
         "name": "Size",
         "rawType": "object",
         "type": "string"
        },
        {
         "name": "SalesQuantity",
         "rawType": "int64",
         "type": "integer"
        },
        {
         "name": "SalesDollars",
         "rawType": "float64",
         "type": "float"
        },
        {
         "name": "SalesPrice",
         "rawType": "float64",
         "type": "float"
        },
        {
         "name": "SalesDate",
         "rawType": "datetime64[ns]",
         "type": "datetime"
        },
        {
         "name": "Volume",
         "rawType": "int64",
         "type": "integer"
        },
        {
         "name": "Classification",
         "rawType": "int64",
         "type": "integer"
        },
        {
         "name": "ExciseTax",
         "rawType": "float64",
         "type": "float"
        },
        {
         "name": "VendorNo",
         "rawType": "int64",
         "type": "integer"
        },
        {
         "name": "VendorName",
         "rawType": "object",
         "type": "string"
        }
       ],
       "ref": "cdaf5ad0-a8fc-4b60-ad94-abc08050d165",
       "rows": [
        [
         "0",
         "1_HARDERSFIELD_1004",
         "1",
         "1004",
         "Jim Beam w/2 Rocks Glasses",
         "750mL",
         "1",
         "16.49",
         "16.49",
         "2016-01-01 00:00:00",
         "750",
         "1",
         "0.79",
         "12546",
         "JIM BEAM BRANDS COMPANY    "
        ],
        [
         "1",
         "1_HARDERSFIELD_1004",
         "1",
         "1004",
         "Jim Beam w/2 Rocks Glasses",
         "750mL",
         "2",
         "32.98",
         "16.49",
         "2016-01-02 00:00:00",
         "750",
         "1",
         "1.57",
         "12546",
         "JIM BEAM BRANDS COMPANY    "
        ],
        [
         "2",
         "1_HARDERSFIELD_1004",
         "1",
         "1004",
         "Jim Beam w/2 Rocks Glasses",
         "750mL",
         "1",
         "16.49",
         "16.49",
         "2016-01-03 00:00:00",
         "750",
         "1",
         "0.79",
         "12546",
         "JIM BEAM BRANDS COMPANY    "
        ]
       ],
       "shape": {
        "columns": 14,
        "rows": 3
       }
      },
      "text/html": [
       "<div>\n",
       "<style scoped>\n",
       "    .dataframe tbody tr th:only-of-type {\n",
       "        vertical-align: middle;\n",
       "    }\n",
       "\n",
       "    .dataframe tbody tr th {\n",
       "        vertical-align: top;\n",
       "    }\n",
       "\n",
       "    .dataframe thead th {\n",
       "        text-align: right;\n",
       "    }\n",
       "</style>\n",
       "<table border=\"1\" class=\"dataframe\">\n",
       "  <thead>\n",
       "    <tr style=\"text-align: right;\">\n",
       "      <th></th>\n",
       "      <th>InventoryId</th>\n",
       "      <th>Store</th>\n",
       "      <th>Brand</th>\n",
       "      <th>Description</th>\n",
       "      <th>Size</th>\n",
       "      <th>SalesQuantity</th>\n",
       "      <th>SalesDollars</th>\n",
       "      <th>SalesPrice</th>\n",
       "      <th>SalesDate</th>\n",
       "      <th>Volume</th>\n",
       "      <th>Classification</th>\n",
       "      <th>ExciseTax</th>\n",
       "      <th>VendorNo</th>\n",
       "      <th>VendorName</th>\n",
       "    </tr>\n",
       "  </thead>\n",
       "  <tbody>\n",
       "    <tr>\n",
       "      <th>0</th>\n",
       "      <td>1_HARDERSFIELD_1004</td>\n",
       "      <td>1</td>\n",
       "      <td>1004</td>\n",
       "      <td>Jim Beam w/2 Rocks Glasses</td>\n",
       "      <td>750mL</td>\n",
       "      <td>1</td>\n",
       "      <td>16.49</td>\n",
       "      <td>16.49</td>\n",
       "      <td>2016-01-01</td>\n",
       "      <td>750</td>\n",
       "      <td>1</td>\n",
       "      <td>0.79</td>\n",
       "      <td>12546</td>\n",
       "      <td>JIM BEAM BRANDS COMPANY</td>\n",
       "    </tr>\n",
       "    <tr>\n",
       "      <th>1</th>\n",
       "      <td>1_HARDERSFIELD_1004</td>\n",
       "      <td>1</td>\n",
       "      <td>1004</td>\n",
       "      <td>Jim Beam w/2 Rocks Glasses</td>\n",
       "      <td>750mL</td>\n",
       "      <td>2</td>\n",
       "      <td>32.98</td>\n",
       "      <td>16.49</td>\n",
       "      <td>2016-01-02</td>\n",
       "      <td>750</td>\n",
       "      <td>1</td>\n",
       "      <td>1.57</td>\n",
       "      <td>12546</td>\n",
       "      <td>JIM BEAM BRANDS COMPANY</td>\n",
       "    </tr>\n",
       "    <tr>\n",
       "      <th>2</th>\n",
       "      <td>1_HARDERSFIELD_1004</td>\n",
       "      <td>1</td>\n",
       "      <td>1004</td>\n",
       "      <td>Jim Beam w/2 Rocks Glasses</td>\n",
       "      <td>750mL</td>\n",
       "      <td>1</td>\n",
       "      <td>16.49</td>\n",
       "      <td>16.49</td>\n",
       "      <td>2016-01-03</td>\n",
       "      <td>750</td>\n",
       "      <td>1</td>\n",
       "      <td>0.79</td>\n",
       "      <td>12546</td>\n",
       "      <td>JIM BEAM BRANDS COMPANY</td>\n",
       "    </tr>\n",
       "  </tbody>\n",
       "</table>\n",
       "</div>"
      ],
      "text/plain": [
       "           InventoryId  Store  Brand                 Description   Size  \\\n",
       "0  1_HARDERSFIELD_1004      1   1004  Jim Beam w/2 Rocks Glasses  750mL   \n",
       "1  1_HARDERSFIELD_1004      1   1004  Jim Beam w/2 Rocks Glasses  750mL   \n",
       "2  1_HARDERSFIELD_1004      1   1004  Jim Beam w/2 Rocks Glasses  750mL   \n",
       "\n",
       "   SalesQuantity  SalesDollars  SalesPrice  SalesDate  Volume  Classification  \\\n",
       "0              1         16.49       16.49 2016-01-01     750               1   \n",
       "1              2         32.98       16.49 2016-01-02     750               1   \n",
       "2              1         16.49       16.49 2016-01-03     750               1   \n",
       "\n",
       "   ExciseTax  VendorNo                   VendorName  \n",
       "0       0.79     12546  JIM BEAM BRANDS COMPANY      \n",
       "1       1.57     12546  JIM BEAM BRANDS COMPANY      \n",
       "2       0.79     12546  JIM BEAM BRANDS COMPANY      "
      ]
     },
     "metadata": {},
     "output_type": "display_data"
    }
   ],
   "source": [
    "df = pd.read_csv(r\"C:\\Users\\pablo\\OneDrive\\Documentos\\HENRY\\Proyecto\\Inventory\\SalesFINAL12312016.csv\", parse_dates=['SalesDate'])\n",
    "\n",
    "print(\"Dimensiones iniciales:\", df.shape)\n",
    "print(\"\\nVista previa:\")\n",
    "display(df.head(3))\n"
   ]
  },
  {
   "cell_type": "markdown",
   "id": "63606fa0",
   "metadata": {},
   "source": [
    "## Renombrar columnas a snake_case\n"
   ]
  },
  {
   "cell_type": "code",
   "execution_count": 8,
   "id": "ca43c0e7",
   "metadata": {},
   "outputs": [
    {
     "name": "stdout",
     "output_type": "stream",
     "text": [
      "\n",
      "Columnas renombradas:\n",
      "['inventory_id', 'store', 'brand', 'description', 'size', 'sales_quantity', 'sales_dollars', 'sales_price', 'sales_date', 'volume', 'classification', 'excise_tax', 'vendor_no', 'vendor_name']\n"
     ]
    }
   ],
   "source": [
    "import re\n",
    "\n",
    "df.columns = (\n",
    "    df.columns\n",
    "      .str.strip()                                # remover espacios extremos\n",
    "      .str.replace(\" \", \"_\")                      # espacios a guiones bajos\n",
    "      .str.replace(\"-\", \"_\")                      # guiones a guiones bajos\n",
    "      .str.replace(r'([a-z])([A-Z])', r'\\1_\\2', regex=True)  # minúscula + mayúscula -> minúscula + _ + mayúscula\n",
    "      .str.lower()                                # pasar todo a minúsculas\n",
    ")\n",
    "\n",
    "print(\"\\nColumnas renombradas:\")\n",
    "print(df.columns.tolist())"
   ]
  },
  {
   "cell_type": "code",
   "execution_count": 9,
   "id": "1e9d293a",
   "metadata": {},
   "outputs": [
    {
     "data": {
      "application/vnd.microsoft.datawrangler.viewer.v0+json": {
       "columns": [
        {
         "name": "index",
         "rawType": "int64",
         "type": "integer"
        },
        {
         "name": "inventory_id",
         "rawType": "object",
         "type": "string"
        },
        {
         "name": "store",
         "rawType": "int64",
         "type": "integer"
        },
        {
         "name": "brand",
         "rawType": "int64",
         "type": "integer"
        },
        {
         "name": "description",
         "rawType": "object",
         "type": "string"
        },
        {
         "name": "size",
         "rawType": "object",
         "type": "string"
        },
        {
         "name": "sales_quantity",
         "rawType": "int64",
         "type": "integer"
        },
        {
         "name": "sales_dollars",
         "rawType": "float64",
         "type": "float"
        },
        {
         "name": "sales_price",
         "rawType": "float64",
         "type": "float"
        },
        {
         "name": "sales_date",
         "rawType": "datetime64[ns]",
         "type": "datetime"
        },
        {
         "name": "volume",
         "rawType": "int64",
         "type": "integer"
        },
        {
         "name": "classification",
         "rawType": "int64",
         "type": "integer"
        },
        {
         "name": "excise_tax",
         "rawType": "float64",
         "type": "float"
        },
        {
         "name": "vendor_no",
         "rawType": "int64",
         "type": "integer"
        },
        {
         "name": "vendor_name",
         "rawType": "object",
         "type": "string"
        }
       ],
       "ref": "7af5367f-b0bc-4b0f-a917-a8196d554cdc",
       "rows": [
        [
         "0",
         "1_hardersfield_1004",
         "1",
         "1004",
         "jim beam w/2 rocks glasses",
         "750ml",
         "1",
         "16.49",
         "16.49",
         "2016-01-01 00:00:00",
         "750",
         "1",
         "0.79",
         "12546",
         "jim beam brands company"
        ],
        [
         "1",
         "1_hardersfield_1004",
         "1",
         "1004",
         "jim beam w/2 rocks glasses",
         "750ml",
         "2",
         "32.98",
         "16.49",
         "2016-01-02 00:00:00",
         "750",
         "1",
         "1.57",
         "12546",
         "jim beam brands company"
        ],
        [
         "2",
         "1_hardersfield_1004",
         "1",
         "1004",
         "jim beam w/2 rocks glasses",
         "750ml",
         "1",
         "16.49",
         "16.49",
         "2016-01-03 00:00:00",
         "750",
         "1",
         "0.79",
         "12546",
         "jim beam brands company"
        ]
       ],
       "shape": {
        "columns": 14,
        "rows": 3
       }
      },
      "text/html": [
       "<div>\n",
       "<style scoped>\n",
       "    .dataframe tbody tr th:only-of-type {\n",
       "        vertical-align: middle;\n",
       "    }\n",
       "\n",
       "    .dataframe tbody tr th {\n",
       "        vertical-align: top;\n",
       "    }\n",
       "\n",
       "    .dataframe thead th {\n",
       "        text-align: right;\n",
       "    }\n",
       "</style>\n",
       "<table border=\"1\" class=\"dataframe\">\n",
       "  <thead>\n",
       "    <tr style=\"text-align: right;\">\n",
       "      <th></th>\n",
       "      <th>inventory_id</th>\n",
       "      <th>store</th>\n",
       "      <th>brand</th>\n",
       "      <th>description</th>\n",
       "      <th>size</th>\n",
       "      <th>sales_quantity</th>\n",
       "      <th>sales_dollars</th>\n",
       "      <th>sales_price</th>\n",
       "      <th>sales_date</th>\n",
       "      <th>volume</th>\n",
       "      <th>classification</th>\n",
       "      <th>excise_tax</th>\n",
       "      <th>vendor_no</th>\n",
       "      <th>vendor_name</th>\n",
       "    </tr>\n",
       "  </thead>\n",
       "  <tbody>\n",
       "    <tr>\n",
       "      <th>0</th>\n",
       "      <td>1_hardersfield_1004</td>\n",
       "      <td>1</td>\n",
       "      <td>1004</td>\n",
       "      <td>jim beam w/2 rocks glasses</td>\n",
       "      <td>750ml</td>\n",
       "      <td>1</td>\n",
       "      <td>16.49</td>\n",
       "      <td>16.49</td>\n",
       "      <td>2016-01-01</td>\n",
       "      <td>750</td>\n",
       "      <td>1</td>\n",
       "      <td>0.79</td>\n",
       "      <td>12546</td>\n",
       "      <td>jim beam brands company</td>\n",
       "    </tr>\n",
       "    <tr>\n",
       "      <th>1</th>\n",
       "      <td>1_hardersfield_1004</td>\n",
       "      <td>1</td>\n",
       "      <td>1004</td>\n",
       "      <td>jim beam w/2 rocks glasses</td>\n",
       "      <td>750ml</td>\n",
       "      <td>2</td>\n",
       "      <td>32.98</td>\n",
       "      <td>16.49</td>\n",
       "      <td>2016-01-02</td>\n",
       "      <td>750</td>\n",
       "      <td>1</td>\n",
       "      <td>1.57</td>\n",
       "      <td>12546</td>\n",
       "      <td>jim beam brands company</td>\n",
       "    </tr>\n",
       "    <tr>\n",
       "      <th>2</th>\n",
       "      <td>1_hardersfield_1004</td>\n",
       "      <td>1</td>\n",
       "      <td>1004</td>\n",
       "      <td>jim beam w/2 rocks glasses</td>\n",
       "      <td>750ml</td>\n",
       "      <td>1</td>\n",
       "      <td>16.49</td>\n",
       "      <td>16.49</td>\n",
       "      <td>2016-01-03</td>\n",
       "      <td>750</td>\n",
       "      <td>1</td>\n",
       "      <td>0.79</td>\n",
       "      <td>12546</td>\n",
       "      <td>jim beam brands company</td>\n",
       "    </tr>\n",
       "  </tbody>\n",
       "</table>\n",
       "</div>"
      ],
      "text/plain": [
       "          inventory_id  store  brand                 description   size  \\\n",
       "0  1_hardersfield_1004      1   1004  jim beam w/2 rocks glasses  750ml   \n",
       "1  1_hardersfield_1004      1   1004  jim beam w/2 rocks glasses  750ml   \n",
       "2  1_hardersfield_1004      1   1004  jim beam w/2 rocks glasses  750ml   \n",
       "\n",
       "   sales_quantity  sales_dollars  sales_price sales_date  volume  \\\n",
       "0               1          16.49        16.49 2016-01-01     750   \n",
       "1               2          32.98        16.49 2016-01-02     750   \n",
       "2               1          16.49        16.49 2016-01-03     750   \n",
       "\n",
       "   classification  excise_tax  vendor_no              vendor_name  \n",
       "0               1        0.79      12546  jim beam brands company  \n",
       "1               1        1.57      12546  jim beam brands company  \n",
       "2               1        0.79      12546  jim beam brands company  "
      ]
     },
     "execution_count": 9,
     "metadata": {},
     "output_type": "execute_result"
    }
   ],
   "source": [
    "df.head(3)"
   ]
  },
  {
   "cell_type": "markdown",
   "id": "9c5bb6e6",
   "metadata": {},
   "source": [
    "## Normalización de texto en columnas tipo string\n"
   ]
  },
  {
   "cell_type": "code",
   "execution_count": 5,
   "id": "bb06bccb",
   "metadata": {},
   "outputs": [],
   "source": [
    "for col in df.select_dtypes(include=\"object\").columns:\n",
    "    df[col] = (df[col]\n",
    "                 .str.strip()                        # quitar espacios extremos\n",
    "                 .str.lower()                        # pasar a minúsculas\n",
    "                 .str.replace(r\"\\s+\", \" \", regex=True))  # normalizar espacios internos"
   ]
  },
  {
   "cell_type": "markdown",
   "id": "9dcee2bd",
   "metadata": {},
   "source": [
    "## Validación de duplicados\n"
   ]
  },
  {
   "cell_type": "code",
   "execution_count": 6,
   "id": "621d5877",
   "metadata": {},
   "outputs": [
    {
     "name": "stdout",
     "output_type": "stream",
     "text": [
      "\n",
      "Filas duplicadas encontradas: 0\n"
     ]
    }
   ],
   "source": [
    "duplicados = df.duplicated().sum()\n",
    "print(f\"\\nFilas duplicadas encontradas: {duplicados}\")\n"
   ]
  },
  {
   "cell_type": "markdown",
   "id": "709d01d9",
   "metadata": {},
   "source": [
    "## Guardar CSV limpio\n"
   ]
  },
  {
   "cell_type": "code",
   "execution_count": 7,
   "id": "50883b97",
   "metadata": {},
   "outputs": [
    {
     "name": "stdout",
     "output_type": "stream",
     "text": [
      "\n",
      "Dataset limpio guardado como 'sales_clean.csv'\n",
      "Dimensiones finales: (1048575, 14)\n"
     ]
    }
   ],
   "source": [
    "df.to_csv(\"sales_clean.csv\", index=False)\n",
    "\n",
    "print(\"\\nDataset limpio guardado como 'sales_clean.csv'\")\n",
    "print(\"Dimensiones finales:\", df.shape)\n"
   ]
  }
 ],
 "metadata": {
  "kernelspec": {
   "display_name": "Python 3",
   "language": "python",
   "name": "python3"
  },
  "language_info": {
   "codemirror_mode": {
    "name": "ipython",
    "version": 3
   },
   "file_extension": ".py",
   "mimetype": "text/x-python",
   "name": "python",
   "nbconvert_exporter": "python",
   "pygments_lexer": "ipython3",
   "version": "3.11.9"
  }
 },
 "nbformat": 4,
 "nbformat_minor": 5
}
