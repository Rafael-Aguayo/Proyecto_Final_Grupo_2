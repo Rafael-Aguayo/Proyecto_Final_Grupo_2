{
 "cells": [
  {
   "cell_type": "code",
   "execution_count": 1,
   "id": "2e5d3c06",
   "metadata": {},
   "outputs": [
    {
     "name": "stdout",
     "output_type": "stream",
     "text": [
      "Requirement already satisfied: scipy in c:\\users\\bruno\\appdata\\local\\programs\\python\\python313\\lib\\site-packages (1.16.2)\n",
      "Requirement already satisfied: numpy<2.6,>=1.25.2 in c:\\users\\bruno\\appdata\\local\\programs\\python\\python313\\lib\\site-packages (from scipy) (2.3.4)\n",
      "Note: you may need to restart the kernel to use updated packages.\n"
     ]
    },
    {
     "name": "stderr",
     "output_type": "stream",
     "text": [
      "\n",
      "[notice] A new release of pip is available: 25.2 -> 25.3\n",
      "[notice] To update, run: python.exe -m pip install --upgrade pip\n"
     ]
    }
   ],
   "source": [
    "pip install scipy"
   ]
  },
  {
   "cell_type": "code",
   "execution_count": 2,
   "id": "f3f70f2b",
   "metadata": {},
   "outputs": [
    {
     "name": "stdout",
     "output_type": "stream",
     "text": [
      "Requirement already satisfied: seaborn in c:\\users\\bruno\\appdata\\local\\programs\\python\\python313\\lib\\site-packages (0.13.2)\n",
      "Requirement already satisfied: numpy!=1.24.0,>=1.20 in c:\\users\\bruno\\appdata\\local\\programs\\python\\python313\\lib\\site-packages (from seaborn) (2.3.4)\n",
      "Requirement already satisfied: pandas>=1.2 in c:\\users\\bruno\\appdata\\local\\programs\\python\\python313\\lib\\site-packages (from seaborn) (2.3.3)\n",
      "Requirement already satisfied: matplotlib!=3.6.1,>=3.4 in c:\\users\\bruno\\appdata\\local\\programs\\python\\python313\\lib\\site-packages (from seaborn) (3.10.7)\n",
      "Requirement already satisfied: contourpy>=1.0.1 in c:\\users\\bruno\\appdata\\local\\programs\\python\\python313\\lib\\site-packages (from matplotlib!=3.6.1,>=3.4->seaborn) (1.3.3)\n",
      "Requirement already satisfied: cycler>=0.10 in c:\\users\\bruno\\appdata\\local\\programs\\python\\python313\\lib\\site-packages (from matplotlib!=3.6.1,>=3.4->seaborn) (0.12.1)\n",
      "Requirement already satisfied: fonttools>=4.22.0 in c:\\users\\bruno\\appdata\\local\\programs\\python\\python313\\lib\\site-packages (from matplotlib!=3.6.1,>=3.4->seaborn) (4.60.1)\n",
      "Requirement already satisfied: kiwisolver>=1.3.1 in c:\\users\\bruno\\appdata\\local\\programs\\python\\python313\\lib\\site-packages (from matplotlib!=3.6.1,>=3.4->seaborn) (1.4.9)\n",
      "Requirement already satisfied: packaging>=20.0 in c:\\users\\bruno\\appdata\\local\\programs\\python\\python313\\lib\\site-packages (from matplotlib!=3.6.1,>=3.4->seaborn) (25.0)\n",
      "Requirement already satisfied: pillow>=8 in c:\\users\\bruno\\appdata\\local\\programs\\python\\python313\\lib\\site-packages (from matplotlib!=3.6.1,>=3.4->seaborn) (12.0.0)\n",
      "Requirement already satisfied: pyparsing>=3 in c:\\users\\bruno\\appdata\\local\\programs\\python\\python313\\lib\\site-packages (from matplotlib!=3.6.1,>=3.4->seaborn) (3.2.5)\n",
      "Requirement already satisfied: python-dateutil>=2.7 in c:\\users\\bruno\\appdata\\local\\programs\\python\\python313\\lib\\site-packages (from matplotlib!=3.6.1,>=3.4->seaborn) (2.9.0.post0)\n",
      "Requirement already satisfied: pytz>=2020.1 in c:\\users\\bruno\\appdata\\local\\programs\\python\\python313\\lib\\site-packages (from pandas>=1.2->seaborn) (2025.2)\n",
      "Requirement already satisfied: tzdata>=2022.7 in c:\\users\\bruno\\appdata\\local\\programs\\python\\python313\\lib\\site-packages (from pandas>=1.2->seaborn) (2025.2)\n",
      "Requirement already satisfied: six>=1.5 in c:\\users\\bruno\\appdata\\local\\programs\\python\\python313\\lib\\site-packages (from python-dateutil>=2.7->matplotlib!=3.6.1,>=3.4->seaborn) (1.17.0)\n",
      "Note: you may need to restart the kernel to use updated packages.\n"
     ]
    },
    {
     "name": "stderr",
     "output_type": "stream",
     "text": [
      "\n",
      "[notice] A new release of pip is available: 25.2 -> 25.3\n",
      "[notice] To update, run: python.exe -m pip install --upgrade pip\n"
     ]
    }
   ],
   "source": [
    "pip install seaborn\n"
   ]
  },
  {
   "cell_type": "code",
   "execution_count": 3,
   "id": "1cf6e3c7",
   "metadata": {},
   "outputs": [],
   "source": [
    "#Abrir librerias a utilizar\n",
    "import pandas as pd\n",
    "import numpy as np\n",
    "import seaborn as sns\n",
    "import matplotlib.pyplot as plt"
   ]
  },
  {
   "cell_type": "code",
   "execution_count": 5,
   "id": "7f4c5245",
   "metadata": {},
   "outputs": [],
   "source": [
    "# Configuración general para lectura y limpieza\n",
    "CFG = {\n",
    "    \"path\": \"C:/Users/bruno/Desktop/PROYECTO ULTIMO/EndInvFINAL12312016.csv\",   # ruta a tu archivo\n",
    "    \"sep\": \",\",                     # separador CSV\n",
    "    \"encoding\": \"utf-8\",\n",
    "    \"na_like\": [\"\", \"NA\", \"N/A\", \"-\", \"null\", \"None\"]}"
   ]
  },
  {
   "cell_type": "code",
   "execution_count": 6,
   "id": "cb452f94",
   "metadata": {},
   "outputs": [],
   "source": [
    "#importar archivo y configuro el archivo \n",
    "final_de_inventario=\"C:/Users/bruno/Desktop/PROYECTO ULTIMO/EndInvFINAL12312016.csv\", #ruta del archivo\n",
    "                  \n",
    "                    "
   ]
  },
  {
   "cell_type": "code",
   "execution_count": 7,
   "id": "65229699",
   "metadata": {},
   "outputs": [],
   "source": [
    "\n",
    "#aplico la configuracion a mi archivo\n",
    "df_final_de_inventario=pd.read_csv(\n",
    "                         CFG[\"path\"],\n",
    "                         sep=CFG[\"sep\"],\n",
    "                         encoding=CFG[\"encoding\"],\n",
    "                         na_values=CFG[\"na_like\"]\n",
    ") #leer archivo"
   ]
  },
  {
   "cell_type": "code",
   "execution_count": 8,
   "id": "80fdf88f",
   "metadata": {},
   "outputs": [
    {
     "data": {
      "text/plain": [
       "(224489, 9)"
      ]
     },
     "execution_count": 8,
     "metadata": {},
     "output_type": "execute_result"
    }
   ],
   "source": [
    "df_final_de_inventario.shape#analizar la cantidad de filas y columnas"
   ]
  },
  {
   "cell_type": "code",
   "execution_count": 9,
   "id": "6ac06a1b",
   "metadata": {},
   "outputs": [
    {
     "name": "stdout",
     "output_type": "stream",
     "text": [
      "<class 'pandas.core.frame.DataFrame'>\n",
      "RangeIndex: 224489 entries, 0 to 224488\n",
      "Data columns (total 9 columns):\n",
      " #   Column       Non-Null Count   Dtype  \n",
      "---  ------       --------------   -----  \n",
      " 0   InventoryId  224489 non-null  object \n",
      " 1   Store        224489 non-null  int64  \n",
      " 2   City         223205 non-null  object \n",
      " 3   Brand        224489 non-null  int64  \n",
      " 4   Description  224489 non-null  object \n",
      " 5   Size         224489 non-null  object \n",
      " 6   onHand       224489 non-null  int64  \n",
      " 7   Price        224489 non-null  float64\n",
      " 8   endDate      224489 non-null  object \n",
      "dtypes: float64(1), int64(3), object(5)\n",
      "memory usage: 15.4+ MB\n"
     ]
    },
    {
     "data": {
      "application/vnd.microsoft.datawrangler.viewer.v0+json": {
       "columns": [
        {
         "name": "index",
         "rawType": "int64",
         "type": "integer"
        },
        {
         "name": "InventoryId",
         "rawType": "object",
         "type": "string"
        },
        {
         "name": "Store",
         "rawType": "int64",
         "type": "integer"
        },
        {
         "name": "City",
         "rawType": "object",
         "type": "string"
        },
        {
         "name": "Brand",
         "rawType": "int64",
         "type": "integer"
        },
        {
         "name": "Description",
         "rawType": "object",
         "type": "string"
        },
        {
         "name": "Size",
         "rawType": "object",
         "type": "string"
        },
        {
         "name": "onHand",
         "rawType": "int64",
         "type": "integer"
        },
        {
         "name": "Price",
         "rawType": "float64",
         "type": "float"
        },
        {
         "name": "endDate",
         "rawType": "object",
         "type": "string"
        }
       ],
       "ref": "e38558ea-cbb1-4ac2-b96f-13069743efa8",
       "rows": [
        [
         "0",
         "1_HARDERSFIELD_58",
         "1",
         "HARDERSFIELD",
         "58",
         "Gekkeikan Black & Gold Sake",
         "750mL",
         "11",
         "12.99",
         "2016-12-31"
        ],
        [
         "1",
         "1_HARDERSFIELD_62",
         "1",
         "HARDERSFIELD",
         "62",
         "Herradura Silver Tequila",
         "750mL",
         "7",
         "36.99",
         "2016-12-31"
        ],
        [
         "2",
         "1_HARDERSFIELD_63",
         "1",
         "HARDERSFIELD",
         "63",
         "Herradura Reposado Tequila",
         "750mL",
         "7",
         "38.99",
         "2016-12-31"
        ],
        [
         "3",
         "1_HARDERSFIELD_72",
         "1",
         "HARDERSFIELD",
         "72",
         "No. 3 London Dry Gin",
         "750mL",
         "4",
         "34.99",
         "2016-12-31"
        ],
        [
         "4",
         "1_HARDERSFIELD_75",
         "1",
         "HARDERSFIELD",
         "75",
         "Three Olives Tomato Vodka",
         "750mL",
         "7",
         "14.99",
         "2016-12-31"
        ]
       ],
       "shape": {
        "columns": 9,
        "rows": 5
       }
      },
      "text/html": [
       "<div>\n",
       "<style scoped>\n",
       "    .dataframe tbody tr th:only-of-type {\n",
       "        vertical-align: middle;\n",
       "    }\n",
       "\n",
       "    .dataframe tbody tr th {\n",
       "        vertical-align: top;\n",
       "    }\n",
       "\n",
       "    .dataframe thead th {\n",
       "        text-align: right;\n",
       "    }\n",
       "</style>\n",
       "<table border=\"1\" class=\"dataframe\">\n",
       "  <thead>\n",
       "    <tr style=\"text-align: right;\">\n",
       "      <th></th>\n",
       "      <th>InventoryId</th>\n",
       "      <th>Store</th>\n",
       "      <th>City</th>\n",
       "      <th>Brand</th>\n",
       "      <th>Description</th>\n",
       "      <th>Size</th>\n",
       "      <th>onHand</th>\n",
       "      <th>Price</th>\n",
       "      <th>endDate</th>\n",
       "    </tr>\n",
       "  </thead>\n",
       "  <tbody>\n",
       "    <tr>\n",
       "      <th>0</th>\n",
       "      <td>1_HARDERSFIELD_58</td>\n",
       "      <td>1</td>\n",
       "      <td>HARDERSFIELD</td>\n",
       "      <td>58</td>\n",
       "      <td>Gekkeikan Black &amp; Gold Sake</td>\n",
       "      <td>750mL</td>\n",
       "      <td>11</td>\n",
       "      <td>12.99</td>\n",
       "      <td>2016-12-31</td>\n",
       "    </tr>\n",
       "    <tr>\n",
       "      <th>1</th>\n",
       "      <td>1_HARDERSFIELD_62</td>\n",
       "      <td>1</td>\n",
       "      <td>HARDERSFIELD</td>\n",
       "      <td>62</td>\n",
       "      <td>Herradura Silver Tequila</td>\n",
       "      <td>750mL</td>\n",
       "      <td>7</td>\n",
       "      <td>36.99</td>\n",
       "      <td>2016-12-31</td>\n",
       "    </tr>\n",
       "    <tr>\n",
       "      <th>2</th>\n",
       "      <td>1_HARDERSFIELD_63</td>\n",
       "      <td>1</td>\n",
       "      <td>HARDERSFIELD</td>\n",
       "      <td>63</td>\n",
       "      <td>Herradura Reposado Tequila</td>\n",
       "      <td>750mL</td>\n",
       "      <td>7</td>\n",
       "      <td>38.99</td>\n",
       "      <td>2016-12-31</td>\n",
       "    </tr>\n",
       "    <tr>\n",
       "      <th>3</th>\n",
       "      <td>1_HARDERSFIELD_72</td>\n",
       "      <td>1</td>\n",
       "      <td>HARDERSFIELD</td>\n",
       "      <td>72</td>\n",
       "      <td>No. 3 London Dry Gin</td>\n",
       "      <td>750mL</td>\n",
       "      <td>4</td>\n",
       "      <td>34.99</td>\n",
       "      <td>2016-12-31</td>\n",
       "    </tr>\n",
       "    <tr>\n",
       "      <th>4</th>\n",
       "      <td>1_HARDERSFIELD_75</td>\n",
       "      <td>1</td>\n",
       "      <td>HARDERSFIELD</td>\n",
       "      <td>75</td>\n",
       "      <td>Three Olives Tomato Vodka</td>\n",
       "      <td>750mL</td>\n",
       "      <td>7</td>\n",
       "      <td>14.99</td>\n",
       "      <td>2016-12-31</td>\n",
       "    </tr>\n",
       "  </tbody>\n",
       "</table>\n",
       "</div>"
      ],
      "text/plain": [
       "         InventoryId  Store          City  Brand                  Description  \\\n",
       "0  1_HARDERSFIELD_58      1  HARDERSFIELD     58  Gekkeikan Black & Gold Sake   \n",
       "1  1_HARDERSFIELD_62      1  HARDERSFIELD     62     Herradura Silver Tequila   \n",
       "2  1_HARDERSFIELD_63      1  HARDERSFIELD     63   Herradura Reposado Tequila   \n",
       "3  1_HARDERSFIELD_72      1  HARDERSFIELD     72         No. 3 London Dry Gin   \n",
       "4  1_HARDERSFIELD_75      1  HARDERSFIELD     75    Three Olives Tomato Vodka   \n",
       "\n",
       "    Size  onHand  Price     endDate  \n",
       "0  750mL      11  12.99  2016-12-31  \n",
       "1  750mL       7  36.99  2016-12-31  \n",
       "2  750mL       7  38.99  2016-12-31  \n",
       "3  750mL       4  34.99  2016-12-31  \n",
       "4  750mL       7  14.99  2016-12-31  "
      ]
     },
     "execution_count": 9,
     "metadata": {},
     "output_type": "execute_result"
    }
   ],
   "source": [
    "# Muestra información general de columnas, tipos de datos y nulos\n",
    "df_final_de_inventario.info() \n",
    "\n",
    "# Vista rápida de las primeras filas\n",
    "df_final_de_inventario.head() "
   ]
  },
  {
   "cell_type": "code",
   "execution_count": 10,
   "id": "7471ab3d",
   "metadata": {},
   "outputs": [
    {
     "data": {
      "application/vnd.microsoft.datawrangler.viewer.v0+json": {
       "columns": [
        {
         "name": "index",
         "rawType": "object",
         "type": "string"
        },
        {
         "name": "Store",
         "rawType": "float64",
         "type": "float"
        },
        {
         "name": "Brand",
         "rawType": "float64",
         "type": "float"
        },
        {
         "name": "onHand",
         "rawType": "float64",
         "type": "float"
        },
        {
         "name": "Price",
         "rawType": "float64",
         "type": "float"
        }
       ],
       "ref": "68efefcc-d597-47f2-9065-c052a44a0362",
       "rows": [
        [
         "count",
         "224489.0",
         "224489.0",
         "224489.0",
         "224489.0"
        ],
        [
         "mean",
         "43.505739702168036",
         "14356.370512586363",
         "21.763988435959",
         "23.585582946157725"
        ],
        [
         "std",
         "23.326415082417668",
         "13118.46785147184",
         "37.2335757250173",
         "79.20277501683795"
        ],
        [
         "min",
         "1.0",
         "58.0",
         "0.0",
         "0.49"
        ],
        [
         "25%",
         "23.0",
         "3798.0",
         "7.0",
         "9.99"
        ],
        [
         "50%",
         "44.0",
         "8259.0",
         "12.0",
         "14.99"
        ],
        [
         "75%",
         "66.0",
         "23965.0",
         "22.0",
         "23.49"
        ],
        [
         "max",
         "81.0",
         "90631.0",
         "3676.0",
         "13999.9"
        ]
       ],
       "shape": {
        "columns": 4,
        "rows": 8
       }
      },
      "text/html": [
       "<div>\n",
       "<style scoped>\n",
       "    .dataframe tbody tr th:only-of-type {\n",
       "        vertical-align: middle;\n",
       "    }\n",
       "\n",
       "    .dataframe tbody tr th {\n",
       "        vertical-align: top;\n",
       "    }\n",
       "\n",
       "    .dataframe thead th {\n",
       "        text-align: right;\n",
       "    }\n",
       "</style>\n",
       "<table border=\"1\" class=\"dataframe\">\n",
       "  <thead>\n",
       "    <tr style=\"text-align: right;\">\n",
       "      <th></th>\n",
       "      <th>Store</th>\n",
       "      <th>Brand</th>\n",
       "      <th>onHand</th>\n",
       "      <th>Price</th>\n",
       "    </tr>\n",
       "  </thead>\n",
       "  <tbody>\n",
       "    <tr>\n",
       "      <th>count</th>\n",
       "      <td>224489.000000</td>\n",
       "      <td>224489.000000</td>\n",
       "      <td>224489.000000</td>\n",
       "      <td>224489.000000</td>\n",
       "    </tr>\n",
       "    <tr>\n",
       "      <th>mean</th>\n",
       "      <td>43.505740</td>\n",
       "      <td>14356.370513</td>\n",
       "      <td>21.763988</td>\n",
       "      <td>23.585583</td>\n",
       "    </tr>\n",
       "    <tr>\n",
       "      <th>std</th>\n",
       "      <td>23.326415</td>\n",
       "      <td>13118.467851</td>\n",
       "      <td>37.233576</td>\n",
       "      <td>79.202775</td>\n",
       "    </tr>\n",
       "    <tr>\n",
       "      <th>min</th>\n",
       "      <td>1.000000</td>\n",
       "      <td>58.000000</td>\n",
       "      <td>0.000000</td>\n",
       "      <td>0.490000</td>\n",
       "    </tr>\n",
       "    <tr>\n",
       "      <th>25%</th>\n",
       "      <td>23.000000</td>\n",
       "      <td>3798.000000</td>\n",
       "      <td>7.000000</td>\n",
       "      <td>9.990000</td>\n",
       "    </tr>\n",
       "    <tr>\n",
       "      <th>50%</th>\n",
       "      <td>44.000000</td>\n",
       "      <td>8259.000000</td>\n",
       "      <td>12.000000</td>\n",
       "      <td>14.990000</td>\n",
       "    </tr>\n",
       "    <tr>\n",
       "      <th>75%</th>\n",
       "      <td>66.000000</td>\n",
       "      <td>23965.000000</td>\n",
       "      <td>22.000000</td>\n",
       "      <td>23.490000</td>\n",
       "    </tr>\n",
       "    <tr>\n",
       "      <th>max</th>\n",
       "      <td>81.000000</td>\n",
       "      <td>90631.000000</td>\n",
       "      <td>3676.000000</td>\n",
       "      <td>13999.900000</td>\n",
       "    </tr>\n",
       "  </tbody>\n",
       "</table>\n",
       "</div>"
      ],
      "text/plain": [
       "               Store          Brand         onHand          Price\n",
       "count  224489.000000  224489.000000  224489.000000  224489.000000\n",
       "mean       43.505740   14356.370513      21.763988      23.585583\n",
       "std        23.326415   13118.467851      37.233576      79.202775\n",
       "min         1.000000      58.000000       0.000000       0.490000\n",
       "25%        23.000000    3798.000000       7.000000       9.990000\n",
       "50%        44.000000    8259.000000      12.000000      14.990000\n",
       "75%        66.000000   23965.000000      22.000000      23.490000\n",
       "max        81.000000   90631.000000    3676.000000   13999.900000"
      ]
     },
     "execution_count": 10,
     "metadata": {},
     "output_type": "execute_result"
    }
   ],
   "source": [
    "# Estadísticas numéricas básicas; solo muestras las columnas numericas\n",
    "df_final_de_inventario.describe()"
   ]
  },
  {
   "cell_type": "code",
   "execution_count": 11,
   "id": "f42651e2",
   "metadata": {},
   "outputs": [
    {
     "data": {
      "application/vnd.microsoft.datawrangler.viewer.v0+json": {
       "columns": [
        {
         "name": "index",
         "rawType": "object",
         "type": "string"
        },
        {
         "name": "0",
         "rawType": "int64",
         "type": "integer"
        }
       ],
       "ref": "d56777c2-63e6-4540-9079-e59f067ac81e",
       "rows": [
        [
         "InventoryId",
         "0"
        ],
        [
         "Store",
         "0"
        ],
        [
         "City",
         "1284"
        ],
        [
         "Brand",
         "0"
        ],
        [
         "Description",
         "0"
        ],
        [
         "Size",
         "0"
        ],
        [
         "onHand",
         "0"
        ],
        [
         "Price",
         "0"
        ],
        [
         "endDate",
         "0"
        ]
       ],
       "shape": {
        "columns": 1,
        "rows": 9
       }
      },
      "text/plain": [
       "InventoryId       0\n",
       "Store             0\n",
       "City           1284\n",
       "Brand             0\n",
       "Description       0\n",
       "Size              0\n",
       "onHand            0\n",
       "Price             0\n",
       "endDate           0\n",
       "dtype: int64"
      ]
     },
     "execution_count": 11,
     "metadata": {},
     "output_type": "execute_result"
    }
   ],
   "source": [
    "# Conteo de valores nulos por columna\n",
    "df_final_de_inventario.isna().sum()"
   ]
  },
  {
   "cell_type": "code",
   "execution_count": 12,
   "id": "87c03456",
   "metadata": {},
   "outputs": [],
   "source": [
    "#realizar copia \n",
    "df_final_de_inventario2=df_final_de_inventario.copy()"
   ]
  },
  {
   "cell_type": "code",
   "execution_count": null,
   "id": "b81459f7",
   "metadata": {},
   "outputs": [],
   "source": [
    "#eliminar datos nulos \n",
    "df_final_de_inventario2 = df_final_de_inventario2.dropna(subset=[\"City\"], how=\"all\")\n"
   ]
  },
  {
   "cell_type": "code",
   "execution_count": 14,
   "id": "0bf35280",
   "metadata": {},
   "outputs": [
    {
     "data": {
      "application/vnd.microsoft.datawrangler.viewer.v0+json": {
       "columns": [
        {
         "name": "index",
         "rawType": "object",
         "type": "string"
        },
        {
         "name": "0",
         "rawType": "int64",
         "type": "integer"
        }
       ],
       "ref": "b99362f3-1574-4470-81da-ec6b6c81b56b",
       "rows": [
        [
         "InventoryId",
         "0"
        ],
        [
         "Store",
         "0"
        ],
        [
         "City",
         "0"
        ],
        [
         "Brand",
         "0"
        ],
        [
         "Description",
         "0"
        ],
        [
         "Size",
         "0"
        ],
        [
         "onHand",
         "0"
        ],
        [
         "Price",
         "0"
        ],
        [
         "endDate",
         "0"
        ]
       ],
       "shape": {
        "columns": 1,
        "rows": 9
       }
      },
      "text/plain": [
       "InventoryId    0\n",
       "Store          0\n",
       "City           0\n",
       "Brand          0\n",
       "Description    0\n",
       "Size           0\n",
       "onHand         0\n",
       "Price          0\n",
       "endDate        0\n",
       "dtype: int64"
      ]
     },
     "execution_count": 14,
     "metadata": {},
     "output_type": "execute_result"
    }
   ],
   "source": [
    "df_final_de_inventario2.isna().sum() #VERIFICO DATOS NUELOS."
   ]
  },
  {
   "cell_type": "code",
   "execution_count": 15,
   "id": "8ed2fd84",
   "metadata": {},
   "outputs": [
    {
     "name": "stdout",
     "output_type": "stream",
     "text": [
      "<class 'pandas.core.frame.DataFrame'>\n",
      "Index: 223205 entries, 0 to 224488\n",
      "Data columns (total 9 columns):\n",
      " #   Column       Non-Null Count   Dtype  \n",
      "---  ------       --------------   -----  \n",
      " 0   InventoryId  223205 non-null  object \n",
      " 1   Store        223205 non-null  int64  \n",
      " 2   City         223205 non-null  object \n",
      " 3   Brand        223205 non-null  int64  \n",
      " 4   Description  223205 non-null  object \n",
      " 5   Size         223205 non-null  object \n",
      " 6   onHand       223205 non-null  int64  \n",
      " 7   Price        223205 non-null  float64\n",
      " 8   endDate      223205 non-null  object \n",
      "dtypes: float64(1), int64(3), object(5)\n",
      "memory usage: 17.0+ MB\n"
     ]
    }
   ],
   "source": [
    "df_final_de_inventario2.info() #Se corrobora que las filas tiene la misma cantidad de registros"
   ]
  },
  {
   "cell_type": "code",
   "execution_count": 16,
   "id": "c7367a71",
   "metadata": {},
   "outputs": [
    {
     "name": "stdout",
     "output_type": "stream",
     "text": [
      "['InventoryId', 'Store', 'City', 'Brand', 'Description', 'Size', 'onHand', 'Price', 'endDate']\n"
     ]
    }
   ],
   "source": [
    "print(df_final_de_inventario2.columns.tolist())"
   ]
  },
  {
   "cell_type": "code",
   "execution_count": 17,
   "id": "06b4f905",
   "metadata": {},
   "outputs": [
    {
     "name": "stdout",
     "output_type": "stream",
     "text": [
      "✅ Columnas convertidas a snake_case:\n",
      "['inventoryid', 'store', 'city', 'brand', 'description', 'size', 'onhand', 'price', 'enddate']\n",
      "\n",
      "✅ Columnas de fecha convertidas al formato datetime:\n",
      "0   2016-12-31\n",
      "1   2016-12-31\n",
      "2   2016-12-31\n",
      "3   2016-12-31\n",
      "4   2016-12-31\n",
      "Name: enddate, dtype: datetime64[ns]\n"
     ]
    },
    {
     "name": "stderr",
     "output_type": "stream",
     "text": [
      "C:\\Users\\bruno\\AppData\\Local\\Temp\\ipykernel_22492\\370376773.py:14: UserWarning: Parsing dates in %Y-%m-%d format when dayfirst=True was specified. Pass `dayfirst=False` or specify a format to silence this warning.\n",
      "  df_final_de_inventario2[\"enddate\"]= pd.to_datetime(df_final_de_inventario2[\"enddate\"], errors='coerce', dayfirst=True)\n"
     ]
    }
   ],
   "source": [
    "# 2️⃣ Renombrar todas las columnas a formato snake_case\n",
    "df_final_de_inventario2.columns = (\n",
    "    df_final_de_inventario2.columns\n",
    "      .str.strip()                                     # elimina espacios al principio/fin\n",
    "      .str.lower()                                    # convierte a minúsculas\n",
    "      .str.normalize('NFKD')                          # quita tildes\n",
    "      .str.encode('ascii', errors='ignore')           # quita caracteres especiales\n",
    "      .str.decode('utf-8')\n",
    "      .str.replace(r'\\s+', '_', regex=True)           # reemplaza espacios por \"_\"\n",
    "      .str.replace(r'[^a-z0-9_]', '', regex=True)     # elimina caracteres raros\n",
    ")\n",
    "\n",
    "# 4️⃣ Convertir esas columnas al tipo datetime (día/mes/año)\n",
    "df_final_de_inventario2[\"enddate\"]= pd.to_datetime(df_final_de_inventario2[\"enddate\"], errors='coerce', dayfirst=True)\n",
    "\n",
    "# 5️⃣ (Opcional) Mostrar resultados\n",
    "print(\"✅ Columnas convertidas a snake_case:\")\n",
    "print(df_final_de_inventario2.columns.to_list())\n",
    "\n",
    "print(\"\\n✅ Columnas de fecha convertidas al formato datetime:\")\n",
    "print(df_final_de_inventario2[\"enddate\"].head())\n",
    "\n",
    "\n"
   ]
  },
  {
   "cell_type": "code",
   "execution_count": 18,
   "id": "a34d98a4",
   "metadata": {},
   "outputs": [
    {
     "name": "stdout",
     "output_type": "stream",
     "text": [
      "Tamaño del set antes de eliminar las filas repetidas: (223205, 9)\n",
      "Tamañño del set despues de elimminar las filas repetidas: (223205, 9)\n"
     ]
    }
   ],
   "source": [
    "#Eliminar filas repetidas\n",
    "print (f\"Tamaño del set antes de eliminar las filas repetidas: {df_final_de_inventario2.shape}\")\n",
    "df_final_de_inventario2.drop_duplicates(inplace=True)\n",
    "print(f\"Tamañño del set despues de elimminar las filas repetidas: {df_final_de_inventario2.shape}\")"
   ]
  },
  {
   "cell_type": "code",
   "execution_count": 19,
   "id": "0b1d0847",
   "metadata": {},
   "outputs": [
    {
     "name": "stderr",
     "output_type": "stream",
     "text": [
      "<>:6: SyntaxWarning: invalid escape sequence '\\.'\n",
      "<>:6: SyntaxWarning: invalid escape sequence '\\.'\n",
      "C:\\Users\\bruno\\AppData\\Local\\Temp\\ipykernel_22492\\3383538492.py:6: SyntaxWarning: invalid escape sequence '\\.'\n",
      "  usa_coma_decimal = muestra.str.count(',').sum() > muestra.str.count('\\.').sum()\n"
     ]
    }
   ],
   "source": [
    "def limpiar_decimales(columna):\n",
    "    s = columna.astype(str).str.strip()\n",
    "    \n",
    "    # Detectar si la mayoría usa coma como separador decimal\n",
    "    muestra = s.sample(min(200, len(s)))  # revisar hasta 200 filas\n",
    "    usa_coma_decimal = muestra.str.count(',').sum() > muestra.str.count('\\.').sum()\n",
    "\n",
    "    # Detectar sufijos 'k' (mil)\n",
    "    tiene_k = s.str.contains('k', na=False)\n",
    "     # Limpieza según formato decimal\n",
    "    if usa_coma_decimal:\n",
    "        # Quita puntos de miles y cambia coma por punto decimal\n",
    "        s = s.str.replace('.', '', regex=False)\n",
    "        s = s.str.replace(',', '.', regex=False)\n",
    "    else:\n",
    "        # Quita comas de miles\n",
    "        s = s.str.replace(',', '', regex=False)\n",
    "    \n",
    "    # Convierte a número y redondea a 2 decimales\n",
    "    return pd.to_numeric(s, errors='coerce').round(2)\n"
   ]
  },
  {
   "cell_type": "code",
   "execution_count": 20,
   "id": "b8325734",
   "metadata": {},
   "outputs": [],
   "source": [
    "df_final_de_inventario2['price'] = limpiar_decimales(df_final_de_inventario2['price'])\n",
    "df_final_de_inventario2['onhand'] = limpiar_decimales(df_final_de_inventario2['onhand'])\n",
    "df_final_de_inventario2['brand'] = limpiar_decimales(df_final_de_inventario2['brand'])\n"
   ]
  },
  {
   "cell_type": "code",
   "execution_count": 21,
   "id": "1797eddd",
   "metadata": {},
   "outputs": [
    {
     "name": "stdout",
     "output_type": "stream",
     "text": [
      "inventoryid            object\n",
      "store                   int64\n",
      "city                   object\n",
      "brand                   int64\n",
      "description            object\n",
      "size                   object\n",
      "onhand                  int64\n",
      "price                 float64\n",
      "enddate        datetime64[ns]\n",
      "dtype: object\n"
     ]
    }
   ],
   "source": [
    "df_final_de_inventario2[['price', 'onhand', 'brand']].head()\n",
    "print(df_final_de_inventario2.dtypes)\n"
   ]
  },
  {
   "cell_type": "code",
   "execution_count": 22,
   "id": "d64922d6",
   "metadata": {},
   "outputs": [
    {
     "data": {
      "application/vnd.microsoft.datawrangler.viewer.v0+json": {
       "columns": [
        {
         "name": "index",
         "rawType": "object",
         "type": "string"
        },
        {
         "name": "store",
         "rawType": "float64",
         "type": "float"
        },
        {
         "name": "brand",
         "rawType": "float64",
         "type": "float"
        },
        {
         "name": "onhand",
         "rawType": "float64",
         "type": "float"
        },
        {
         "name": "price",
         "rawType": "float64",
         "type": "float"
        },
        {
         "name": "enddate",
         "rawType": "object",
         "type": "unknown"
        }
       ],
       "ref": "f776258e-d9b4-437b-8995-25ecd2efd4b7",
       "rows": [
        [
         "count",
         "223205.0",
         "223205.0",
         "223205.0",
         "223205.0",
         "223205"
        ],
        [
         "mean",
         "43.49139132187899",
         "14368.633735803409",
         "21.88918707018212",
         "23.61661038059183",
         "2016-12-31 00:00:00"
        ],
        [
         "min",
         "1.0",
         "58.0",
         "0.0",
         "0.49",
         "2016-12-31 00:00:00"
        ],
        [
         "25%",
         "23.0",
         "3799.0",
         "7.0",
         "9.99",
         "2016-12-31 00:00:00"
        ],
        [
         "50%",
         "44.0",
         "8264.0",
         "12.0",
         "14.99",
         "2016-12-31 00:00:00"
        ],
        [
         "75%",
         "66.0",
         "23974.0",
         "22.0",
         "23.99",
         "2016-12-31 00:00:00"
        ],
        [
         "max",
         "81.0",
         "90631.0",
         "3676.0",
         "13999.9",
         "2016-12-31 00:00:00"
        ],
        [
         "std",
         "23.39264311692024",
         "13119.090023799254",
         "37.30380257615694",
         "79.42229571947908",
         null
        ]
       ],
       "shape": {
        "columns": 5,
        "rows": 8
       }
      },
      "text/html": [
       "<div>\n",
       "<style scoped>\n",
       "    .dataframe tbody tr th:only-of-type {\n",
       "        vertical-align: middle;\n",
       "    }\n",
       "\n",
       "    .dataframe tbody tr th {\n",
       "        vertical-align: top;\n",
       "    }\n",
       "\n",
       "    .dataframe thead th {\n",
       "        text-align: right;\n",
       "    }\n",
       "</style>\n",
       "<table border=\"1\" class=\"dataframe\">\n",
       "  <thead>\n",
       "    <tr style=\"text-align: right;\">\n",
       "      <th></th>\n",
       "      <th>store</th>\n",
       "      <th>brand</th>\n",
       "      <th>onhand</th>\n",
       "      <th>price</th>\n",
       "      <th>enddate</th>\n",
       "    </tr>\n",
       "  </thead>\n",
       "  <tbody>\n",
       "    <tr>\n",
       "      <th>count</th>\n",
       "      <td>223205.000000</td>\n",
       "      <td>223205.000000</td>\n",
       "      <td>223205.000000</td>\n",
       "      <td>223205.000000</td>\n",
       "      <td>223205</td>\n",
       "    </tr>\n",
       "    <tr>\n",
       "      <th>mean</th>\n",
       "      <td>43.491391</td>\n",
       "      <td>14368.633736</td>\n",
       "      <td>21.889187</td>\n",
       "      <td>23.616610</td>\n",
       "      <td>2016-12-31 00:00:00</td>\n",
       "    </tr>\n",
       "    <tr>\n",
       "      <th>min</th>\n",
       "      <td>1.000000</td>\n",
       "      <td>58.000000</td>\n",
       "      <td>0.000000</td>\n",
       "      <td>0.490000</td>\n",
       "      <td>2016-12-31 00:00:00</td>\n",
       "    </tr>\n",
       "    <tr>\n",
       "      <th>25%</th>\n",
       "      <td>23.000000</td>\n",
       "      <td>3799.000000</td>\n",
       "      <td>7.000000</td>\n",
       "      <td>9.990000</td>\n",
       "      <td>2016-12-31 00:00:00</td>\n",
       "    </tr>\n",
       "    <tr>\n",
       "      <th>50%</th>\n",
       "      <td>44.000000</td>\n",
       "      <td>8264.000000</td>\n",
       "      <td>12.000000</td>\n",
       "      <td>14.990000</td>\n",
       "      <td>2016-12-31 00:00:00</td>\n",
       "    </tr>\n",
       "    <tr>\n",
       "      <th>75%</th>\n",
       "      <td>66.000000</td>\n",
       "      <td>23974.000000</td>\n",
       "      <td>22.000000</td>\n",
       "      <td>23.990000</td>\n",
       "      <td>2016-12-31 00:00:00</td>\n",
       "    </tr>\n",
       "    <tr>\n",
       "      <th>max</th>\n",
       "      <td>81.000000</td>\n",
       "      <td>90631.000000</td>\n",
       "      <td>3676.000000</td>\n",
       "      <td>13999.900000</td>\n",
       "      <td>2016-12-31 00:00:00</td>\n",
       "    </tr>\n",
       "    <tr>\n",
       "      <th>std</th>\n",
       "      <td>23.392643</td>\n",
       "      <td>13119.090024</td>\n",
       "      <td>37.303803</td>\n",
       "      <td>79.422296</td>\n",
       "      <td>NaN</td>\n",
       "    </tr>\n",
       "  </tbody>\n",
       "</table>\n",
       "</div>"
      ],
      "text/plain": [
       "               store          brand         onhand          price  \\\n",
       "count  223205.000000  223205.000000  223205.000000  223205.000000   \n",
       "mean       43.491391   14368.633736      21.889187      23.616610   \n",
       "min         1.000000      58.000000       0.000000       0.490000   \n",
       "25%        23.000000    3799.000000       7.000000       9.990000   \n",
       "50%        44.000000    8264.000000      12.000000      14.990000   \n",
       "75%        66.000000   23974.000000      22.000000      23.990000   \n",
       "max        81.000000   90631.000000    3676.000000   13999.900000   \n",
       "std        23.392643   13119.090024      37.303803      79.422296   \n",
       "\n",
       "                   enddate  \n",
       "count               223205  \n",
       "mean   2016-12-31 00:00:00  \n",
       "min    2016-12-31 00:00:00  \n",
       "25%    2016-12-31 00:00:00  \n",
       "50%    2016-12-31 00:00:00  \n",
       "75%    2016-12-31 00:00:00  \n",
       "max    2016-12-31 00:00:00  \n",
       "std                    NaN  "
      ]
     },
     "execution_count": 22,
     "metadata": {},
     "output_type": "execute_result"
    }
   ],
   "source": [
    "df_final_de_inventario2.describe()"
   ]
  },
  {
   "cell_type": "code",
   "execution_count": 23,
   "id": "86b05e41",
   "metadata": {},
   "outputs": [
    {
     "data": {
      "image/png": "[encoded data removed]",
      "text/plain": [
       "<Figure size 640x480 with 1 Axes>"
      ]
     },
     "metadata": {},
     "output_type": "display_data"
    },
    {
     "data": {
      "image/png": "[encoded data removed]",
      "text/plain": [
       "<Figure size 640x480 with 1 Axes>"
      ]
     },
     "metadata": {},
     "output_type": "display_data"
    }
   ],
   "source": [
    "#Realizar grafico para ver valores extremos\n",
    "\n",
    "sns.boxplot(x=df_final_de_inventario2['price'])\n",
    "plt.title('Distribución de precios')\n",
    "plt.show()\n",
    "\n",
    "sns.boxplot(x=df_final_de_inventario2['onhand'])\n",
    "plt.title('Distribución de stock (onHand)')\n",
    "plt.show()\n"
   ]
  },
  {
   "cell_type": "code",
   "execution_count": 24,
   "id": "0a890560",
   "metadata": {},
   "outputs": [
    {
     "name": "stdout",
     "output_type": "stream",
     "text": [
      "Filas originales: 223205\n",
      "Filas después del filtrado: 223205\n",
      "Límites usados: -11.01 a 44.99\n"
     ]
    }
   ],
   "source": [
    "Q1 = df_final_de_inventario2['price'].quantile(0.25)\n",
    "Q3 = df_final_de_inventario2['price'].quantile(0.75)\n",
    "IQR = Q3 - Q1\n",
    "lim_inf = Q1 - 1.5 * IQR\n",
    "lim_sup = Q3 + 1.5 * IQR\n",
    "\n",
    "df_winsor = df_final_de_inventario2.copy()\n",
    "df_winsor['price'] = np.where(\n",
    "    df_winsor['price'] > lim_sup, lim_sup,\n",
    "    np.where(df_winsor['price'] < lim_inf, lim_inf, df_winsor['price']))\n",
    "\n",
    "print(f\"Filas originales: {len(df_final_de_inventario2)}\")\n",
    "print(f\"Filas después del filtrado: {len(df_winsor)}\")\n",
    "print(f\"Límites usados: {lim_inf:.2f} a {lim_sup:.2f}\")\n"
   ]
  },
  {
   "cell_type": "code",
   "execution_count": 25,
   "id": "ef9c6467",
   "metadata": {},
   "outputs": [
    {
     "name": "stdout",
     "output_type": "stream",
     "text": [
      "Filas originales: 223205\n",
      "Filas después del filtrado: 223205\n",
      "Límites usados: -15.50 a 44.50\n"
     ]
    }
   ],
   "source": [
    "Q1 = df_final_de_inventario2['onhand'].quantile(0.25)\n",
    "Q3 = df_final_de_inventario2['onhand'].quantile(0.75)\n",
    "IQR = Q3 - Q1\n",
    "lim_inf = Q1 - 1.5 * IQR\n",
    "lim_sup = Q3 + 1.5 * IQR\n",
    "\n",
    "df_winsor['onhand'] = np.where(\n",
    "    df_winsor['onhand'] > lim_sup, lim_sup,\n",
    "    np.where(df_winsor['onhand'] < lim_inf, lim_inf, df_winsor['onhand']))\n",
    "\n",
    "print(f\"Filas originales: {len(df_final_de_inventario2)}\")\n",
    "print(f\"Filas después del filtrado: {len(df_winsor)}\")\n",
    "print(f\"Límites usados: {lim_inf:.2f} a {lim_sup:.2f}\")"
   ]
  },
  {
   "cell_type": "code",
   "execution_count": 26,
   "id": "4e9e5799",
   "metadata": {},
   "outputs": [
    {
     "name": "stdout",
     "output_type": "stream",
     "text": [
      "\n",
      "📊 Estadísticas ANTES:\n",
      "               price         onhand\n",
      "count  223205.000000  223205.000000\n",
      "mean       23.616610      21.889187\n",
      "std        79.422296      37.303803\n",
      "min         0.490000       0.000000\n",
      "25%         9.990000       7.000000\n",
      "50%        14.990000      12.000000\n",
      "75%        23.990000      22.000000\n",
      "max     13999.900000    3676.000000\n",
      "\n",
      "📊 Estadísticas DESPUÉS (winsorizado):\n",
      "               price         onhand\n",
      "count  223205.000000  223205.000000\n",
      "mean       18.455982      16.451280\n",
      "std        11.925975      13.153494\n",
      "min         0.490000       0.000000\n",
      "25%         9.990000       7.000000\n",
      "50%        14.990000      12.000000\n",
      "75%        23.990000      22.000000\n",
      "max        44.990000      44.500000\n"
     ]
    }
   ],
   "source": [
    "print(\"\\n📊 Estadísticas ANTES:\")\n",
    "print(df_final_de_inventario2[[\"price\",\"onhand\"]].describe())\n",
    "\n",
    "print(\"\\n📊 Estadísticas DESPUÉS (winsorizado):\")\n",
    "print(df_winsor[[\"price\", \"onhand\"]].describe())"
   ]
  },
  {
   "cell_type": "code",
   "execution_count": 27,
   "id": "bb3fdb23",
   "metadata": {},
   "outputs": [
    {
     "name": "stdout",
     "output_type": "stream",
     "text": [
      "✅ Archivo 'datos_limpios.csv' guardado correctamente en la carpeta del proyecto.\n"
     ]
    }
   ],
   "source": [
    "# Exportar el DataFrame limpio (sin índices)\n",
    "df_winsor.to_csv(\"datos_limpios.csv\", index=False,sep=\",\", encoding='utf-8')\n",
    "\n",
    "print(\"✅ Archivo 'datos_limpios.csv' guardado correctamente en la carpeta del proyecto.\")"
   ]
  }
 ],
 "metadata": {
  "kernelspec": {
   "display_name": "Python 3",
   "language": "python",
   "name": "python3"
  },
  "language_info": {
   "codemirror_mode": {
    "name": "ipython",
    "version": 3
   },
   "file_extension": ".py",
   "mimetype": "text/x-python",
   "name": "python",
   "nbconvert_exporter": "python",
   "pygments_lexer": "ipython3",
   "version": "3.13.7"
  }
 },
 "nbformat": 4,
 "nbformat_minor": 5
}
