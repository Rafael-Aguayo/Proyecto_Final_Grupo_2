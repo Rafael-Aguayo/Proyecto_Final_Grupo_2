{
 "cells": [
  {
   "cell_type": "markdown",
   "id": "33c47dd6",
   "metadata": {},
   "source": [
    "#### _Librerias utilizadas_"
   ]
  },
  {
   "cell_type": "code",
   "execution_count": 1,
   "id": "b065ca06",
   "metadata": {},
   "outputs": [],
   "source": [
    "## Traemos las librerias empledas\n",
    "import pandas as pd\n",
    "import numpy as np\n",
    "import matplotlib.pyplot as plt\n",
    "import seaborn as sns"
   ]
  },
  {
   "cell_type": "markdown",
   "id": "ecf68eaf",
   "metadata": {},
   "source": [
    "### Carga y análisis datos"
   ]
  },
  {
   "cell_type": "code",
   "execution_count": 2,
   "id": "3bb720b1",
   "metadata": {},
   "outputs": [],
   "source": [
    "df = pd.read_csv(r\"C:\\Users\\pablo\\OneDrive\\Documentos\\HENRY\\Proyecto\\Inventory\\SalesFINAL12312016.csv\", parse_dates=['SalesDate'])  # Cargamos el dataset"
   ]
  },
  {
   "cell_type": "code",
   "execution_count": 3,
   "id": "6c9850c7",
   "metadata": {},
   "outputs": [
    {
     "data": {
      "text/plain": [
       "(1048575, 14)"
      ]
     },
     "execution_count": 3,
     "metadata": {},
     "output_type": "execute_result"
    }
   ],
   "source": [
    "df.shape #Analizamos la cantidad de filas y columnas del dataset"
   ]
  },
  {
   "cell_type": "code",
   "execution_count": 4,
   "id": "dcab4828",
   "metadata": {},
   "outputs": [
    {
     "name": "stdout",
     "output_type": "stream",
     "text": [
      "<class 'pandas.core.frame.DataFrame'>\n",
      "RangeIndex: 1048575 entries, 0 to 1048574\n",
      "Data columns (total 14 columns):\n",
      " #   Column          Non-Null Count    Dtype         \n",
      "---  ------          --------------    -----         \n",
      " 0   InventoryId     1048575 non-null  object        \n",
      " 1   Store           1048575 non-null  int64         \n",
      " 2   Brand           1048575 non-null  int64         \n",
      " 3   Description     1048575 non-null  object        \n",
      " 4   Size            1048575 non-null  object        \n",
      " 5   SalesQuantity   1048575 non-null  int64         \n",
      " 6   SalesDollars    1048575 non-null  float64       \n",
      " 7   SalesPrice      1048575 non-null  float64       \n",
      " 8   SalesDate       1048575 non-null  datetime64[ns]\n",
      " 9   Volume          1048575 non-null  int64         \n",
      " 10  Classification  1048575 non-null  int64         \n",
      " 11  ExciseTax       1048575 non-null  float64       \n",
      " 12  VendorNo        1048575 non-null  int64         \n",
      " 13  VendorName      1048575 non-null  object        \n",
      "dtypes: datetime64[ns](1), float64(3), int64(6), object(4)\n",
      "memory usage: 112.0+ MB\n"
     ]
    }
   ],
   "source": [
    "df.info() # Información general (columnas, tipos de datos, nulos)"
   ]
  },
  {
   "cell_type": "code",
   "execution_count": 5,
   "id": "9cbf341d",
   "metadata": {},
   "outputs": [
    {
     "data": {
      "text/plain": [
       "Index(['InventoryId', 'Store', 'Brand', 'Description', 'Size', 'SalesQuantity',\n",
       "       'SalesDollars', 'SalesPrice', 'SalesDate', 'Volume', 'Classification',\n",
       "       'ExciseTax', 'VendorNo', 'VendorName'],\n",
       "      dtype='object')"
      ]
     },
     "execution_count": 5,
     "metadata": {},
     "output_type": "execute_result"
    }
   ],
   "source": [
    "#Lista de columnas\n",
    "df.columns"
   ]
  },
  {
   "cell_type": "code",
   "execution_count": 6,
   "id": "7cb93ee5",
   "metadata": {},
   "outputs": [
    {
     "data": {
      "application/vnd.microsoft.datawrangler.viewer.v0+json": {
       "columns": [
        {
         "name": "index",
         "rawType": "int64",
         "type": "integer"
        },
        {
         "name": "InventoryId",
         "rawType": "object",
         "type": "string"
        },
        {
         "name": "Store",
         "rawType": "int64",
         "type": "integer"
        },
        {
         "name": "Brand",
         "rawType": "int64",
         "type": "integer"
        },
        {
         "name": "Description",
         "rawType": "object",
         "type": "string"
        },
        {
         "name": "Size",
         "rawType": "object",
         "type": "string"
        },
        {
         "name": "SalesQuantity",
         "rawType": "int64",
         "type": "integer"
        },
        {
         "name": "SalesDollars",
         "rawType": "float64",
         "type": "float"
        },
        {
         "name": "SalesPrice",
         "rawType": "float64",
         "type": "float"
        },
        {
         "name": "SalesDate",
         "rawType": "datetime64[ns]",
         "type": "datetime"
        },
        {
         "name": "Volume",
         "rawType": "int64",
         "type": "integer"
        },
        {
         "name": "Classification",
         "rawType": "int64",
         "type": "integer"
        },
        {
         "name": "ExciseTax",
         "rawType": "float64",
         "type": "float"
        },
        {
         "name": "VendorNo",
         "rawType": "int64",
         "type": "integer"
        },
        {
         "name": "VendorName",
         "rawType": "object",
         "type": "string"
        }
       ],
       "ref": "85494753-ab41-4bde-aef1-b8ec4a1b63fb",
       "rows": [
        [
         "0",
         "1_HARDERSFIELD_1004",
         "1",
         "1004",
         "Jim Beam w/2 Rocks Glasses",
         "750mL",
         "1",
         "16.49",
         "16.49",
         "2016-01-01 00:00:00",
         "750",
         "1",
         "0.79",
         "12546",
         "JIM BEAM BRANDS COMPANY    "
        ],
        [
         "1",
         "1_HARDERSFIELD_1004",
         "1",
         "1004",
         "Jim Beam w/2 Rocks Glasses",
         "750mL",
         "2",
         "32.98",
         "16.49",
         "2016-01-02 00:00:00",
         "750",
         "1",
         "1.57",
         "12546",
         "JIM BEAM BRANDS COMPANY    "
        ],
        [
         "2",
         "1_HARDERSFIELD_1004",
         "1",
         "1004",
         "Jim Beam w/2 Rocks Glasses",
         "750mL",
         "1",
         "16.49",
         "16.49",
         "2016-01-03 00:00:00",
         "750",
         "1",
         "0.79",
         "12546",
         "JIM BEAM BRANDS COMPANY    "
        ],
        [
         "3",
         "1_HARDERSFIELD_1004",
         "1",
         "1004",
         "Jim Beam w/2 Rocks Glasses",
         "750mL",
         "1",
         "14.49",
         "14.49",
         "2016-01-08 00:00:00",
         "750",
         "1",
         "0.79",
         "12546",
         "JIM BEAM BRANDS COMPANY    "
        ],
        [
         "4",
         "1_HARDERSFIELD_1005",
         "1",
         "1005",
         "Maker's Mark Combo Pack",
         "375mL 2 Pk",
         "2",
         "69.98",
         "34.99",
         "2016-01-09 00:00:00",
         "375",
         "1",
         "0.79",
         "12546",
         "JIM BEAM BRANDS COMPANY    "
        ],
        [
         "5",
         "1_HARDERSFIELD_1005",
         "1",
         "1005",
         "Maker's Mark Combo Pack",
         "375mL 2 Pk",
         "1",
         "34.99",
         "34.99",
         "2016-01-15 00:00:00",
         "375",
         "1",
         "0.39",
         "12546",
         "JIM BEAM BRANDS COMPANY    "
        ],
        [
         "6",
         "1_HARDERSFIELD_1005",
         "1",
         "1005",
         "Maker's Mark Combo Pack",
         "375mL 2 Pk",
         "1",
         "34.99",
         "34.99",
         "2016-01-22 00:00:00",
         "375",
         "1",
         "0.39",
         "12546",
         "JIM BEAM BRANDS COMPANY    "
        ],
        [
         "7",
         "1_HARDERSFIELD_1005",
         "1",
         "1005",
         "Maker's Mark Combo Pack",
         "375mL 2 Pk",
         "1",
         "34.99",
         "34.99",
         "2016-01-30 00:00:00",
         "375",
         "1",
         "0.39",
         "12546",
         "JIM BEAM BRANDS COMPANY    "
        ],
        [
         "8",
         "1_HARDERSFIELD_10058",
         "1",
         "10058",
         "F Coppola Dmd Ivry Cab Svgn",
         "750mL",
         "4",
         "59.96",
         "14.99",
         "2016-01-05 00:00:00",
         "750",
         "2",
         "0.45",
         "2000",
         "SOUTHERN WINE & SPIRITS NE "
        ],
        [
         "9",
         "1_HARDERSFIELD_10058",
         "1",
         "10058",
         "F Coppola Dmd Ivry Cab Svgn",
         "750mL",
         "1",
         "14.99",
         "14.99",
         "2016-01-06 00:00:00",
         "750",
         "2",
         "0.11",
         "2000",
         "SOUTHERN WINE & SPIRITS NE "
        ]
       ],
       "shape": {
        "columns": 14,
        "rows": 10
       }
      },
      "text/html": [
       "<div>\n",
       "<style scoped>\n",
       "    .dataframe tbody tr th:only-of-type {\n",
       "        vertical-align: middle;\n",
       "    }\n",
       "\n",
       "    .dataframe tbody tr th {\n",
       "        vertical-align: top;\n",
       "    }\n",
       "\n",
       "    .dataframe thead th {\n",
       "        text-align: right;\n",
       "    }\n",
       "</style>\n",
       "<table border=\"1\" class=\"dataframe\">\n",
       "  <thead>\n",
       "    <tr style=\"text-align: right;\">\n",
       "      <th></th>\n",
       "      <th>InventoryId</th>\n",
       "      <th>Store</th>\n",
       "      <th>Brand</th>\n",
       "      <th>Description</th>\n",
       "      <th>Size</th>\n",
       "      <th>SalesQuantity</th>\n",
       "      <th>SalesDollars</th>\n",
       "      <th>SalesPrice</th>\n",
       "      <th>SalesDate</th>\n",
       "      <th>Volume</th>\n",
       "      <th>Classification</th>\n",
       "      <th>ExciseTax</th>\n",
       "      <th>VendorNo</th>\n",
       "      <th>VendorName</th>\n",
       "    </tr>\n",
       "  </thead>\n",
       "  <tbody>\n",
       "    <tr>\n",
       "      <th>0</th>\n",
       "      <td>1_HARDERSFIELD_1004</td>\n",
       "      <td>1</td>\n",
       "      <td>1004</td>\n",
       "      <td>Jim Beam w/2 Rocks Glasses</td>\n",
       "      <td>750mL</td>\n",
       "      <td>1</td>\n",
       "      <td>16.49</td>\n",
       "      <td>16.49</td>\n",
       "      <td>2016-01-01</td>\n",
       "      <td>750</td>\n",
       "      <td>1</td>\n",
       "      <td>0.79</td>\n",
       "      <td>12546</td>\n",
       "      <td>JIM BEAM BRANDS COMPANY</td>\n",
       "    </tr>\n",
       "    <tr>\n",
       "      <th>1</th>\n",
       "      <td>1_HARDERSFIELD_1004</td>\n",
       "      <td>1</td>\n",
       "      <td>1004</td>\n",
       "      <td>Jim Beam w/2 Rocks Glasses</td>\n",
       "      <td>750mL</td>\n",
       "      <td>2</td>\n",
       "      <td>32.98</td>\n",
       "      <td>16.49</td>\n",
       "      <td>2016-01-02</td>\n",
       "      <td>750</td>\n",
       "      <td>1</td>\n",
       "      <td>1.57</td>\n",
       "      <td>12546</td>\n",
       "      <td>JIM BEAM BRANDS COMPANY</td>\n",
       "    </tr>\n",
       "    <tr>\n",
       "      <th>2</th>\n",
       "      <td>1_HARDERSFIELD_1004</td>\n",
       "      <td>1</td>\n",
       "      <td>1004</td>\n",
       "      <td>Jim Beam w/2 Rocks Glasses</td>\n",
       "      <td>750mL</td>\n",
       "      <td>1</td>\n",
       "      <td>16.49</td>\n",
       "      <td>16.49</td>\n",
       "      <td>2016-01-03</td>\n",
       "      <td>750</td>\n",
       "      <td>1</td>\n",
       "      <td>0.79</td>\n",
       "      <td>12546</td>\n",
       "      <td>JIM BEAM BRANDS COMPANY</td>\n",
       "    </tr>\n",
       "    <tr>\n",
       "      <th>3</th>\n",
       "      <td>1_HARDERSFIELD_1004</td>\n",
       "      <td>1</td>\n",
       "      <td>1004</td>\n",
       "      <td>Jim Beam w/2 Rocks Glasses</td>\n",
       "      <td>750mL</td>\n",
       "      <td>1</td>\n",
       "      <td>14.49</td>\n",
       "      <td>14.49</td>\n",
       "      <td>2016-01-08</td>\n",
       "      <td>750</td>\n",
       "      <td>1</td>\n",
       "      <td>0.79</td>\n",
       "      <td>12546</td>\n",
       "      <td>JIM BEAM BRANDS COMPANY</td>\n",
       "    </tr>\n",
       "    <tr>\n",
       "      <th>4</th>\n",
       "      <td>1_HARDERSFIELD_1005</td>\n",
       "      <td>1</td>\n",
       "      <td>1005</td>\n",
       "      <td>Maker's Mark Combo Pack</td>\n",
       "      <td>375mL 2 Pk</td>\n",
       "      <td>2</td>\n",
       "      <td>69.98</td>\n",
       "      <td>34.99</td>\n",
       "      <td>2016-01-09</td>\n",
       "      <td>375</td>\n",
       "      <td>1</td>\n",
       "      <td>0.79</td>\n",
       "      <td>12546</td>\n",
       "      <td>JIM BEAM BRANDS COMPANY</td>\n",
       "    </tr>\n",
       "    <tr>\n",
       "      <th>5</th>\n",
       "      <td>1_HARDERSFIELD_1005</td>\n",
       "      <td>1</td>\n",
       "      <td>1005</td>\n",
       "      <td>Maker's Mark Combo Pack</td>\n",
       "      <td>375mL 2 Pk</td>\n",
       "      <td>1</td>\n",
       "      <td>34.99</td>\n",
       "      <td>34.99</td>\n",
       "      <td>2016-01-15</td>\n",
       "      <td>375</td>\n",
       "      <td>1</td>\n",
       "      <td>0.39</td>\n",
       "      <td>12546</td>\n",
       "      <td>JIM BEAM BRANDS COMPANY</td>\n",
       "    </tr>\n",
       "    <tr>\n",
       "      <th>6</th>\n",
       "      <td>1_HARDERSFIELD_1005</td>\n",
       "      <td>1</td>\n",
       "      <td>1005</td>\n",
       "      <td>Maker's Mark Combo Pack</td>\n",
       "      <td>375mL 2 Pk</td>\n",
       "      <td>1</td>\n",
       "      <td>34.99</td>\n",
       "      <td>34.99</td>\n",
       "      <td>2016-01-22</td>\n",
       "      <td>375</td>\n",
       "      <td>1</td>\n",
       "      <td>0.39</td>\n",
       "      <td>12546</td>\n",
       "      <td>JIM BEAM BRANDS COMPANY</td>\n",
       "    </tr>\n",
       "    <tr>\n",
       "      <th>7</th>\n",
       "      <td>1_HARDERSFIELD_1005</td>\n",
       "      <td>1</td>\n",
       "      <td>1005</td>\n",
       "      <td>Maker's Mark Combo Pack</td>\n",
       "      <td>375mL 2 Pk</td>\n",
       "      <td>1</td>\n",
       "      <td>34.99</td>\n",
       "      <td>34.99</td>\n",
       "      <td>2016-01-30</td>\n",
       "      <td>375</td>\n",
       "      <td>1</td>\n",
       "      <td>0.39</td>\n",
       "      <td>12546</td>\n",
       "      <td>JIM BEAM BRANDS COMPANY</td>\n",
       "    </tr>\n",
       "    <tr>\n",
       "      <th>8</th>\n",
       "      <td>1_HARDERSFIELD_10058</td>\n",
       "      <td>1</td>\n",
       "      <td>10058</td>\n",
       "      <td>F Coppola Dmd Ivry Cab Svgn</td>\n",
       "      <td>750mL</td>\n",
       "      <td>4</td>\n",
       "      <td>59.96</td>\n",
       "      <td>14.99</td>\n",
       "      <td>2016-01-05</td>\n",
       "      <td>750</td>\n",
       "      <td>2</td>\n",
       "      <td>0.45</td>\n",
       "      <td>2000</td>\n",
       "      <td>SOUTHERN WINE &amp; SPIRITS NE</td>\n",
       "    </tr>\n",
       "    <tr>\n",
       "      <th>9</th>\n",
       "      <td>1_HARDERSFIELD_10058</td>\n",
       "      <td>1</td>\n",
       "      <td>10058</td>\n",
       "      <td>F Coppola Dmd Ivry Cab Svgn</td>\n",
       "      <td>750mL</td>\n",
       "      <td>1</td>\n",
       "      <td>14.99</td>\n",
       "      <td>14.99</td>\n",
       "      <td>2016-01-06</td>\n",
       "      <td>750</td>\n",
       "      <td>2</td>\n",
       "      <td>0.11</td>\n",
       "      <td>2000</td>\n",
       "      <td>SOUTHERN WINE &amp; SPIRITS NE</td>\n",
       "    </tr>\n",
       "  </tbody>\n",
       "</table>\n",
       "</div>"
      ],
      "text/plain": [
       "            InventoryId  Store  Brand                  Description  \\\n",
       "0   1_HARDERSFIELD_1004      1   1004   Jim Beam w/2 Rocks Glasses   \n",
       "1   1_HARDERSFIELD_1004      1   1004   Jim Beam w/2 Rocks Glasses   \n",
       "2   1_HARDERSFIELD_1004      1   1004   Jim Beam w/2 Rocks Glasses   \n",
       "3   1_HARDERSFIELD_1004      1   1004   Jim Beam w/2 Rocks Glasses   \n",
       "4   1_HARDERSFIELD_1005      1   1005      Maker's Mark Combo Pack   \n",
       "5   1_HARDERSFIELD_1005      1   1005      Maker's Mark Combo Pack   \n",
       "6   1_HARDERSFIELD_1005      1   1005      Maker's Mark Combo Pack   \n",
       "7   1_HARDERSFIELD_1005      1   1005      Maker's Mark Combo Pack   \n",
       "8  1_HARDERSFIELD_10058      1  10058  F Coppola Dmd Ivry Cab Svgn   \n",
       "9  1_HARDERSFIELD_10058      1  10058  F Coppola Dmd Ivry Cab Svgn   \n",
       "\n",
       "         Size  SalesQuantity  SalesDollars  SalesPrice  SalesDate  Volume  \\\n",
       "0       750mL              1         16.49       16.49 2016-01-01     750   \n",
       "1       750mL              2         32.98       16.49 2016-01-02     750   \n",
       "2       750mL              1         16.49       16.49 2016-01-03     750   \n",
       "3       750mL              1         14.49       14.49 2016-01-08     750   \n",
       "4  375mL 2 Pk              2         69.98       34.99 2016-01-09     375   \n",
       "5  375mL 2 Pk              1         34.99       34.99 2016-01-15     375   \n",
       "6  375mL 2 Pk              1         34.99       34.99 2016-01-22     375   \n",
       "7  375mL 2 Pk              1         34.99       34.99 2016-01-30     375   \n",
       "8       750mL              4         59.96       14.99 2016-01-05     750   \n",
       "9       750mL              1         14.99       14.99 2016-01-06     750   \n",
       "\n",
       "   Classification  ExciseTax  VendorNo                   VendorName  \n",
       "0               1       0.79     12546  JIM BEAM BRANDS COMPANY      \n",
       "1               1       1.57     12546  JIM BEAM BRANDS COMPANY      \n",
       "2               1       0.79     12546  JIM BEAM BRANDS COMPANY      \n",
       "3               1       0.79     12546  JIM BEAM BRANDS COMPANY      \n",
       "4               1       0.79     12546  JIM BEAM BRANDS COMPANY      \n",
       "5               1       0.39     12546  JIM BEAM BRANDS COMPANY      \n",
       "6               1       0.39     12546  JIM BEAM BRANDS COMPANY      \n",
       "7               1       0.39     12546  JIM BEAM BRANDS COMPANY      \n",
       "8               2       0.45      2000  SOUTHERN WINE & SPIRITS NE   \n",
       "9               2       0.11      2000  SOUTHERN WINE & SPIRITS NE   "
      ]
     },
     "execution_count": 6,
     "metadata": {},
     "output_type": "execute_result"
    }
   ],
   "source": [
    "#Analizamos los primeros 10 registros\n",
    "df.head(10)"
   ]
  },
  {
   "cell_type": "markdown",
   "id": "a4a4f40d",
   "metadata": {},
   "source": [
    "#### Revision de valores unicos"
   ]
  },
  {
   "cell_type": "code",
   "execution_count": 7,
   "id": "f8d7ee6b",
   "metadata": {},
   "outputs": [
    {
     "name": "stdout",
     "output_type": "stream",
     "text": [
      "InventoryId       170131\n",
      "Store                 79\n",
      "Brand               7658\n",
      "Description         6890\n",
      "Size                  40\n",
      "SalesQuantity        141\n",
      "SalesDollars        3426\n",
      "SalesPrice           273\n",
      "SalesDate             60\n",
      "Volume                22\n",
      "Classification         2\n",
      "ExciseTax            468\n",
      "VendorNo             116\n",
      "VendorName           117\n",
      "dtype: int64\n"
     ]
    }
   ],
   "source": [
    "conteo_unicos = df.nunique()\n",
    "print(conteo_unicos)"
   ]
  },
  {
   "cell_type": "markdown",
   "id": "da507011",
   "metadata": {},
   "source": [
    "#### Revision de nulos y negativos"
   ]
  },
  {
   "cell_type": "code",
   "execution_count": 8,
   "id": "91412d5b",
   "metadata": {},
   "outputs": [
    {
     "name": "stdout",
     "output_type": "stream",
     "text": [
      "Series([], dtype: int64)\n"
     ]
    }
   ],
   "source": [
    "# Sumar nulos por columna\n",
    "nulos_por_columna = df.isnull().sum()\n",
    "\n",
    "# Filtrar solo las que tienen más de 0 nulos\n",
    "nulos_por_columna = nulos_por_columna[nulos_por_columna > 0]\n",
    "\n",
    "print(nulos_por_columna)"
   ]
  },
  {
   "cell_type": "code",
   "execution_count": 9,
   "id": "cb061a14",
   "metadata": {},
   "outputs": [
    {
     "name": "stdout",
     "output_type": "stream",
     "text": [
      "Series([], dtype: int64)\n"
     ]
    }
   ],
   "source": [
    "# Contar valores negativos por columna\n",
    "negativos_por_columna = (df.select_dtypes(include=[np.number]) < 0).sum()\n",
    "\n",
    "# Filtrar solo las columnas que tienen al menos un valor negativo\n",
    "negativos_por_columna = negativos_por_columna[negativos_por_columna > 0]\n",
    "\n",
    "print(negativos_por_columna)\n"
   ]
  },
  {
   "cell_type": "markdown",
   "id": "280afe98",
   "metadata": {},
   "source": [
    "#### Revision de espacios y formato"
   ]
  },
  {
   "cell_type": "code",
   "execution_count": 12,
   "id": "84fedf46",
   "metadata": {},
   "outputs": [
    {
     "name": "stdout",
     "output_type": "stream",
     "text": [
      "InventoryId       0\n",
      "Store             0\n",
      "Brand             0\n",
      "Description       0\n",
      "Size              0\n",
      "SalesQuantity     0\n",
      "SalesDollars      0\n",
      "SalesPrice        0\n",
      "SalesDate         0\n",
      "Volume            0\n",
      "Classification    0\n",
      "ExciseTax         0\n",
      "VendorNo          0\n",
      "VendorName        0\n",
      "dtype: int64\n"
     ]
    }
   ],
   "source": [
    "#Revisamos si hay espacios en blanco al inicio o al final de las cadenas de texto\n",
    "espacios = df.apply(lambda col: col.str.contains(r\"^\\s|\\s$\", regex=True) if col.dtype == \"object\" else False)\n",
    "print(espacios.sum())"
   ]
  }
 ],
 "metadata": {
  "kernelspec": {
   "display_name": "Python 3",
   "language": "python",
   "name": "python3"
  },
  "language_info": {
   "codemirror_mode": {
    "name": "ipython",
    "version": 3
   },
   "file_extension": ".py",
   "mimetype": "text/x-python",
   "name": "python",
   "nbconvert_exporter": "python",
   "pygments_lexer": "ipython3",
   "version": "3.11.9"
  }
 },
 "nbformat": 4,
 "nbformat_minor": 5
}
