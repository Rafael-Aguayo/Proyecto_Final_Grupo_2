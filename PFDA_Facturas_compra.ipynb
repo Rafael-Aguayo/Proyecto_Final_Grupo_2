{
 "cells": [
  {
   "cell_type": "markdown",
   "id": "46b0a8ec",
   "metadata": {},
   "source": [
    "Limpieza de datos de la tabla facturas de compra \"InvoicePurchases12312016\""
   ]
  },
  {
   "cell_type": "code",
   "execution_count": 1,
   "id": "fc560070",
   "metadata": {},
   "outputs": [],
   "source": [
    "# Importo las librerias que voy a usar\n",
    "\n",
    "import pandas as pd\n",
    "import numpy as np"
   ]
  },
  {
   "cell_type": "markdown",
   "id": "b6344df1",
   "metadata": {},
   "source": [
    "Carga del dataset"
   ]
  },
  {
   "cell_type": "code",
   "execution_count": 2,
   "id": "da919134",
   "metadata": {},
   "outputs": [
    {
     "name": "stdout",
     "output_type": "stream",
     "text": [
      "   VendorNumber                   VendorName InvoiceDate  PONumber  \\\n",
      "0           105  ALTAMAR BRANDS LLC           2016-01-04      8124   \n",
      "1          4466  AMERICAN VINTAGE BEVERAGE    2016-01-07      8137   \n",
      "2           388  ATLANTIC IMPORTING COMPANY   2016-01-09      8169   \n",
      "3           480  BACARDI USA INC              2016-01-12      8106   \n",
      "4           516  BANFI PRODUCTS CORP          2016-01-07      8170   \n",
      "\n",
      "       PODate     PayDate  Quantity    Dollars  Freight Approval  \n",
      "0  2015-12-21  2016-02-16         6     214.26     3.47      NaN  \n",
      "1  2015-12-22  2016-02-21        15     140.55     8.57      NaN  \n",
      "2  2015-12-24  2016-02-16         5     106.60     4.61      NaN  \n",
      "3  2015-12-20  2016-02-05     10100  137483.78  2935.20      NaN  \n",
      "4  2015-12-24  2016-02-12      1935   15527.25   429.20      NaN  \n"
     ]
    }
   ],
   "source": [
    "# Leo el dataset de mi disco local correspondiente a la tabla \"InvoicePurchases12312016\"\n",
    "\n",
    "df_ruta_data= r'C:\\Users\\fel-p\\Documents\\DATA_ANALITYCS_Henry\\PF\\archive (2)\\InvoicePurchases12312016.csv'\n",
    "\n",
    "df_facturas_compra= pd.read_csv(df_ruta_data)\n",
    "\n",
    "# Compruebo que se haya cargado correctamente, verificando las 5 primeras filas\n",
    "print(df_facturas_compra.head())\n",
    "\n"
   ]
  },
  {
   "cell_type": "markdown",
   "id": "08213686",
   "metadata": {},
   "source": [
    "Limpieza de datos"
   ]
  },
  {
   "cell_type": "code",
   "execution_count": 3,
   "id": "8fe6ecaf",
   "metadata": {},
   "outputs": [
    {
     "name": "stdout",
     "output_type": "stream",
     "text": [
      "Filas que quedarían si elimino las filas con NaN: 374\n",
      "Filas con valores NaN en cada columna  \n",
      " VendorNumber       0\n",
      "VendorName         0\n",
      "InvoiceDate        0\n",
      "PONumber           0\n",
      "PODate             0\n",
      "PayDate            0\n",
      "Quantity           0\n",
      "Dollars            0\n",
      "Freight            0\n",
      "Approval        5169\n",
      "dtype: int64\n"
     ]
    }
   ],
   "source": [
    "# Manejo de  valores faltantes\n",
    "\n",
    "# Cuantas filas quedarían si elimino todas las filas con NaN\n",
    "print(\"Filas que quedarían si elimino las filas con NaN:\", len(df_facturas_compra.dropna()))\n",
    "\n",
    "# conteo de NaN por columna\n",
    "print(\"Filas con valores NaN en cada columna  \\n\", df_facturas_compra.isna().sum())"
   ]
  },
  {
   "cell_type": "code",
   "execution_count": 4,
   "id": "2f875560",
   "metadata": {},
   "outputs": [
    {
     "name": "stdout",
     "output_type": "stream",
     "text": [
      "Filas con valores NaN en cada columna  \n",
      " VendorNumber    0\n",
      "VendorName      0\n",
      "InvoiceDate     0\n",
      "PONumber        0\n",
      "PODate          0\n",
      "PayDate         0\n",
      "Quantity        0\n",
      "Dollars         0\n",
      "Freight         0\n",
      "Approval        0\n",
      "dtype: int64\n"
     ]
    }
   ],
   "source": [
    "# Por análisis determinamos que las columnas que aparecen vacias en Approval son facturas sin aprovar\n",
    "# por lo que completamos los campos con \"pending\"\n",
    "\n",
    "df_facturas_compra [\"Approval\"]= df_facturas_compra[\"Approval\"].fillna(\"pendign\")\n",
    "\n",
    "# conteo de NaN por columna\n",
    "print(\"Filas con valores NaN en cada columna  \\n\", df_facturas_compra.isna().sum())"
   ]
  },
  {
   "cell_type": "markdown",
   "id": "1b4f62a7",
   "metadata": {},
   "source": [
    "Ajuste al tipo de dato"
   ]
  },
  {
   "cell_type": "code",
   "execution_count": 5,
   "id": "90a1be0c",
   "metadata": {},
   "outputs": [
    {
     "name": "stdout",
     "output_type": "stream",
     "text": [
      "VendorNumber      int64\n",
      "VendorName       object\n",
      "InvoiceDate      object\n",
      "PONumber          int64\n",
      "PODate           object\n",
      "PayDate          object\n",
      "Quantity          int64\n",
      "Dollars         float64\n",
      "Freight         float64\n",
      "Approval         object\n",
      "dtype: object\n"
     ]
    }
   ],
   "source": [
    "#Validar el tipo de dato, para encontrar incosistencias\n",
    "print(df_facturas_compra.dtypes)"
   ]
  },
  {
   "cell_type": "code",
   "execution_count": 6,
   "id": "e18918eb",
   "metadata": {},
   "outputs": [],
   "source": [
    "# Lo primero es el parseo de las columnas de fecha\n",
    "\n",
    "fechas=[\"InvoiceDate\",\"PayDate\",\"PODate\"]\n"
   ]
  },
  {
   "cell_type": "code",
   "execution_count": 8,
   "id": "7d695689",
   "metadata": {},
   "outputs": [
    {
     "name": "stdout",
     "output_type": "stream",
     "text": [
      "InvoiceDate    datetime64[ns]\n",
      "PayDate        datetime64[ns]\n",
      "PODate         datetime64[ns]\n",
      "dtype: object\n"
     ]
    }
   ],
   "source": [
    "#Convierto a datetime para poder cambiar el formato a dd-mm-yyyy\n",
    "\n",
    "for col in fechas:\n",
    "    df_facturas_compra[col] = pd.to_datetime(df_facturas_compra[col], errors='coerce')\n",
    "\n",
    "#df_facturas_compra [fechas]= pd.to_datetime(df_facturas_compra[fechas])\n",
    "\n",
    "print(df_facturas_compra[fechas].dtypes)"
   ]
  },
  {
   "cell_type": "code",
   "execution_count": 9,
   "id": "7bfbc09f",
   "metadata": {},
   "outputs": [
    {
     "name": "stdout",
     "output_type": "stream",
     "text": [
      "  InvoiceDate    PayDate     PODate\n",
      "0  2016-01-04 2016-02-16 2015-12-21\n",
      "1  2016-01-07 2016-02-21 2015-12-22\n",
      "2  2016-01-09 2016-02-16 2015-12-24\n",
      "3  2016-01-12 2016-02-05 2015-12-20\n",
      "4  2016-01-07 2016-02-12 2015-12-24\n",
      "  InvoiceDate     PayDate      PODate\n",
      "0  04-01-2016  16-02-2016  21-12-2015\n",
      "1  07-01-2016  21-02-2016  22-12-2015\n",
      "2  09-01-2016  16-02-2016  24-12-2015\n",
      "3  12-01-2016  05-02-2016  20-12-2015\n",
      "4  07-01-2016  12-02-2016  24-12-2015\n"
     ]
    }
   ],
   "source": [
    "# Ahora busco el formato en el que esta la fecha \n",
    "print(df_facturas_compra[fechas].head())\n",
    "\n",
    "# cambio de YYYY-MM-DD a DD-MM_YYYY\n",
    "for col in fechas:\n",
    "    df_facturas_compra[col] = df_facturas_compra[col].dt.strftime(\"%d-%m-%Y\")\n",
    "\n",
    "# Compruebo la modificación\n",
    "print(df_facturas_compra[fechas].head())\n",
    "\n"
   ]
  },
  {
   "cell_type": "code",
   "execution_count": 17,
   "id": "903d7064",
   "metadata": {},
   "outputs": [
    {
     "name": "stdout",
     "output_type": "stream",
     "text": [
      "InvoiceDate    0\n",
      "PayDate        0\n",
      "PODate         0\n",
      "dtype: int64\n",
      "el formato de las fechas es \n",
      "InvoiceDate    object\n",
      "PayDate        object\n",
      "PODate         object\n",
      "dtype: object\n"
     ]
    }
   ],
   "source": [
    "# verifico que no hayan fechas nulas\n",
    "print(df_facturas_compra[fechas].isna().sum())\n",
    "\n",
    "# Después verifico el formato\n",
    "print(f\"el formato de las fechas es \\n{df_facturas_compra[fechas].dtypes}\")"
   ]
  },
  {
   "cell_type": "code",
   "execution_count": null,
   "id": "a75f3379",
   "metadata": {},
   "outputs": [
    {
     "name": "stdout",
     "output_type": "stream",
     "text": [
      "VendorNumber             int64\n",
      "VendorName              object\n",
      "InvoiceDate     datetime64[ns]\n",
      "PONumber                 int64\n",
      "PODate          datetime64[ns]\n",
      "PayDate         datetime64[ns]\n",
      "Quantity                 int64\n",
      "Dollars                float64\n",
      "Freight                float64\n",
      "Approval                object\n",
      "dtype: object\n"
     ]
    }
   ],
   "source": [
    "# Al cambiar el formato volvio a ser un object por lo que toca volverlo a pasar a datetime\n",
    "# con dayfirst indico que el formato es DD-MM-YYYY\n",
    "\n",
    "for col in fechas:\n",
    "    df_facturas_compra[col] = pd.to_datetime(df_facturas_compra[col], errors='coerce', dayfirst=True)\n",
    "\n",
    "print(df_facturas_compra.dtypes)"
   ]
  },
  {
   "cell_type": "markdown",
   "id": "0f535118",
   "metadata": {},
   "source": [
    "Guardo el dataset limpio y ajustado con el nombre que voy a utilizar la columna en el resto del análisis. pasa de ser \"InvoicePurchases12312016.csv” a \"Facturas_de_compra \""
   ]
  },
  {
   "cell_type": "code",
   "execution_count": 21,
   "id": "5df6d711",
   "metadata": {},
   "outputs": [],
   "source": [
    "# Guardo el DF para cerrar el proceso de limpieza de datos\n",
    "\n",
    "df_facturas_compra.to_csv('Facturas_de_compra.csv', index=False)"
   ]
  }
 ],
 "metadata": {
  "kernelspec": {
   "display_name": "Python 3",
   "language": "python",
   "name": "python3"
  },
  "language_info": {
   "codemirror_mode": {
    "name": "ipython",
    "version": 3
   },
   "file_extension": ".py",
   "mimetype": "text/x-python",
   "name": "python",
   "nbconvert_exporter": "python",
   "pygments_lexer": "ipython3",
   "version": "3.13.7"
  }
 },
 "nbformat": 4,
 "nbformat_minor": 5
}
