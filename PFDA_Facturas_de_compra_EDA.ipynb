{
 "cells": [
  {
   "cell_type": "code",
   "execution_count": 1,
   "id": "b3d96268",
   "metadata": {},
   "outputs": [],
   "source": [
    "# Importo las librerias que voy a usar\n",
    "\n",
    "import numpy as np\n",
    "import pandas as pd\n",
    "import matplotlib.pyplot as plt\n",
    "import matplotlib.dates as mdates\n",
    "import seaborn as sns"
   ]
  },
  {
   "cell_type": "code",
   "execution_count": 3,
   "id": "8f31356c",
   "metadata": {},
   "outputs": [
    {
     "name": "stdout",
     "output_type": "stream",
     "text": [
      "   VendorNumber                   VendorName InvoiceDate  PONumber  \\\n",
      "0           105  ALTAMAR BRANDS LLC           2016-01-04      8124   \n",
      "1          4466  AMERICAN VINTAGE BEVERAGE    2016-01-07      8137   \n",
      "2           388  ATLANTIC IMPORTING COMPANY   2016-01-09      8169   \n",
      "3           480  BACARDI USA INC              2016-01-12      8106   \n",
      "4           516  BANFI PRODUCTS CORP          2016-01-07      8170   \n",
      "\n",
      "       PODate     PayDate  Quantity    Dollars  Freight Approval  \n",
      "0  2015-12-21  2016-02-16         6     214.26     3.47      NaN  \n",
      "1  2015-12-22  2016-02-21        15     140.55     8.57      NaN  \n",
      "2  2015-12-24  2016-02-16         5     106.60     4.61      NaN  \n",
      "3  2015-12-20  2016-02-05     10100  137483.78  2935.20      NaN  \n",
      "4  2015-12-24  2016-02-12      1935   15527.25   429.20      NaN  \n"
     ]
    }
   ],
   "source": [
    "# Leo el dataset de mi disco local correspondiente a la tabla \"InvoicePurchases12312016\"\n",
    "\n",
    "df_ruta_data= r'C:\\Users\\fel-p\\Documents\\DATA_ANALITYCS_Henry\\PF\\archive (2)\\InvoicePurchases12312016.csv'\n",
    "\n",
    "df_facturas_compra= pd.read_csv(df_ruta_data)\n",
    "\n",
    "# Compruebo que se haya cargado correctamente, verificando las 5 primeras filas\n",
    "print(df_facturas_compra.head())"
   ]
  },
  {
   "cell_type": "code",
   "execution_count": 4,
   "id": "bb8f5c9f",
   "metadata": {},
   "outputs": [
    {
     "name": "stdout",
     "output_type": "stream",
     "text": [
      "Número de filas: 5543\n",
      "Número de columnas: 10\n"
     ]
    }
   ],
   "source": [
    "# Mostrar número de filas y columnas\n",
    "filas, columnas = df_facturas_compra.shape\n",
    "print(f\"Número de filas: {filas}\")\n",
    "print(f\"Número de columnas: {columnas}\")"
   ]
  },
  {
   "cell_type": "markdown",
   "id": "e2098a88",
   "metadata": {},
   "source": [
    "Quiero ver los valores que se repiten en las columnas "
   ]
  },
  {
   "cell_type": "code",
   "execution_count": 23,
   "id": "7ce4c364",
   "metadata": {},
   "outputs": [
    {
     "name": "stdout",
     "output_type": "stream",
     "text": [
      "se cuenta con 1 valor único\n",
      "[nan 'Frank Delahunt']\n"
     ]
    }
   ],
   "source": [
    "# cuantos y cuales son los valoreas unicos de la columna Approval\n",
    "print(f\"se cuenta con {df_facturas_compra[\"Approval\"].nunique()} valor único\")\n",
    "print(df_facturas_compra[\"Approval\"].unique())\n"
   ]
  },
  {
   "cell_type": "code",
   "execution_count": 25,
   "id": "2831c83d",
   "metadata": {},
   "outputs": [
    {
     "name": "stdout",
     "output_type": "stream",
     "text": [
      "se cuenta con 126 valores únicos\n",
      "[   105   4466    388    480    516   2396   1128   1189   1273  11567\n",
      "  90046   1485   2876   4380   1392  90047   2242   1590   3960   2555\n",
      "   2450   2496   3252   2561   1655  17031  90011   9744   3924   3950\n",
      "  90053  17032  12546   4550   4692  90032   4848   4950   8352   9552\n",
      "  10000   5455   4425   5992   6213   8112   6215   6355   6359   6785\n",
      "  10754  17035   9206   7153  90027   7154   7245   7255   7239  10050\n",
      "   8004    660   8150  98450   8320   3089   2000   8663    653   8673\n",
      "   8664   8735  90056   8920  28776   9819   8892   9165   9751  90010\n",
      "   1587  90024   1601   9622   9625   3664   9815  90058    287   1003\n",
      "  17037  90051  90052   7240  17033  28750  12331  90037   9260   1265\n",
      "   1650 173357  90017  90057   5612   1703   1439   5270   7749 172662\n",
      "   6280   3951   6830      2  90026  90033     60    200   9099  99166\n",
      "   3551 201359   4901  90059   5083     54]\n"
     ]
    }
   ],
   "source": [
    "# cuantos y cuales son los valoreas unicos de la columna VendorNumber\n",
    "print(f\"se cuenta con {df_facturas_compra[\"VendorNumber\"].nunique()} valores únicos\")\n",
    "print(df_facturas_compra[\"VendorNumber\"].unique())"
   ]
  },
  {
   "cell_type": "code",
   "execution_count": 26,
   "id": "0579619d",
   "metadata": {},
   "outputs": [
    {
     "name": "stdout",
     "output_type": "stream",
     "text": [
      "se cuenta con 129 valores únicos\n",
      "['ALTAMAR BRANDS LLC         ' 'AMERICAN VINTAGE BEVERAGE  '\n",
      " 'ATLANTIC IMPORTING COMPANY ' 'BACARDI USA INC            '\n",
      " 'BANFI PRODUCTS CORP        ' 'BLACK PRINCE DISTILLERY INC'\n",
      " 'BROWN-FORMAN CORP          ' 'BULLY BOY DISTILLERS       '\n",
      " 'CALEDONIA SPIRITS INC      ' 'CAMPARI AMERICA            '\n",
      " 'CANDIA VINEYARDS           ' 'CASTLE BRANDS CORP.        '\n",
      " 'CENTEUR IMPORTS LLC        ' 'CHARLES JACQUIN ET CIE INC '\n",
      " 'CONSTELLATION BRANDS INC   ' 'CRUSH WINES                '\n",
      " 'DELICATO VINEYARDS INC     ' 'DIAGEO CHATEAU ESTATE WINES'\n",
      " 'DIAGEO NORTH AMERICA INC   ' 'DISARONNO INTERNATIONAL LLC'\n",
      " 'DJINN SPIRITS LLC          ' 'DUGGANS DISTILLED PRODUCTS '\n",
      " 'E & J GALLO WINERY         ' 'EDRINGTON AMERICAS         '\n",
      " 'FABRIZIA SPIRITS LLC       ' 'FLAG HILL WINERY & VINEYARD'\n",
      " 'FORTUNE WINE BROKERS LLC   ' 'FREDERICK WILDMAN & SONS   '\n",
      " 'HEAVEN HILL DISTILLERIES   ' 'HOOD RIVER DISTILLERS, Inc.'\n",
      " 'INCREDIBREW INC            ' 'JEWELL TOWNE VINEYARDS     '\n",
      " 'JIM BEAM BRANDS COMPANY    ' 'KLIN SPIRITS LLC           '\n",
      " 'KOBRAND CORPORATION        ' 'LABELLE VYDS AND WINERY    '\n",
      " 'LAIRD & CO                 ' 'LATITUDE BEVERAGE COMPANY  '\n",
      " 'LUXCO INC                  ' 'M S WALKER INC             '\n",
      " 'MAJESTIC FINE WINES        ' 'MARSALLE COMPANY           '\n",
      " 'MARTIGNETTI COMPANIES ' 'MARTIGNETTI COMPANIES'\n",
      " 'MCCORMICK DISTILLING CO    ' 'MHW LTD                    '\n",
      " 'MOET HENNESSY USA INC      ' 'MOONLIGHT MEADERY          '\n",
      " 'NICHE W & S                ' 'OLE SMOKY DISTILLERY LLC   '\n",
      " 'PALM BAY INTERNATIONAL INC ' 'PERFECTA WINES             '\n",
      " 'PERNOD RICARD USA          ' 'PHILLIPS PRODUCTS CO.      '\n",
      " 'PINE STATE TRADING CO      ' 'POVERTY LANE ORCHARDS      '\n",
      " 'PREMIER DISTRIBUTORS       ' 'PROXIMO SPIRITS INC.       ' 'PSP WINES '\n",
      " 'REMY COINTREAU USA INC     ' 'Russian Standard Vodka     '\n",
      " 'SAZERAC CO INC             ' 'SAZERAC NORTH AMERICA INC. '\n",
      " 'SEA HAGG DISTILLERY LLC    ' 'Serralles Usa LLC          '\n",
      " 'SHAW ROSS INT L IMP LTD    ' 'SIDNEY FRANK IMPORTING CO  '\n",
      " 'SOUTHERN WINE & SPIRITS NE ' 'STAR INDUSTRIES INC.       '\n",
      " 'STATE WINE & SPIRITS   ' 'STE MICHELLE WINE ESTATES  '\n",
      " 'STOLI GROUP,(USA) LLC      ' 'SURVILLE ENTERPRISES CORP  '\n",
      " 'SWEET BABY VINEYARD        ' 'TAKARA SAKE USA INC        '\n",
      " 'TALL SHIP DISTILLERY LLC   ' 'TREASURY WINE ESTATES      '\n",
      " 'TRINCHERO FAMILY ESTATES   ' 'ULTRA BEVERAGE COMPANY LLP '\n",
      " 'VINEDREA WINES LLC         ' 'VINEXTRA INC               '\n",
      " 'VINEYARD BRANDS INC        ' 'VINILANDIA USA             '\n",
      " 'VRANKEN AMERICA            ' 'WEIN BAUER INC             '\n",
      " 'WESTERN SPIRITS BEVERAGE CO' 'WILLIAM GRANT & SONS INC   '\n",
      " 'WINE GROUP INC             ' 'ZORVINO VINEYARDS          '\n",
      " 'APPOLO VINEYARDS LLC       ' 'BRONCO WINE COMPANY        '\n",
      " 'Dunn Wine Brokers          ' 'FULCHINO VINEYARD INC      '\n",
      " 'HAUNTING WHISPER VYDS      ' 'PREMIUM PORT WINES, INC.   '\n",
      " 'SEA BREEZE CELLARS LLC     ' 'SMOKY QUARTZ DISTILLERY LLC'\n",
      " 'STELLAR IMPORTING CO LLC   ' 'THE PIERPONT GROUP LLC     '\n",
      " 'TY KU LLC                  ' 'BLACK ROCK SPIRITS LLC     '\n",
      " 'Circa Wines                ' 'TAMWORTH DISTILLING        '\n",
      " 'THE IMPORTED GRAPE LLC     ' 'WALPOLE MTN VIEW WINERY    '\n",
      " 'MILTONS DISTRIBUTING CO    ' 'ALISA CARR BEVERAGES           '\n",
      " 'CAPSTONE INTERNATIONAL     ' 'MANGO BOTTLING INC         '\n",
      " 'R.P.IMPORTS INC            ' 'SWEETWATER FARM         '\n",
      " 'UNCORKED       ' 'HIGHLAND WINE MERCHANTS LLC'\n",
      " 'PARK STREET IMPORTS LLC    ' 'IRA GOLDMAN AND WILLIAMS, LLP          '\n",
      " 'SILVER MOUNTAIN CIDERS     ' 'FANTASY FINE WINES CORP    '\n",
      " 'ADAMBA IMPORTS INTL INC    ' 'AMERICAN SPIRITS EXCHANGE  '\n",
      " 'TRUETT HURST               ' 'STARK BREWING COMPANY      '\n",
      " 'SOUTHERN GLAZERS W&S OF NE ' 'GILMANTON WINERY & VINEYARD'\n",
      " 'FLAVOR ESSENCE INC         ' 'LAUREATE IMPORTS CO        '\n",
      " 'BLACK COVE BEVERAGES       ' 'LOYAL DOG WINERY           '\n",
      " 'VINEYARD BRANDS LLC        ' 'AAPER ALCOHOL & CHEMICAL CO']\n"
     ]
    }
   ],
   "source": [
    "# cuantos y cuales son los valoreas unicos de la columna VendorName\n",
    "print(f\"se cuenta con {df_facturas_compra[\"VendorName\"].nunique()} valores únicos\")\n",
    "print(df_facturas_compra[\"VendorName\"].unique())"
   ]
  },
  {
   "cell_type": "markdown",
   "id": "7a3201e4",
   "metadata": {},
   "source": [
    "hay 3 vendedores que no cuentan con numero de vendedor puesto que hay 126 numeros de vendedor y 129 vendedores en el proceso ETL se procede a solucionarlo"
   ]
  },
  {
   "cell_type": "markdown",
   "id": "1ad22b05",
   "metadata": {},
   "source": [
    "Medidas de disperción central para análisis exploratorio"
   ]
  },
  {
   "cell_type": "code",
   "execution_count": 12,
   "id": "59894c39",
   "metadata": {},
   "outputs": [
    {
     "name": "stdout",
     "output_type": "stream",
     "text": [
      "Index(['Quantity', 'Dollars', 'Freight'], dtype='object')\n"
     ]
    }
   ],
   "source": [
    "# Seleccionar solo columnas numéricas\n",
    "columnas_numericas = df_facturas_compra[[\"Quantity\",\"Dollars\",\"Freight\"]]\n",
    "\n",
    "print(columnas_numericas.columns)"
   ]
  },
  {
   "cell_type": "code",
   "execution_count": 13,
   "id": "bad5db55",
   "metadata": {},
   "outputs": [
    {
     "data": {
      "application/vnd.microsoft.datawrangler.viewer.v0+json": {
       "columns": [
        {
         "name": "index",
         "rawType": "object",
         "type": "string"
        },
        {
         "name": "count",
         "rawType": "float64",
         "type": "float"
        },
        {
         "name": "mean",
         "rawType": "float64",
         "type": "float"
        },
        {
         "name": "std",
         "rawType": "float64",
         "type": "float"
        },
        {
         "name": "min",
         "rawType": "float64",
         "type": "float"
        },
        {
         "name": "25%",
         "rawType": "float64",
         "type": "float"
        },
        {
         "name": "50%",
         "rawType": "float64",
         "type": "float"
        },
        {
         "name": "75%",
         "rawType": "float64",
         "type": "float"
        },
        {
         "name": "max",
         "rawType": "float64",
         "type": "float"
        }
       ],
       "ref": "11f69f84-9a5a-4768-b56d-318cfee6619d",
       "rows": [
        [
         "Quantity",
         "5543.0",
         "6058.880930903842",
         "14453.33816352414",
         "1.0",
         "83.0",
         "423.0",
         "5100.5",
         "141660.0"
        ],
        [
         "Dollars",
         "5543.0",
         "58073.383642431894",
         "140234.0313766955",
         "4.14",
         "967.81",
         "4765.45",
         "44587.175",
         "1660435.88"
        ],
        [
         "Freight",
         "5543.0",
         "295.9543009200794",
         "713.5850931217906",
         "0.02",
         "5.02",
         "24.73",
         "229.66",
         "8468.22"
        ]
       ],
       "shape": {
        "columns": 8,
        "rows": 3
       }
      },
      "text/html": [
       "<div>\n",
       "<style scoped>\n",
       "    .dataframe tbody tr th:only-of-type {\n",
       "        vertical-align: middle;\n",
       "    }\n",
       "\n",
       "    .dataframe tbody tr th {\n",
       "        vertical-align: top;\n",
       "    }\n",
       "\n",
       "    .dataframe thead th {\n",
       "        text-align: right;\n",
       "    }\n",
       "</style>\n",
       "<table border=\"1\" class=\"dataframe\">\n",
       "  <thead>\n",
       "    <tr style=\"text-align: right;\">\n",
       "      <th></th>\n",
       "      <th>count</th>\n",
       "      <th>mean</th>\n",
       "      <th>std</th>\n",
       "      <th>min</th>\n",
       "      <th>25%</th>\n",
       "      <th>50%</th>\n",
       "      <th>75%</th>\n",
       "      <th>max</th>\n",
       "    </tr>\n",
       "  </thead>\n",
       "  <tbody>\n",
       "    <tr>\n",
       "      <th>Quantity</th>\n",
       "      <td>5543.0</td>\n",
       "      <td>6058.880931</td>\n",
       "      <td>14453.338164</td>\n",
       "      <td>1.00</td>\n",
       "      <td>83.00</td>\n",
       "      <td>423.00</td>\n",
       "      <td>5100.500</td>\n",
       "      <td>141660.00</td>\n",
       "    </tr>\n",
       "    <tr>\n",
       "      <th>Dollars</th>\n",
       "      <td>5543.0</td>\n",
       "      <td>58073.383642</td>\n",
       "      <td>140234.031377</td>\n",
       "      <td>4.14</td>\n",
       "      <td>967.81</td>\n",
       "      <td>4765.45</td>\n",
       "      <td>44587.175</td>\n",
       "      <td>1660435.88</td>\n",
       "    </tr>\n",
       "    <tr>\n",
       "      <th>Freight</th>\n",
       "      <td>5543.0</td>\n",
       "      <td>295.954301</td>\n",
       "      <td>713.585093</td>\n",
       "      <td>0.02</td>\n",
       "      <td>5.02</td>\n",
       "      <td>24.73</td>\n",
       "      <td>229.660</td>\n",
       "      <td>8468.22</td>\n",
       "    </tr>\n",
       "  </tbody>\n",
       "</table>\n",
       "</div>"
      ],
      "text/plain": [
       "           count          mean            std   min     25%      50%  \\\n",
       "Quantity  5543.0   6058.880931   14453.338164  1.00   83.00   423.00   \n",
       "Dollars   5543.0  58073.383642  140234.031377  4.14  967.81  4765.45   \n",
       "Freight   5543.0    295.954301     713.585093  0.02    5.02    24.73   \n",
       "\n",
       "                75%         max  \n",
       "Quantity   5100.500   141660.00  \n",
       "Dollars   44587.175  1660435.88  \n",
       "Freight     229.660     8468.22  "
      ]
     },
     "execution_count": 13,
     "metadata": {},
     "output_type": "execute_result"
    }
   ],
   "source": [
    "columnas_numericas.describe().T\n"
   ]
  },
  {
   "cell_type": "markdown",
   "id": "f8669030",
   "metadata": {},
   "source": [
    "Detección de nulos"
   ]
  },
  {
   "cell_type": "code",
   "execution_count": 29,
   "id": "31b66bb9",
   "metadata": {},
   "outputs": [
    {
     "name": "stdout",
     "output_type": "stream",
     "text": [
      "Filas que quedarían si elimino las filas con NaN: 374\n",
      "Filas con valores NaN en cada columna  \n",
      " VendorNumber       0\n",
      "VendorName         0\n",
      "InvoiceDate        0\n",
      "PONumber           0\n",
      "PODate             0\n",
      "PayDate            0\n",
      "Quantity           0\n",
      "Dollars            0\n",
      "Freight            0\n",
      "Approval        5169\n",
      "dtype: int64\n"
     ]
    }
   ],
   "source": [
    "# Cuantas filas quedarían si elimino todas las filas con NaN\n",
    "print(\"Filas que quedarían si elimino las filas con NaN:\", len(df_facturas_compra.dropna()))\n",
    "\n",
    "# conteo de NaN por columna\n",
    "print(\"Filas con valores NaN en cada columna  \\n\", df_facturas_compra.isna().sum())"
   ]
  },
  {
   "cell_type": "markdown",
   "id": "bc7303b0",
   "metadata": {},
   "source": [
    "Esos nulos encontrados se manejarán en el proceso ETL"
   ]
  },
  {
   "cell_type": "markdown",
   "id": "c9a97294",
   "metadata": {},
   "source": [
    "Con las columnas numericas hago un grafico de caja para analizar la dispersión de los datos"
   ]
  },
  {
   "cell_type": "code",
   "execution_count": null,
   "id": "ddc3fb8e",
   "metadata": {},
   "outputs": [
    {
     "data": {
      "image/png": "[encoded data removed]",
      "text/plain": [
       "<Figure size 1000x600 with 1 Axes>"
      ]
     },
     "metadata": {},
     "output_type": "display_data"
    }
   ],
   "source": [
    "\n",
    "# Crear la figura\n",
    "plt.figure(figsize=(10, 6))\n",
    "\n",
    "# Generar el boxplot\n",
    "sns.boxplot(data=df_facturas_compra[\"Quantity\"])\n",
    "\n",
    "# Título y etiquetas\n",
    "plt.title(\"Distribución de Cantidad total de unidades - Facturas de Compra\", fontsize=14)\n",
    "plt.xlabel(\"Quantity\")\n",
    "plt.ylabel(\"Valores\")\n",
    "\n",
    "# Mostrar el gráfico\n",
    "plt.show()\n",
    "\n"
   ]
  },
  {
   "cell_type": "code",
   "execution_count": null,
   "id": "10ae5883",
   "metadata": {},
   "outputs": [
    {
     "data": {
      "image/png": "[encoded data removed]",
      "text/plain": [
       "<Figure size 1000x600 with 1 Axes>"
      ]
     },
     "metadata": {},
     "output_type": "display_data"
    }
   ],
   "source": [
    "# Crear la figura\n",
    "plt.figure(figsize=(10, 6))\n",
    "\n",
    "# Generar el boxplot\n",
    "sns.boxplot(data=df_facturas_compra[\"Dollars\"])\n",
    "\n",
    "# Título y etiquetas\n",
    "plt.title(\"Distribución de total de dolares de la factura de compra\", fontsize=14)\n",
    "plt.xlabel(\"Dollars\")\n",
    "plt.ylabel(\"Valores\")\n",
    "\n",
    "# Mostrar el gráfico\n",
    "plt.show()"
   ]
  },
  {
   "cell_type": "code",
   "execution_count": null,
   "id": "de234547",
   "metadata": {},
   "outputs": [
    {
     "data": {
      "image/png": "[encoded data removed]",
      "text/plain": [
       "<Figure size 1000x600 with 1 Axes>"
      ]
     },
     "metadata": {},
     "output_type": "display_data"
    }
   ],
   "source": [
    "\n",
    "# Crear la figura\n",
    "plt.figure(figsize=(10, 6))\n",
    "\n",
    "# Generar el boxplot\n",
    "sns.boxplot(data=df_facturas_compra[\"Freight\"])\n",
    "\n",
    "# Título y etiquetas\n",
    "plt.title(\"Distribución de total del costo del flete - factura de compra\", fontsize=14)\n",
    "plt.xlabel(\"Freight\")\n",
    "plt.ylabel(\"Valores\")\n",
    "\n",
    "# Mostrar el gráfico\n",
    "plt.show()"
   ]
  },
  {
   "cell_type": "markdown",
   "id": "bb683585",
   "metadata": {},
   "source": [
    "Se ientifican outliers en las tres columnas de valores numericos en el proceso de ETL se dará manejo"
   ]
  }
 ],
 "metadata": {
  "kernelspec": {
   "display_name": "Python 3",
   "language": "python",
   "name": "python3"
  },
  "language_info": {
   "codemirror_mode": {
    "name": "ipython",
    "version": 3
   },
   "file_extension": ".py",
   "mimetype": "text/x-python",
   "name": "python",
   "nbconvert_exporter": "python",
   "pygments_lexer": "ipython3",
   "version": "3.13.7"
  }
 },
 "nbformat": 4,
 "nbformat_minor": 5
}
