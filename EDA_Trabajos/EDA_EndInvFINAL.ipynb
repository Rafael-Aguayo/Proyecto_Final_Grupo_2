{
 "cells": [
  {
   "cell_type": "markdown",
   "id": "b6a8be02",
   "metadata": {},
   "source": [
    "# EDA BegInvFINAL12312016"
   ]
  },
  {
   "cell_type": "markdown",
   "id": "529ee4ba",
   "metadata": {},
   "source": [
    "## 1- Entendimiento Básico del CSV"
   ]
  },
  {
   "cell_type": "code",
   "execution_count": 3,
   "id": "929b3b66",
   "metadata": {},
   "outputs": [],
   "source": [
    "# Importamos las librerias que vamos a usar\n",
    "import pandas as pd\n",
    "import numpy as np\n",
    "import matplotlib.pyplot as plt\n",
    "import seaborn as sns"
   ]
  },
  {
   "cell_type": "code",
   "execution_count": 4,
   "id": "27668ebf",
   "metadata": {},
   "outputs": [],
   "source": [
    "# Cargamos el dataset csv\n",
    "df = pd.read_csv(r\"C:\\Users\\USUARIO\\Downloads\\archive\\BegInvFINAL12312016.csv\")"
   ]
  },
  {
   "cell_type": "code",
   "execution_count": 5,
   "id": "1b1563f6",
   "metadata": {},
   "outputs": [
    {
     "data": {
      "text/html": [
       "<div>\n",
       "<style scoped>\n",
       "    .dataframe tbody tr th:only-of-type {\n",
       "        vertical-align: middle;\n",
       "    }\n",
       "\n",
       "    .dataframe tbody tr th {\n",
       "        vertical-align: top;\n",
       "    }\n",
       "\n",
       "    .dataframe thead th {\n",
       "        text-align: right;\n",
       "    }\n",
       "</style>\n",
       "<table border=\"1\" class=\"dataframe\">\n",
       "  <thead>\n",
       "    <tr style=\"text-align: right;\">\n",
       "      <th></th>\n",
       "      <th>InventoryId</th>\n",
       "      <th>Store</th>\n",
       "      <th>City</th>\n",
       "      <th>Brand</th>\n",
       "      <th>Description</th>\n",
       "      <th>Size</th>\n",
       "      <th>onHand</th>\n",
       "      <th>Price</th>\n",
       "      <th>startDate</th>\n",
       "    </tr>\n",
       "  </thead>\n",
       "  <tbody>\n",
       "    <tr>\n",
       "      <th>0</th>\n",
       "      <td>1_HARDERSFIELD_58</td>\n",
       "      <td>1</td>\n",
       "      <td>HARDERSFIELD</td>\n",
       "      <td>58</td>\n",
       "      <td>Gekkeikan Black &amp; Gold Sake</td>\n",
       "      <td>750mL</td>\n",
       "      <td>8</td>\n",
       "      <td>12.99</td>\n",
       "      <td>2016-01-01</td>\n",
       "    </tr>\n",
       "    <tr>\n",
       "      <th>1</th>\n",
       "      <td>1_HARDERSFIELD_60</td>\n",
       "      <td>1</td>\n",
       "      <td>HARDERSFIELD</td>\n",
       "      <td>60</td>\n",
       "      <td>Canadian Club 1858 VAP</td>\n",
       "      <td>750mL</td>\n",
       "      <td>7</td>\n",
       "      <td>10.99</td>\n",
       "      <td>2016-01-01</td>\n",
       "    </tr>\n",
       "    <tr>\n",
       "      <th>2</th>\n",
       "      <td>1_HARDERSFIELD_62</td>\n",
       "      <td>1</td>\n",
       "      <td>HARDERSFIELD</td>\n",
       "      <td>62</td>\n",
       "      <td>Herradura Silver Tequila</td>\n",
       "      <td>750mL</td>\n",
       "      <td>6</td>\n",
       "      <td>36.99</td>\n",
       "      <td>2016-01-01</td>\n",
       "    </tr>\n",
       "    <tr>\n",
       "      <th>3</th>\n",
       "      <td>1_HARDERSFIELD_63</td>\n",
       "      <td>1</td>\n",
       "      <td>HARDERSFIELD</td>\n",
       "      <td>63</td>\n",
       "      <td>Herradura Reposado Tequila</td>\n",
       "      <td>750mL</td>\n",
       "      <td>3</td>\n",
       "      <td>38.99</td>\n",
       "      <td>2016-01-01</td>\n",
       "    </tr>\n",
       "    <tr>\n",
       "      <th>4</th>\n",
       "      <td>1_HARDERSFIELD_72</td>\n",
       "      <td>1</td>\n",
       "      <td>HARDERSFIELD</td>\n",
       "      <td>72</td>\n",
       "      <td>No. 3 London Dry Gin</td>\n",
       "      <td>750mL</td>\n",
       "      <td>6</td>\n",
       "      <td>34.99</td>\n",
       "      <td>2016-01-01</td>\n",
       "    </tr>\n",
       "  </tbody>\n",
       "</table>\n",
       "</div>"
      ],
      "text/plain": [
       "         InventoryId  Store          City  Brand                  Description  \\\n",
       "0  1_HARDERSFIELD_58      1  HARDERSFIELD     58  Gekkeikan Black & Gold Sake   \n",
       "1  1_HARDERSFIELD_60      1  HARDERSFIELD     60       Canadian Club 1858 VAP   \n",
       "2  1_HARDERSFIELD_62      1  HARDERSFIELD     62     Herradura Silver Tequila   \n",
       "3  1_HARDERSFIELD_63      1  HARDERSFIELD     63   Herradura Reposado Tequila   \n",
       "4  1_HARDERSFIELD_72      1  HARDERSFIELD     72         No. 3 London Dry Gin   \n",
       "\n",
       "    Size  onHand  Price   startDate  \n",
       "0  750mL       8  12.99  2016-01-01  \n",
       "1  750mL       7  10.99  2016-01-01  \n",
       "2  750mL       6  36.99  2016-01-01  \n",
       "3  750mL       3  38.99  2016-01-01  \n",
       "4  750mL       6  34.99  2016-01-01  "
      ]
     },
     "execution_count": 5,
     "metadata": {},
     "output_type": "execute_result"
    }
   ],
   "source": [
    "# Mostramos las primeras filas del dataset\n",
    "df.head()"
   ]
  },
  {
   "cell_type": "code",
   "execution_count": 6,
   "id": "4a2d2c35",
   "metadata": {},
   "outputs": [
    {
     "data": {
      "text/html": [
       "<div>\n",
       "<style scoped>\n",
       "    .dataframe tbody tr th:only-of-type {\n",
       "        vertical-align: middle;\n",
       "    }\n",
       "\n",
       "    .dataframe tbody tr th {\n",
       "        vertical-align: top;\n",
       "    }\n",
       "\n",
       "    .dataframe thead th {\n",
       "        text-align: right;\n",
       "    }\n",
       "</style>\n",
       "<table border=\"1\" class=\"dataframe\">\n",
       "  <thead>\n",
       "    <tr style=\"text-align: right;\">\n",
       "      <th></th>\n",
       "      <th>InventoryId</th>\n",
       "      <th>Store</th>\n",
       "      <th>City</th>\n",
       "      <th>Brand</th>\n",
       "      <th>Description</th>\n",
       "      <th>Size</th>\n",
       "      <th>onHand</th>\n",
       "      <th>Price</th>\n",
       "      <th>startDate</th>\n",
       "    </tr>\n",
       "  </thead>\n",
       "  <tbody>\n",
       "    <tr>\n",
       "      <th>206524</th>\n",
       "      <td>79_BALLYMENA_46985</td>\n",
       "      <td>79</td>\n",
       "      <td>BALLYMENA</td>\n",
       "      <td>46985</td>\n",
       "      <td>Rodney Strong Cab Svgn Alexa</td>\n",
       "      <td>750mL</td>\n",
       "      <td>13</td>\n",
       "      <td>22.99</td>\n",
       "      <td>2016-01-01</td>\n",
       "    </tr>\n",
       "    <tr>\n",
       "      <th>206525</th>\n",
       "      <td>79_BALLYMENA_47014</td>\n",
       "      <td>79</td>\n",
       "      <td>BALLYMENA</td>\n",
       "      <td>47014</td>\n",
       "      <td>Juan Gil Jumilla Rd</td>\n",
       "      <td>750mL</td>\n",
       "      <td>13</td>\n",
       "      <td>13.99</td>\n",
       "      <td>2016-01-01</td>\n",
       "    </tr>\n",
       "    <tr>\n",
       "      <th>206526</th>\n",
       "      <td>79_BALLYMENA_47090</td>\n",
       "      <td>79</td>\n",
       "      <td>BALLYMENA</td>\n",
       "      <td>47090</td>\n",
       "      <td>Napa Cellars Cab Svgn Napa</td>\n",
       "      <td>750mL</td>\n",
       "      <td>19</td>\n",
       "      <td>23.99</td>\n",
       "      <td>2016-01-01</td>\n",
       "    </tr>\n",
       "    <tr>\n",
       "      <th>206527</th>\n",
       "      <td>79_BALLYMENA_90011</td>\n",
       "      <td>79</td>\n",
       "      <td>BALLYMENA</td>\n",
       "      <td>90011</td>\n",
       "      <td>Ch Pichon Longville 12 Pauil</td>\n",
       "      <td>750mL</td>\n",
       "      <td>12</td>\n",
       "      <td>144.99</td>\n",
       "      <td>2016-01-01</td>\n",
       "    </tr>\n",
       "    <tr>\n",
       "      <th>206528</th>\n",
       "      <td>79_BALLYMENA_90089</td>\n",
       "      <td>79</td>\n",
       "      <td>BALLYMENA</td>\n",
       "      <td>90089</td>\n",
       "      <td>Ch Lynch Bages 12 Pauillac</td>\n",
       "      <td>750mL</td>\n",
       "      <td>24</td>\n",
       "      <td>119.99</td>\n",
       "      <td>2016-01-01</td>\n",
       "    </tr>\n",
       "  </tbody>\n",
       "</table>\n",
       "</div>"
      ],
      "text/plain": [
       "               InventoryId  Store       City  Brand  \\\n",
       "206524  79_BALLYMENA_46985     79  BALLYMENA  46985   \n",
       "206525  79_BALLYMENA_47014     79  BALLYMENA  47014   \n",
       "206526  79_BALLYMENA_47090     79  BALLYMENA  47090   \n",
       "206527  79_BALLYMENA_90011     79  BALLYMENA  90011   \n",
       "206528  79_BALLYMENA_90089     79  BALLYMENA  90089   \n",
       "\n",
       "                         Description   Size  onHand   Price   startDate  \n",
       "206524  Rodney Strong Cab Svgn Alexa  750mL      13   22.99  2016-01-01  \n",
       "206525           Juan Gil Jumilla Rd  750mL      13   13.99  2016-01-01  \n",
       "206526    Napa Cellars Cab Svgn Napa  750mL      19   23.99  2016-01-01  \n",
       "206527  Ch Pichon Longville 12 Pauil  750mL      12  144.99  2016-01-01  \n",
       "206528    Ch Lynch Bages 12 Pauillac  750mL      24  119.99  2016-01-01  "
      ]
     },
     "execution_count": 6,
     "metadata": {},
     "output_type": "execute_result"
    }
   ],
   "source": [
    "# Mostramos las últimas filas del dataset\n",
    "df.tail()"
   ]
  },
  {
   "cell_type": "code",
   "execution_count": 8,
   "id": "f4a813c3",
   "metadata": {},
   "outputs": [
    {
     "data": {
      "text/plain": [
       "(206529, 9)"
      ]
     },
     "execution_count": 8,
     "metadata": {},
     "output_type": "execute_result"
    }
   ],
   "source": [
    "# Vemos la dimensión del dataset\n",
    "df.shape"
   ]
  },
  {
   "cell_type": "code",
   "execution_count": 9,
   "id": "835474b2",
   "metadata": {},
   "outputs": [
    {
     "name": "stdout",
     "output_type": "stream",
     "text": [
      "<class 'pandas.core.frame.DataFrame'>\n",
      "RangeIndex: 206529 entries, 0 to 206528\n",
      "Data columns (total 9 columns):\n",
      " #   Column       Non-Null Count   Dtype  \n",
      "---  ------       --------------   -----  \n",
      " 0   InventoryId  206529 non-null  object \n",
      " 1   Store        206529 non-null  int64  \n",
      " 2   City         206529 non-null  object \n",
      " 3   Brand        206529 non-null  int64  \n",
      " 4   Description  206529 non-null  object \n",
      " 5   Size         206529 non-null  object \n",
      " 6   onHand       206529 non-null  int64  \n",
      " 7   Price        206529 non-null  float64\n",
      " 8   startDate    206529 non-null  object \n",
      "dtypes: float64(1), int64(3), object(5)\n",
      "memory usage: 14.2+ MB\n"
     ]
    }
   ],
   "source": [
    "# Vemos tipo de dato y objetos nulos\n",
    "df.info()"
   ]
  },
  {
   "cell_type": "code",
   "execution_count": 10,
   "id": "e0c04594",
   "metadata": {},
   "outputs": [
    {
     "name": "stdout",
     "output_type": "stream",
     "text": [
      "               Store          Brand         onHand          Price\n",
      "count  206529.000000  206529.000000  206529.000000  206529.000000\n",
      "mean       42.122457   13761.482320      20.429455      22.253910\n",
      "std        23.191393   13059.429355      31.467342      70.178964\n",
      "min         1.000000      58.000000       0.000000       0.000000\n",
      "25%        22.000000    3746.000000       7.000000       9.990000\n",
      "50%        42.000000    8010.000000      12.000000      14.990000\n",
      "75%        64.000000   22143.000000      21.000000      21.990000\n",
      "max        79.000000   90090.000000    1251.000000   13999.900000\n"
     ]
    }
   ],
   "source": [
    "# Vemos las estadísticas descriptivas de las columnas numéricas\n",
    "# 1. Seleccionar las columnas numéricas\n",
    "df_numerico = df.select_dtypes(include=['number'])\n",
    "\n",
    "# 2. Aplicar describe() al nuevo DataFrame (solo con números)\n",
    "estadisticas_numericas = df_numerico.describe()\n",
    "\n",
    "print(estadisticas_numericas)"
   ]
  },
  {
   "cell_type": "markdown",
   "id": "2f1840bb",
   "metadata": {},
   "source": [
    "### Valores únicos"
   ]
  },
  {
   "cell_type": "code",
   "execution_count": 14,
   "id": "0367b773",
   "metadata": {},
   "outputs": [
    {
     "name": "stdout",
     "output_type": "stream",
     "text": [
      "--- Conteo de Valores Únicos por Columna ---\n",
      "InventoryId    206529\n",
      "Store              79\n",
      "City               67\n",
      "Brand            8094\n",
      "Description      7291\n",
      "Size               41\n",
      "onHand            474\n",
      "Price             329\n",
      "startDate           1\n",
      "dtype: int64\n"
     ]
    }
   ],
   "source": [
    "# Conteo de valores únicos por columna\n",
    "conteo_unicos = df.nunique()\n",
    "\n",
    "# Para ver los resultados en un formato fácil de leer:\n",
    "print(\"--- Conteo de Valores Únicos por Columna ---\")\n",
    "print(conteo_unicos)"
   ]
  },
  {
   "cell_type": "code",
   "execution_count": 15,
   "id": "92083313",
   "metadata": {},
   "outputs": [
    {
     "name": "stdout",
     "output_type": "stream",
     "text": [
      "\n",
      "--- Porcentaje de Valores Únicos Respecto al Total de Filas ---\n",
      "InventoryId    100.000000\n",
      "Store            0.038251\n",
      "City             0.032441\n",
      "Brand            3.919062\n",
      "Description      3.530255\n",
      "Size             0.019852\n",
      "onHand           0.229508\n",
      "Price            0.159300\n",
      "startDate        0.000484\n",
      "dtype: float64\n"
     ]
    }
   ],
   "source": [
    "# Contar el número total de filas\n",
    "total_filas = len(df)\n",
    "\n",
    "# Calcular el porcentaje de valores únicos\n",
    "porcentaje_unicos = (conteo_unicos / total_filas) * 100\n",
    "\n",
    "print(\"\\n--- Porcentaje de Valores Únicos Respecto al Total de Filas ---\")\n",
    "print(porcentaje_unicos)"
   ]
  },
  {
   "cell_type": "markdown",
   "id": "ec82b0e0",
   "metadata": {},
   "source": [
    "## 2 - Análisis de Calidad de Datos"
   ]
  },
  {
   "cell_type": "markdown",
   "id": "6097eb27",
   "metadata": {},
   "source": [
    "### Valores Faltantes (NaNs)"
   ]
  },
  {
   "cell_type": "code",
   "execution_count": 16,
   "id": "63135ab1",
   "metadata": {},
   "outputs": [
    {
     "name": "stdout",
     "output_type": "stream",
     "text": [
      "--- Porcentaje de Valores Faltantes (NaNs) por Columna ---\n",
      "InventoryId    0.0\n",
      "Store          0.0\n",
      "City           0.0\n",
      "Brand          0.0\n",
      "Description    0.0\n",
      "Size           0.0\n",
      "onHand         0.0\n",
      "Price          0.0\n",
      "startDate      0.0\n",
      "dtype: float64\n"
     ]
    }
   ],
   "source": [
    "# 1. Contar los valores nulos por columna:\n",
    "conteo_nulos = df.isnull().sum()\n",
    "\n",
    "# 2. Calcular el total de filas:\n",
    "total_filas = len(df)\n",
    "\n",
    "# 3. Calcular el porcentaje y redondear:\n",
    "porcentaje_nulos = (conteo_nulos / total_filas) * 100\n",
    "\n",
    "# 4. Mostrar el resultado (opcionalmente filtrando las columnas con NaNs > 0):\n",
    "print(\"--- Porcentaje de Valores Faltantes (NaNs) por Columna ---\")\n",
    "print(porcentaje_nulos.sort_values(ascending=False))"
   ]
  },
  {
   "cell_type": "markdown",
   "id": "510b852f",
   "metadata": {},
   "source": [
    "El dataset está libre de nulos"
   ]
  },
  {
   "cell_type": "markdown",
   "id": "64627ca7",
   "metadata": {},
   "source": [
    "### Detección de Valores Atípicos (Outliers)"
   ]
  },
  {
   "cell_type": "code",
   "execution_count": 17,
   "id": "2ea75d78",
   "metadata": {},
   "outputs": [
    {
     "data": {
      "image/png": "[encoded data removed]",
      "text/plain": [
       "<Figure size 1800x1000 with 4 Axes>"
      ]
     },
     "metadata": {},
     "output_type": "display_data"
    }
   ],
   "source": [
    "# Boxplots para detectar outliers en columnas numéricas\n",
    "sns.set_style(\"whitegrid\")\n",
    "plt.figure(figsize=(18, 10))\n",
    "num_cols = df.select_dtypes(include=['number']).columns\n",
    "for i, col in enumerate(num_cols):\n",
    "    plt.subplot(3, 4, i + 1)\n",
    "    sns.boxplot(y=df[col])\n",
    "    plt.title(f'Boxplot de {col}')"
   ]
  },
  {
   "cell_type": "markdown",
   "id": "ee0e9c07",
   "metadata": {},
   "source": [
    "📦 Boxplot de Store (Tienda)\n",
    "Distribución: La variable Store parece estar relativamente bien distribuida.\n",
    "\n",
    "La mediana (línea en el centro de la caja) se encuentra cerca de 40.\n",
    "\n",
    "La mayoría de los datos (el 50% central, representado por la caja) se encuentra entre aproximadamente 20 y 65.\n",
    "\n",
    "Valores Atípicos (Outliers): No se observan outliers. Los bigotes (las líneas que se extienden de la caja) cubren todo el rango de datos, desde 0 hasta 80, indicando que todos los valores están dentro del rango intercuartílico extendido.\n",
    "\n",
    "🏷️ Boxplot de Brand (Marca)\n",
    "Distribución: La variable Brand presenta una distribución altamente sesgada o concentrada.\n",
    "\n",
    "La caja es muy pequeña y está ubicada en la parte baja, indicando que el 50% central de los datos se concentra en valores bajos (aproximadamente entre 5,000 y 20,000).\n",
    "\n",
    "La mediana es muy baja, quizás alrededor de 10,000.\n",
    "\n",
    "Valores Atípicos (Outliers): Se observa un claro outlier. El círculo en la parte superior indica un valor extremo de Brand cercano a 80,000. Este valor es significativamente más alto que el resto de los datos y deberá ser revisado durante la fase ETL.\n",
    "\n",
    "📦 Boxplot de onHand (Inventario)\n",
    "Distribución: La variable onHand muestra una distribución extremadamente concentrada en valores bajos.\n",
    "\n",
    "La caja está prácticamente en la base (cercana a 0), lo que significa que la gran mayoría de los ítems tienen un inventario muy bajo.\n",
    "\n",
    "Valores Atípicos (Outliers): Se observa una gran cantidad de outliers, representados por numerosos círculos que se extienden hasta cerca de 1200. Esto sugiere que, aunque la mayoría de los ítems tienen poco stock, hay unos pocos ítems con niveles de inventario excepcionalmente altos, lo que es común en datos de inventario.\n",
    "\n",
    "💰 Boxplot de Price (Precio)\n",
    "Distribución: La variable Price también está extremadamente concentrada en la parte inferior, similar a onHand.\n",
    "\n",
    "La caja está muy cerca de 0, lo que indica que la mayoría de los precios son muy bajos.\n",
    "\n",
    "Valores Atípicos (Outliers): Hay una gran cantidad de outliers, extendiéndose hasta un valor máximo de aproximadamente 14,000. Esto indica que existen productos con precios mucho más altos que la media del catálogo, lo cual es un hallazgo importante para el análisis."
   ]
  },
  {
   "cell_type": "code",
   "execution_count": 20,
   "id": "f6e89bc2",
   "metadata": {},
   "outputs": [
    {
     "name": "stderr",
     "output_type": "stream",
     "text": [
      "C:\\Users\\USUARIO\\AppData\\Local\\Temp\\ipykernel_12612\\1888125727.py:12: FutureWarning: \n",
      "\n",
      "Passing `palette` without assigning `hue` is deprecated and will be removed in v0.14.0. Assign the `x` variable to `hue` and set `legend=False` for the same effect.\n",
      "\n",
      "  sns.countplot(x='Store', data=df_top_5, order=top_5_stores, palette='viridis')\n"
     ]
    },
    {
     "data": {
      "image/png": "[encoded data removed]",
      "text/plain": [
       "<Figure size 800x500 with 1 Axes>"
      ]
     },
     "metadata": {},
     "output_type": "display_data"
    }
   ],
   "source": [
    "## 1. Calcular el Top 5 de Tiendas\n",
    "\n",
    "# Contar la frecuencia de aparición de cada ID de tienda y tomar el Top 5\n",
    "top_5_stores = df['Store'].value_counts().nlargest(5).index\n",
    "\n",
    "# Filtrar el DataFrame original para incluir solo los datos de esas 5 tiendas\n",
    "df_top_5 = df[df['Store'].isin(top_5_stores)]\n",
    "\n",
    "## 2. Graficar la Frecuencia del Top 5 (Gráfico de Barras)\n",
    "sns.set_style(\"whitegrid\")\n",
    "plt.figure(figsize=(8, 5))\n",
    "sns.countplot(x='Store', data=df_top_5, order=top_5_stores, palette='viridis')\n",
    "plt.title('Frecuencia de Productos por Tienda (Top 5)', fontsize=14)\n",
    "plt.xlabel('ID de Tienda', fontsize=12)\n",
    "plt.ylabel('Conteo de Productos', fontsize=12)\n",
    "plt.grid(axis='y', linestyle='--')\n",
    "plt.show()"
   ]
  },
  {
   "cell_type": "code",
   "execution_count": 23,
   "id": "053bc4d3",
   "metadata": {},
   "outputs": [
    {
     "data": {
      "text/plain": [
       "<Figure size 1200x600 with 0 Axes>"
      ]
     },
     "metadata": {},
     "output_type": "display_data"
    },
    {
     "data": {
      "image/png": "[encoded data removed]",
      "text/plain": [
       "<Figure size 1000x600 with 1 Axes>"
      ]
     },
     "metadata": {},
     "output_type": "display_data"
    }
   ],
   "source": [
    "sns.set_style(\"whitegrid\")\n",
    "plt.figure(figsize=(12, 6))\n",
    "## 2. Graficar el Violin Plot del Precio por cada una de esas 5 Tiendas\n",
    "plt.figure(figsize=(10, 6))\n",
    "sns.violinplot(x='Store', y='Price', data=df_top_5, palette='Spectral', \n",
    "               hue='Store', legend=False)\n",
    "\n",
    "plt.title('Distribución de Precio por Tienda (Top 5)', fontsize=14)\n",
    "plt.xlabel('ID de Tienda', fontsize=12)\n",
    "plt.ylabel('Precio', fontsize=12)\n",
    "plt.show()\n"
   ]
  }
 ],
 "metadata": {
  "kernelspec": {
   "display_name": "Python 3",
   "language": "python",
   "name": "python3"
  },
  "language_info": {
   "codemirror_mode": {
    "name": "ipython",
    "version": 3
   },
   "file_extension": ".py",
   "mimetype": "text/x-python",
   "name": "python",
   "nbconvert_exporter": "python",
   "pygments_lexer": "ipython3",
   "version": "3.13.5"
  }
 },
 "nbformat": 4,
 "nbformat_minor": 5
}
