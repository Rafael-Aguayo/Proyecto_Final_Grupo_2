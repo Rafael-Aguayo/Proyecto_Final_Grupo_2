{
 "cells": [
  {
   "cell_type": "markdown",
   "id": "6b579170",
   "metadata": {},
   "source": [
    "# EDA"
   ]
  },
  {
   "cell_type": "markdown",
   "id": "034aeb7a",
   "metadata": {},
   "source": [
    "#### importo el csv y reviso los datos"
   ]
  },
  {
   "cell_type": "code",
   "execution_count": 79,
   "id": "b8b681da",
   "metadata": {},
   "outputs": [
    {
     "name": "stdout",
     "output_type": "stream",
     "text": [
      "<class 'pandas.core.frame.DataFrame'>\n",
      "RangeIndex: 12261 entries, 0 to 12260\n",
      "Data columns (total 9 columns):\n",
      " #   Column          Non-Null Count  Dtype  \n",
      "---  ------          --------------  -----  \n",
      " 0   Brand           12261 non-null  int64  \n",
      " 1   Description     12260 non-null  object \n",
      " 2   Price           12261 non-null  float64\n",
      " 3   Size            12260 non-null  object \n",
      " 4   Volume          12260 non-null  object \n",
      " 5   Classification  12261 non-null  int64  \n",
      " 6   PurchasePrice   12261 non-null  float64\n",
      " 7   VendorNumber    12261 non-null  int64  \n",
      " 8   VendorName      12261 non-null  object \n",
      "dtypes: float64(2), int64(3), object(4)\n",
      "memory usage: 862.2+ KB\n"
     ]
    },
    {
     "data": {
      "text/plain": [
       "(12261, 9)"
      ]
     },
     "execution_count": 79,
     "metadata": {},
     "output_type": "execute_result"
    }
   ],
   "source": [
    "import pandas as pd\n",
    "import matplotlib.pyplot as plt\n",
    "import numpy as np\n",
    "\n",
    "df = pd.read_csv(\"C:/Users/pablo/Desktop/proyecto_final/2017PurchasePricesDec.csv\")\n",
    "\n",
    "\n",
    "df.info()\n",
    "\n",
    "df.shape"
   ]
  },
  {
   "cell_type": "code",
   "execution_count": 5,
   "id": "2d4cb17e",
   "metadata": {},
   "outputs": [
    {
     "data": {
      "text/html": [
       "<div>\n",
       "<style scoped>\n",
       "    .dataframe tbody tr th:only-of-type {\n",
       "        vertical-align: middle;\n",
       "    }\n",
       "\n",
       "    .dataframe tbody tr th {\n",
       "        vertical-align: top;\n",
       "    }\n",
       "\n",
       "    .dataframe thead th {\n",
       "        text-align: right;\n",
       "    }\n",
       "</style>\n",
       "<table border=\"1\" class=\"dataframe\">\n",
       "  <thead>\n",
       "    <tr style=\"text-align: right;\">\n",
       "      <th></th>\n",
       "      <th>Brand</th>\n",
       "      <th>Description</th>\n",
       "      <th>Price</th>\n",
       "      <th>Size</th>\n",
       "      <th>Volume</th>\n",
       "      <th>Classification</th>\n",
       "      <th>PurchasePrice</th>\n",
       "      <th>VendorNumber</th>\n",
       "      <th>VendorName</th>\n",
       "    </tr>\n",
       "  </thead>\n",
       "  <tbody>\n",
       "    <tr>\n",
       "      <th>0</th>\n",
       "      <td>58</td>\n",
       "      <td>Gekkeikan Black &amp; Gold Sake</td>\n",
       "      <td>12.99</td>\n",
       "      <td>750mL</td>\n",
       "      <td>750</td>\n",
       "      <td>1</td>\n",
       "      <td>9.28</td>\n",
       "      <td>8320</td>\n",
       "      <td>SHAW ROSS INT L IMP LTD</td>\n",
       "    </tr>\n",
       "    <tr>\n",
       "      <th>1</th>\n",
       "      <td>62</td>\n",
       "      <td>Herradura Silver Tequila</td>\n",
       "      <td>36.99</td>\n",
       "      <td>750mL</td>\n",
       "      <td>750</td>\n",
       "      <td>1</td>\n",
       "      <td>28.67</td>\n",
       "      <td>1128</td>\n",
       "      <td>BROWN-FORMAN CORP</td>\n",
       "    </tr>\n",
       "    <tr>\n",
       "      <th>2</th>\n",
       "      <td>63</td>\n",
       "      <td>Herradura Reposado Tequila</td>\n",
       "      <td>38.99</td>\n",
       "      <td>750mL</td>\n",
       "      <td>750</td>\n",
       "      <td>1</td>\n",
       "      <td>30.46</td>\n",
       "      <td>1128</td>\n",
       "      <td>BROWN-FORMAN CORP</td>\n",
       "    </tr>\n",
       "    <tr>\n",
       "      <th>3</th>\n",
       "      <td>72</td>\n",
       "      <td>No. 3 London Dry Gin</td>\n",
       "      <td>34.99</td>\n",
       "      <td>750mL</td>\n",
       "      <td>750</td>\n",
       "      <td>1</td>\n",
       "      <td>26.11</td>\n",
       "      <td>9165</td>\n",
       "      <td>ULTRA BEVERAGE COMPANY LLP</td>\n",
       "    </tr>\n",
       "    <tr>\n",
       "      <th>4</th>\n",
       "      <td>75</td>\n",
       "      <td>Three Olives Tomato Vodka</td>\n",
       "      <td>14.99</td>\n",
       "      <td>750mL</td>\n",
       "      <td>750</td>\n",
       "      <td>1</td>\n",
       "      <td>10.94</td>\n",
       "      <td>7245</td>\n",
       "      <td>PROXIMO SPIRITS INC.</td>\n",
       "    </tr>\n",
       "  </tbody>\n",
       "</table>\n",
       "</div>"
      ],
      "text/plain": [
       "   Brand                  Description  Price   Size Volume  Classification  \\\n",
       "0     58  Gekkeikan Black & Gold Sake  12.99  750mL    750               1   \n",
       "1     62     Herradura Silver Tequila  36.99  750mL    750               1   \n",
       "2     63   Herradura Reposado Tequila  38.99  750mL    750               1   \n",
       "3     72         No. 3 London Dry Gin  34.99  750mL    750               1   \n",
       "4     75    Three Olives Tomato Vodka  14.99  750mL    750               1   \n",
       "\n",
       "   PurchasePrice  VendorNumber                   VendorName  \n",
       "0           9.28          8320  SHAW ROSS INT L IMP LTD      \n",
       "1          28.67          1128  BROWN-FORMAN CORP            \n",
       "2          30.46          1128  BROWN-FORMAN CORP            \n",
       "3          26.11          9165  ULTRA BEVERAGE COMPANY LLP   \n",
       "4          10.94          7245  PROXIMO SPIRITS INC.         "
      ]
     },
     "execution_count": 5,
     "metadata": {},
     "output_type": "execute_result"
    }
   ],
   "source": [
    "df.head()"
   ]
  },
  {
   "cell_type": "markdown",
   "id": "ef54bcc3",
   "metadata": {},
   "source": [
    "#### mascara para identificar nulos por fila"
   ]
  },
  {
   "cell_type": "code",
   "execution_count": 28,
   "id": "f35c6753",
   "metadata": {},
   "outputs": [
    {
     "data": {
      "text/html": [
       "<div>\n",
       "<style scoped>\n",
       "    .dataframe tbody tr th:only-of-type {\n",
       "        vertical-align: middle;\n",
       "    }\n",
       "\n",
       "    .dataframe tbody tr th {\n",
       "        vertical-align: top;\n",
       "    }\n",
       "\n",
       "    .dataframe thead th {\n",
       "        text-align: right;\n",
       "    }\n",
       "</style>\n",
       "<table border=\"1\" class=\"dataframe\">\n",
       "  <thead>\n",
       "    <tr style=\"text-align: right;\">\n",
       "      <th></th>\n",
       "      <th>Brand</th>\n",
       "      <th>Description</th>\n",
       "      <th>Price</th>\n",
       "      <th>Size</th>\n",
       "      <th>Volume</th>\n",
       "      <th>Classification</th>\n",
       "      <th>PurchasePrice</th>\n",
       "      <th>VendorNumber</th>\n",
       "      <th>VendorName</th>\n",
       "    </tr>\n",
       "  </thead>\n",
       "  <tbody>\n",
       "    <tr>\n",
       "      <th>7915</th>\n",
       "      <td>4202</td>\n",
       "      <td>NaN</td>\n",
       "      <td>0.0</td>\n",
       "      <td>NaN</td>\n",
       "      <td>NaN</td>\n",
       "      <td>1</td>\n",
       "      <td>11.19</td>\n",
       "      <td>480</td>\n",
       "      <td>BACARDI USA INC</td>\n",
       "    </tr>\n",
       "  </tbody>\n",
       "</table>\n",
       "</div>"
      ],
      "text/plain": [
       "      Brand Description  Price Size Volume  Classification  PurchasePrice  \\\n",
       "7915   4202         NaN    0.0  NaN    NaN               1          11.19   \n",
       "\n",
       "      VendorNumber                   VendorName  \n",
       "7915           480  BACARDI USA INC              "
      ]
     },
     "execution_count": 28,
     "metadata": {},
     "output_type": "execute_result"
    }
   ],
   "source": [
    "\n",
    "mask = df.isna().any(axis=1)          # Series booleana por fila\n",
    "rows_mask= df[mask]               #solo filas con nulos\n",
    "rows_mask"
   ]
  },
  {
   "cell_type": "markdown",
   "id": "6054f48f",
   "metadata": {},
   "source": [
    "#### conteo nulos\n"
   ]
  },
  {
   "cell_type": "code",
   "execution_count": 31,
   "id": "6c6125d8",
   "metadata": {},
   "outputs": [
    {
     "data": {
      "text/plain": [
       "Brand             0\n",
       "Description       1\n",
       "Price             0\n",
       "Size              1\n",
       "Volume            1\n",
       "Classification    0\n",
       "PurchasePrice     0\n",
       "VendorNumber      0\n",
       "VendorName        0\n",
       "dtype: int64"
      ]
     },
     "execution_count": 31,
     "metadata": {},
     "output_type": "execute_result"
    }
   ],
   "source": [
    "nulos = df.isnull().sum()\n",
    "nulos"
   ]
  },
  {
   "cell_type": "markdown",
   "id": "07cd27db",
   "metadata": {},
   "source": [
    "#### reviso el tipo de dato de cada columna"
   ]
  },
  {
   "cell_type": "code",
   "execution_count": 15,
   "id": "a8db7627",
   "metadata": {},
   "outputs": [
    {
     "data": {
      "text/plain": [
       "(['Brand', 'Price', 'Classification', 'PurchasePrice', 'VendorNumber'],\n",
       " ['Description', 'Size', 'Volume', 'VendorName'])"
      ]
     },
     "execution_count": 15,
     "metadata": {},
     "output_type": "execute_result"
    }
   ],
   "source": [
    "num_cols = df.select_dtypes(include=['number']).columns.tolist()\n",
    "cat_cols = df.select_dtypes(include=['object','string','category']).columns.tolist()\n",
    "num_cols, cat_cols"
   ]
  },
  {
   "cell_type": "markdown",
   "id": "18f70c56",
   "metadata": {},
   "source": [
    "#### Top categorías y verificacion de 'unknown','na' y espacio en blanco en las columnas"
   ]
  },
  {
   "cell_type": "code",
   "execution_count": 27,
   "id": "cc8be532",
   "metadata": {},
   "outputs": [
    {
     "name": "stdout",
     "output_type": "stream",
     "text": [
      "\n",
      "Description  top10\n"
     ]
    },
    {
     "data": {
      "text/plain": [
       "Description\n",
       "bacardi superior rum       7\n",
       "jagermeister liqueur       7\n",
       "jack daniels no 7 black    6\n",
       "patron silver tequila      6\n",
       "capt morgan spiced rum     6\n",
       "jim beam                   6\n",
       "chivas regal               5\n",
       "bombay sapphire gin        5\n",
       "hennessy vs cognac         5\n",
       "amaretto disaronno         5\n",
       "Name: count, dtype: Int64"
      ]
     },
     "metadata": {},
     "output_type": "display_data"
    },
    {
     "name": "stdout",
     "output_type": "stream",
     "text": [
      "\n",
      "Size  top10\n"
     ]
    },
    {
     "data": {
      "text/plain": [
       "Size\n",
       "750ml         9823\n",
       "1500ml         497\n",
       "1750ml         433\n",
       "1000ml         427\n",
       "375ml          318\n",
       "50ml           276\n",
       "3000ml         104\n",
       "187ml           52\n",
       "500ml           51\n",
       "187ml 4 pk      48\n",
       "Name: count, dtype: Int64"
      ]
     },
     "metadata": {},
     "output_type": "display_data"
    },
    {
     "name": "stdout",
     "output_type": "stream",
     "text": [
      "\n",
      "Volume  top10\n"
     ]
    },
    {
     "data": {
      "text/plain": [
       "Volume\n",
       "750     9840\n",
       "1500     497\n",
       "1750     433\n",
       "1000     428\n",
       "375      323\n",
       "50       292\n",
       "3000     104\n",
       "187      104\n",
       "500       51\n",
       "5000      44\n",
       "Name: count, dtype: Int64"
      ]
     },
     "metadata": {},
     "output_type": "display_data"
    },
    {
     "name": "stdout",
     "output_type": "stream",
     "text": [
      "\n",
      "VendorName  top10\n"
     ]
    },
    {
     "data": {
      "text/plain": [
       "VendorName\n",
       "martignetti companies         1639\n",
       "ultra beverage company llp     965\n",
       "m s walker inc                 960\n",
       "perfecta wines                 897\n",
       "e & j gallo winery             527\n",
       "constellation brands inc       481\n",
       "pine state trading co          480\n",
       "diageo north america inc       449\n",
       "jim beam brands company        415\n",
       "southern wine & spirits ne     408\n",
       "Name: count, dtype: Int64"
      ]
     },
     "metadata": {},
     "output_type": "display_data"
    },
    {
     "name": "stdout",
     "output_type": "stream",
     "text": [
      "=====================================================\n"
     ]
    },
    {
     "data": {
      "text/plain": [
       "Size           0.000326\n",
       "Volume         0.000326\n",
       "Description    0.000000\n",
       "VendorName     0.000000\n",
       "Name: %_valores_placeholder, dtype: float64"
      ]
     },
     "execution_count": 27,
     "metadata": {},
     "output_type": "execute_result"
    }
   ],
   "source": [
    "for c in cat_cols[:5]:  \n",
    "    vc = df[c].astype('string').str.strip().str.lower().value_counts(dropna=False).head(10)\n",
    "    print(f\"\\n{c}  top10\")\n",
    "    display(vc)\n",
    "\n",
    "print('=====================================================')\n",
    "\n",
    "# detecta literales problemáticos\n",
    "literals = {'unknown','na',''}\n",
    "bad = {}\n",
    "for c in cat_cols:\n",
    "    s = df[c].astype('string').str.strip().str.lower()\n",
    "    bad[c] = s.isin(literals).mean()\n",
    "pd.Series(bad, name='%_valores_placeholder').sort_values(ascending=False).head(10)\n",
    "    \n"
   ]
  },
  {
   "cell_type": "markdown",
   "id": "06e54231",
   "metadata": {},
   "source": [
    "#### valores unicos de size y volume"
   ]
  },
  {
   "cell_type": "code",
   "execution_count": 54,
   "id": "ff7e5581",
   "metadata": {},
   "outputs": [
    {
     "data": {
      "text/plain": [
       "(array(['750', '1000', '1750', '50', '375', '100', '200', '300', 'Unknown',\n",
       "        '250', '1500', '3000', '5000', '4000', '187', '150', '500', '720',\n",
       "        '650', '330', '18000', '180', '6000', '20', nan, '20000', '162.5',\n",
       "        '400', '1100', '600', '19500', '560', '3750', '9000'], dtype=object),\n",
       " array(['750mL', '1000mL', '1750mL', '50mL', '375mL', '100mL 4 Pk',\n",
       "        '50mL 5 Pk', '100mL', '200mL', '50mL 4 Pk', '50mL 3 Pk', '300mL',\n",
       "        '200mL 4 Pk', 'Unknown', '750mL 2 Pk', '250mL 4 Pk', '1500mL',\n",
       "        '3000mL', '5000mL', '4000mL', '187mL 4 Pk', '150mL', '187mL',\n",
       "        '500mL', '720mL', '650mL', '200mL 3 Pk', '187mL 3 Pk', '330mL',\n",
       "        '250mL', '750mL + 3/', '18000mL', '180mL', '750mL + 4/', '6000mL',\n",
       "        '1000mL 2 Pk', '750mL 12 P', '750mL 6 Pk', '20mL 5 Pk', nan,\n",
       "        '375mL 2 Pk', '20000mL', '50mL 12 Pk', '750mL 3 Pk', '375mL 3 Pk',\n",
       "        '750mL + 1/', '200mL 5 Pk', '162.5mL', '400mL', '1100ml', '600mL',\n",
       "        '19500mL', '560mL', '3750mL', '750mL  3', '1500ml', '9000mL'],\n",
       "       dtype=object))"
      ]
     },
     "execution_count": 54,
     "metadata": {},
     "output_type": "execute_result"
    }
   ],
   "source": [
    "df['Volume'].unique(),df['Size'].unique()"
   ]
  },
  {
   "cell_type": "markdown",
   "id": "53a74374",
   "metadata": {},
   "source": [
    "#### verifico cuantos 'Unknown' hay en cada columna"
   ]
  },
  {
   "cell_type": "code",
   "execution_count": 53,
   "id": "c2549c1d",
   "metadata": {},
   "outputs": [
    {
     "name": "stdout",
     "output_type": "stream",
     "text": [
      "Brand 0\n",
      "Description 0\n",
      "Price 0\n",
      "Size 4\n",
      "Volume 4\n",
      "Classification 0\n",
      "PurchasePrice 0\n",
      "VendorNumber 0\n",
      "VendorName 0\n"
     ]
    }
   ],
   "source": [
    "\n",
    "def contar_unknown(df, col):\n",
    "    s = df[col].astype('string').str.strip().str.casefold()\n",
    "    return int((s == 'unknown').sum())\n",
    "\n",
    "for col in df.columns:\n",
    "    print(col, contar_unknown(df, col))\n",
    "\n"
   ]
  },
  {
   "cell_type": "code",
   "execution_count": null,
   "id": "76adeb49",
   "metadata": {},
   "outputs": [
    {
     "name": "stdout",
     "output_type": "stream",
     "text": [
      "Brand             string[python]\n",
      "Description       string[python]\n",
      "Price                    float64\n",
      "Size              string[python]\n",
      "Volume                   float64\n",
      "Classification    string[python]\n",
      "PurchasePrice            float64\n",
      "VendorNumber      string[python]\n",
      "VendorName        string[python]\n",
      "dtype: object\n"
     ]
    }
   ],
   "source": [
    "# copio el dataset para no hacer ningun cambio\n",
    "df_eda = df.copy()\n",
    "\n",
    "#NOMBRES DE COLUMNAS\n",
    "price_col            = 'Price'          # precio del producto\n",
    "purchase_price_col   = 'PurchasePrice'  # precio de compra\n",
    "brand_col            = 'Brand'          # marca \n",
    "classification_col   = 'Classification' # categoría/tipo\n",
    "size_col             = 'Size'           # presentación\n",
    "volume_col           = 'Volume'         # volumen\n",
    "vendor_name_col      = 'VendorName'     # proveedor\n",
    "vendor_number_col    = 'VendorNumber'   # id proveedor\n",
    "description_col      = 'Description'    # descripción\n",
    "\n",
    "\n",
    "#Numéricas: convertir a número; si no se puede, quedan NaN\n",
    "for c in [price_col, purchase_price_col, volume_col]:\n",
    "    if c in df_eda.columns:\n",
    "        df_eda[c] = pd.to_numeric(df_eda[c], errors='coerce')\n",
    "\n",
    "# 2) Textuales / categóricas: a 'string' para análisis y limpieza básica\n",
    "for c in [brand_col, classification_col, size_col, vendor_name_col, vendor_number_col, description_col]:\n",
    "    if c in df_eda.columns:\n",
    "        df_eda[c] = df_eda[c].astype('string').str.strip()\n",
    "\n",
    "# Chequeo rápido de tipos resultantes\n",
    "print(df_eda.dtypes)\n"
   ]
  },
  {
   "cell_type": "markdown",
   "id": "00b48b54",
   "metadata": {},
   "source": [
    "#### graficos\n"
   ]
  },
  {
   "cell_type": "code",
   "execution_count": null,
   "id": "58ad30f4",
   "metadata": {},
   "outputs": [
    {
     "data": {
      "image/png": "[encoded data removed]",
      "text/plain": [
       "<Figure size 700x300 with 1 Axes>"
      ]
     },
     "metadata": {},
     "output_type": "display_data"
    }
   ],
   "source": [
    "#distribucion de price\n",
    "\n",
    "s = df_eda[price_col].dropna()\n",
    "\n",
    "plt.figure(figsize=(7,3))\n",
    "plt.boxplot(s, vert=False)\n",
    "plt.title('Distribución de Price')\n",
    "plt.xlabel(price_col)       \n",
    "plt.tight_layout()\n",
    "plt.show()"
   ]
  },
  {
   "cell_type": "code",
   "execution_count": null,
   "id": "9f216483",
   "metadata": {},
   "outputs": [
    {
     "name": "stderr",
     "output_type": "stream",
     "text": [
      "C:\\Users\\pablo\\AppData\\Local\\Temp\\ipykernel_79300\\1162475811.py:21: MatplotlibDeprecationWarning: The 'labels' parameter of boxplot() has been renamed 'tick_labels' since Matplotlib 3.9; support for the old name will be dropped in 3.11.\n",
      "  plt.boxplot(datos, labels=orden_b, vert=True)\n"
     ]
    },
    {
     "data": {
      "image/png": "[encoded data removed]",
      "text/plain": [
       "<Figure size 1000x500 with 1 Axes>"
      ]
     },
     "metadata": {},
     "output_type": "display_data"
    }
   ],
   "source": [
    "#top 15 de brands\n",
    "\n",
    "\n",
    "top_brands = (df_eda[brand_col]\n",
    "              .dropna()\n",
    "              .value_counts()\n",
    "              .head(15)\n",
    "              .index\n",
    "              .tolist())\n",
    "\n",
    "# Subconjunto para graficar\n",
    "sub_b = df_eda[df_eda[brand_col].isin(top_brands)][[brand_col, price_col]].dropna()\n",
    "\n",
    "# Ordeno marcas por mediana de precio (mejor lectura del boxplot)\n",
    "orden_b = (sub_b.groupby(brand_col)[price_col]\n",
    "                .median()\n",
    "                .sort_values()\n",
    "                .index\n",
    "                .tolist())\n",
    "\n",
    "# Boxplot manual respetando el orden\n",
    "plt.figure(figsize=(10, 5))\n",
    "datos = [sub_b.loc[sub_b[brand_col] == b, price_col] for b in orden_b]\n",
    "plt.boxplot(datos, labels=orden_b, vert=True)\n",
    "plt.xticks(rotation=45, ha='right')\n",
    "plt.title(f'{price_col} por {brand_col} (Top 15)')\n",
    "plt.ylabel(price_col)\n",
    "plt.tight_layout()\n",
    "plt.show()"
   ]
  },
  {
   "cell_type": "code",
   "execution_count": null,
   "id": "a41651e4",
   "metadata": {},
   "outputs": [
    {
     "name": "stderr",
     "output_type": "stream",
     "text": [
      "C:\\Users\\pablo\\AppData\\Local\\Temp\\ipykernel_79300\\3063206057.py:18: MatplotlibDeprecationWarning: The 'labels' parameter of boxplot() has been renamed 'tick_labels' since Matplotlib 3.9; support for the old name will be dropped in 3.11.\n",
      "  plt.boxplot(datos_c, labels=orden_c, vert=True)\n"
     ]
    },
    {
     "data": {
      "image/png": "[encoded data removed]",
      "text/plain": [
       "<Figure size 1000x500 with 1 Axes>"
      ]
     },
     "metadata": {},
     "output_type": "display_data"
    }
   ],
   "source": [
    "# price por calssification\n",
    "\n",
    "\n",
    "top_cls = (df_eda[classification_col]\n",
    "           .dropna()\n",
    "           .value_counts()\n",
    "           \n",
    "           .index\n",
    "           .tolist())\n",
    "\n",
    "sub_c = df_eda[df_eda[classification_col].isin(top_cls)][[classification_col, price_col]].dropna()\n",
    "\n",
    "orden_c = (sub_c.groupby(classification_col)[price_col]\n",
    "                .median()\n",
    "                .sort_values()\n",
    "                .index\n",
    "                .tolist())\n",
    "\n",
    "plt.figure(figsize=(10, 5))\n",
    "datos_c = [sub_c.loc[sub_c[classification_col] == c, price_col] for c in orden_c]\n",
    "plt.boxplot(datos_c, labels=orden_c, vert=True)\n",
    "plt.xticks(rotation=45, ha='right')\n",
    "plt.title(f'{price_col} por {classification_col}')\n",
    "plt.ylabel(price_col)\n",
    "plt.tight_layout()\n",
    "plt.show()"
   ]
  },
  {
   "cell_type": "code",
   "execution_count": null,
   "id": "6a285380",
   "metadata": {},
   "outputs": [
    {
     "data": {
      "image/png": "[encoded data removed]",
      "text/plain": [
       "<Figure size 900x500 with 1 Axes>"
      ]
     },
     "metadata": {},
     "output_type": "display_data"
    }
   ],
   "source": [
    "#top 15 size\n",
    "\n",
    "vc_size = (df_eda[size_col]\n",
    "           .dropna()\n",
    "           .str.lower()\n",
    "           .value_counts()\n",
    "           .head(15))\n",
    "\n",
    "plt.figure(figsize=(9, 5))\n",
    "plt.barh(y=vc_size.index[::-1], width=vc_size.values[::-1])\n",
    "plt.title(f'Top 15 {size_col}')\n",
    "plt.xlabel('Cantidad')\n",
    "plt.ylabel(size_col)\n",
    "plt.tight_layout()\n",
    "plt.show()"
   ]
  },
  {
   "cell_type": "code",
   "execution_count": null,
   "id": "d8ad69dd",
   "metadata": {},
   "outputs": [
    {
     "data": {
      "image/png": "[encoded data removed]",
      "text/plain": [
       "<Figure size 900x500 with 1 Axes>"
      ]
     },
     "metadata": {},
     "output_type": "display_data"
    }
   ],
   "source": [
    "#top 15 volume\n",
    "\n",
    "\n",
    "vc_vol = (df_eda[volume_col]\n",
    "          .dropna()\n",
    "          .astype(float)\n",
    "          .value_counts()\n",
    "          .head(15)\n",
    "          .sort_index())          # orden por valor\n",
    "\n",
    "ypos = np.arange(len(vc_vol))\n",
    "\n",
    "plt.figure(figsize=(9,5))\n",
    "plt.barh(y=ypos, width=vc_vol.values[::-1])\n",
    "plt.yticks(ypos, vc_vol.index[::-1].astype(int))   # etiquetas numéricas como texto\n",
    "plt.title(f'Top 15 {volume_col}')\n",
    "plt.xlabel('Cantidad')\n",
    "plt.ylabel(volume_col)\n",
    "plt.tight_layout()\n",
    "plt.show()"
   ]
  }
 ],
 "metadata": {
  "kernelspec": {
   "display_name": "Python 3",
   "language": "python",
   "name": "python3"
  },
  "language_info": {
   "codemirror_mode": {
    "name": "ipython",
    "version": 3
   },
   "file_extension": ".py",
   "mimetype": "text/x-python",
   "name": "python",
   "nbconvert_exporter": "python",
   "pygments_lexer": "ipython3",
   "version": "3.13.7"
  }
 },
 "nbformat": 4,
 "nbformat_minor": 5
}
